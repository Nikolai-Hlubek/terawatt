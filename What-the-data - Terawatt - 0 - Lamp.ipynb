{
 "cells": [
  {
   "cell_type": "markdown",
   "metadata": {},
   "source": [
    "# Start morse code"
   ]
  },
  {
   "cell_type": "code",
   "execution_count": 1,
   "metadata": {
    "collapsed": false
   },
   "outputs": [
    {
     "name": "stdout",
     "output_type": "stream",
     "text": [
      "Connected with result code 0\n",
      "Start\n",
      "Start publishing\n",
      "End publishing\n",
      "Start publishing\n",
      "End publishing\n",
      "Start publishing\n",
      "End publishing\n",
      "Start publishing\n",
      "End publishing\n",
      "Start publishing\n",
      "End publishing\n",
      "Start publishing\n",
      "End publishing\n",
      "Start publishing\n",
      "End publishing\n",
      "Start publishing\n",
      "End publishing\n",
      "Start publishing\n",
      "End publishing\n",
      "Start publishing\n",
      "End publishing\n",
      "Start publishing\n",
      "End publishing\n",
      "Start publishing\n",
      "End publishing\n",
      "Start publishing\n",
      "End publishing\n",
      "Start publishing\n",
      "End publishing\n",
      "Start publishing\n",
      "End publishing\n",
      "Start publishing\n",
      "End publishing\n",
      "Start publishing\n",
      "End publishing\n",
      "Start publishing\n",
      "End publishing\n",
      "Start publishing\n",
      "End publishing\n",
      "Start publishing\n",
      "End publishing\n",
      "Start publishing\n",
      "End publishing\n",
      "Start publishing\n",
      "End publishing\n",
      "Start publishing\n",
      "End publishing\n",
      "Start publishing\n",
      "End publishing\n",
      "Start publishing\n",
      "End publishing\n",
      "Start publishing\n",
      "End publishing\n",
      "Start publishing\n",
      "End publishing\n",
      "Start publishing\n",
      "End publishing\n"
     ]
    }
   ],
   "source": [
    "from IPython.display import display\n",
    "from ipywidgets import widgets\n",
    "\n",
    "import morse.morse\n",
    "\n",
    "def on_button_clicked(b):\n",
    "    morse.morse.send_morse_code()\n",
    "\n",
    "button = widgets.Button(description='INITIATE!')\n",
    "button.on_click(on_button_clicked)\n",
    "display(button)\n"
   ]
  },
  {
   "cell_type": "code",
   "execution_count": null,
   "metadata": {
    "collapsed": true
   },
   "outputs": [],
   "source": []
  }
 ],
 "metadata": {
  "kernelspec": {
   "display_name": "Python 3",
   "language": "python",
   "name": "python3"
  },
  "language_info": {
   "codemirror_mode": {
    "name": "ipython",
    "version": 3
   },
   "file_extension": ".py",
   "mimetype": "text/x-python",
   "name": "python",
   "nbconvert_exporter": "python",
   "pygments_lexer": "ipython3",
   "version": "3.5.2"
  },
  "widgets": {
   "state": {
    "3341e86e3ecf46009794f7ec144d16ce": {
     "views": [
      {
       "cell_index": 1
      }
     ]
    }
   },
   "version": "1.2.0"
  }
 },
 "nbformat": 4,
 "nbformat_minor": 1
}
