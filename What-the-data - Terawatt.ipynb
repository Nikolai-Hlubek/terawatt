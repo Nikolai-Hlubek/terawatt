{
 "cells": [
  {
   "cell_type": "markdown",
   "metadata": {
    "slideshow": {
     "slide_type": "slide"
    }
   },
   "source": [
    "# Projekt Terawatt\n",
    "\n",
    "Simulation der Systemdelays am Energiecampus."
   ]
  },
  {
   "cell_type": "code",
   "execution_count": 2,
   "metadata": {
    "collapsed": true,
    "slideshow": {
     "slide_type": "skip"
    }
   },
   "outputs": [],
   "source": [
    "import iplantuml"
   ]
  },
  {
   "cell_type": "code",
   "execution_count": 36,
   "metadata": {
    "collapsed": false,
    "scrolled": false,
    "slideshow": {
     "slide_type": "slide"
    }
   },
   "outputs": [
    {
     "data": {
      "image/svg+xml": [
       "<svg height=\"1096px\" style=\"width:1669px;height:1096px;\" version=\"1.1\" viewBox=\"0 0 1669 1096\" width=\"1669px\" xmlns=\"http://www.w3.org/2000/svg\" xmlns:xlink=\"http://www.w3.org/1999/xlink\"><defs><filter height=\"300%\" id=\"f1\" width=\"300%\" x=\"-1\" y=\"-1\"><feGaussianBlur result=\"blurOut\" stdDeviation=\"2.0\"/><feColorMatrix in=\"blurOut\" result=\"blurOut2\" type=\"matrix\" values=\"0 0 0 0 0 0 0 0 0 0 0 0 0 0 0 0 0 0 .4 0\"/><feOffset dx=\"4.0\" dy=\"4.0\" in=\"blurOut2\" result=\"blurOut3\"/><feBlend in=\"SourceGraphic\" in2=\"blurOut3\" mode=\"normal\"/></filter></defs><g><rect fill=\"#FEFECE\" filter=\"url(#f1)\" height=\"1065\" rx=\"12.5\" ry=\"12.5\" style=\"stroke: #A80036; stroke-width: 1.5;\" width=\"1076\" x=\"22\" y=\"24\"/><rect fill=\"#FFFFFF\" height=\"1032.7031\" rx=\"12.5\" ry=\"12.5\" style=\"stroke: #FFFFFF; stroke-width: 1.0;\" width=\"1070\" x=\"25\" y=\"53.2969\"/><line style=\"stroke: #A80036; stroke-width: 1.5;\" x1=\"22\" x2=\"1098\" y1=\"50.2969\" y2=\"50.2969\"/><text fill=\"#000000\" font-family=\"sans-serif\" font-size=\"14\" lengthAdjust=\"spacingAndGlyphs\" textLength=\"108\" x=\"506\" y=\"40.9951\">Energiecampus</text><rect fill=\"#FEFECE\" filter=\"url(#f1)\" height=\"200.36\" rx=\"12.5\" ry=\"12.5\" style=\"stroke: #A80036; stroke-width: 1.5;\" width=\"619\" x=\"54\" y=\"856.64\"/><rect fill=\"#FFFFFF\" height=\"168.0631\" rx=\"12.5\" ry=\"12.5\" style=\"stroke: #FFFFFF; stroke-width: 1.0;\" width=\"613\" x=\"57\" y=\"885.9369\"/><line style=\"stroke: #A80036; stroke-width: 1.5;\" x1=\"54\" x2=\"673\" y1=\"882.9369\" y2=\"882.9369\"/><text fill=\"#000000\" font-family=\"sans-serif\" font-size=\"14\" lengthAdjust=\"spacingAndGlyphs\" textLength=\"85\" x=\"321\" y=\"873.6351\">Verbraucher</text><rect fill=\"#FEFECE\" filter=\"url(#f1)\" height=\"101\" rx=\"12.5\" ry=\"12.5\" style=\"stroke: #A80036; stroke-width: 1.5;\" width=\"540\" x=\"1122\" y=\"410\"/><rect fill=\"#FFFFFF\" height=\"68.7031\" rx=\"12.5\" ry=\"12.5\" style=\"stroke: #FFFFFF; stroke-width: 1.0;\" width=\"534\" x=\"1125\" y=\"439.2969\"/><line style=\"stroke: #A80036; stroke-width: 1.5;\" x1=\"1122\" x2=\"1662\" y1=\"436.2969\" y2=\"436.2969\"/><text fill=\"#000000\" font-family=\"sans-serif\" font-size=\"14\" lengthAdjust=\"spacingAndGlyphs\" textLength=\"68\" x=\"1358\" y=\"426.9951\">Versorger</text><rect fill=\"#FEFECE\" filter=\"url(#f1)\" height=\"78.2031\" rx=\"12.5\" ry=\"12.5\" style=\"stroke: #A80036; stroke-width: 1.5;\" width=\"273\" x=\"161.5\" y=\"555\"/><line style=\"stroke: #A80036; stroke-width: 1.5;\" x1=\"161.5\" x2=\"434.5\" y1=\"581.2969\" y2=\"581.2969\"/><text fill=\"#000000\" font-family=\"sans-serif\" font-size=\"14\" lengthAdjust=\"spacingAndGlyphs\" textLength=\"82\" x=\"257\" y=\"572.9951\">Gasmischer</text><text fill=\"#000000\" font-family=\"sans-serif\" font-size=\"12\" lengthAdjust=\"spacingAndGlyphs\" textLength=\"173\" x=\"166.5\" y=\"597.4355\">Wasserstoff aus Elektrolyse</text><text fill=\"#000000\" font-family=\"sans-serif\" font-size=\"12\" lengthAdjust=\"spacingAndGlyphs\" textLength=\"253\" x=\"166.5\" y=\"611.4043\">Methanhaltiges Gas aus Methanisierung</text><text fill=\"#000000\" font-family=\"sans-serif\" font-size=\"12\" lengthAdjust=\"spacingAndGlyphs\" textLength=\"184\" x=\"166.5\" y=\"625.373\">Erdgas dem öffentlichen Netz</text><rect fill=\"#FEFECE\" filter=\"url(#f1)\" height=\"106.1406\" rx=\"12.5\" ry=\"12.5\" style=\"stroke: #A80036; stroke-width: 1.5;\" width=\"557\" x=\"524.5\" y=\"693\"/><line style=\"stroke: #A80036; stroke-width: 1.5;\" x1=\"524.5\" x2=\"1081.5\" y1=\"719.2969\" y2=\"719.2969\"/><text fill=\"#000000\" font-family=\"sans-serif\" font-size=\"14\" lengthAdjust=\"spacingAndGlyphs\" textLength=\"162\" x=\"722\" y=\"710.9951\">Wärmeübergabestation</text><text fill=\"#000000\" font-family=\"sans-serif\" font-size=\"12\" lengthAdjust=\"spacingAndGlyphs\" textLength=\"309\" x=\"529.5\" y=\"735.4355\">Fernwärmenetz zu Zentralheizung des Gebäudes.</text><text fill=\"#000000\" font-family=\"sans-serif\" font-size=\"12\" lengthAdjust=\"spacingAndGlyphs\" textLength=\"537\" x=\"529.5\" y=\"749.4043\">Zusätzlich zwei Power-to-heat Module als steuerbare elektrische Last genutzt werden.</text><text fill=\"#000000\" font-family=\"sans-serif\" font-size=\"12\" lengthAdjust=\"spacingAndGlyphs\" textLength=\"179\" x=\"529.5\" y=\"763.373\">Leistung (thermisch) : 15 kW</text><text fill=\"#000000\" font-family=\"sans-serif\" font-size=\"12\" lengthAdjust=\"spacingAndGlyphs\" textLength=\"227\" x=\"529.5\" y=\"777.3418\">Leistung (elektrisch) P2H: 1.2-18 kW</text><text fill=\"#000000\" font-family=\"sans-serif\" font-size=\"12\" lengthAdjust=\"spacingAndGlyphs\" textLength=\"248\" x=\"529.5\" y=\"791.3105\">Rückkühler Leistung (thermisch): 45 kW</text><rect fill=\"#FEFECE\" filter=\"url(#f1)\" height=\"64.2344\" rx=\"12.5\" ry=\"12.5\" style=\"stroke: #A80036; stroke-width: 1.5;\" width=\"340\" x=\"112\" y=\"714\"/><line style=\"stroke: #A80036; stroke-width: 1.5;\" x1=\"112\" x2=\"452\" y1=\"740.2969\" y2=\"740.2969\"/><text fill=\"#000000\" font-family=\"sans-serif\" font-size=\"14\" lengthAdjust=\"spacingAndGlyphs\" textLength=\"130\" x=\"217\" y=\"731.9951\">Blockheizkraftwerk</text><text fill=\"#000000\" font-family=\"sans-serif\" font-size=\"12\" lengthAdjust=\"spacingAndGlyphs\" textLength=\"320\" x=\"117\" y=\"756.4355\">Erdgas, Flüssiggas, maximal 20% Wasserstoffanteil</text><text fill=\"#000000\" font-family=\"sans-serif\" font-size=\"12\" lengthAdjust=\"spacingAndGlyphs\" textLength=\"190\" x=\"117\" y=\"770.4043\">Leistung (elektrisch) : 5-16 kW</text><rect fill=\"#FEFECE\" filter=\"url(#f1)\" height=\"50.2656\" rx=\"12.5\" ry=\"12.5\" style=\"stroke: #A80036; stroke-width: 1.5;\" width=\"164\" x=\"697\" y=\"859\"/><line style=\"stroke: #A80036; stroke-width: 1.5;\" x1=\"697\" x2=\"861\" y1=\"885.2969\" y2=\"885.2969\"/><text fill=\"#000000\" font-family=\"sans-serif\" font-size=\"14\" lengthAdjust=\"spacingAndGlyphs\" textLength=\"144\" x=\"707\" y=\"876.9951\">thermischerSpeicher</text><text fill=\"#000000\" font-family=\"sans-serif\" font-size=\"12\" lengthAdjust=\"spacingAndGlyphs\" textLength=\"85\" x=\"702\" y=\"901.4355\">1000l Wasser</text><rect fill=\"#FEFECE\" filter=\"url(#f1)\" height=\"92.1719\" rx=\"12.5\" ry=\"12.5\" style=\"stroke: #A80036; stroke-width: 1.5;\" width=\"370\" x=\"75\" y=\"169\"/><line style=\"stroke: #A80036; stroke-width: 1.5;\" x1=\"75\" x2=\"445\" y1=\"195.2969\" y2=\"195.2969\"/><text fill=\"#000000\" font-family=\"sans-serif\" font-size=\"14\" lengthAdjust=\"spacingAndGlyphs\" textLength=\"114\" x=\"203\" y=\"186.9951\">Batteriespeicher</text><text fill=\"#000000\" font-family=\"sans-serif\" font-size=\"12\" lengthAdjust=\"spacingAndGlyphs\" textLength=\"350\" x=\"80\" y=\"211.4355\">Lithium-Ionen Akkumulatoren und Superkondensatoren.</text><text fill=\"#000000\" font-family=\"sans-serif\" font-size=\"12\" lengthAdjust=\"spacingAndGlyphs\" textLength=\"99\" x=\"80\" y=\"225.4043\">Leistung: 50 kW</text><text fill=\"#000000\" font-family=\"sans-serif\" font-size=\"12\" lengthAdjust=\"spacingAndGlyphs\" textLength=\"176\" x=\"80\" y=\"239.373\">Kapazität: 30 kWh + 300 Wh</text><text fill=\"#000000\" font-family=\"sans-serif\" font-size=\"12\" lengthAdjust=\"spacingAndGlyphs\" textLength=\"121\" x=\"80\" y=\"253.3418\">Latenzzeit: &lt; 10 ms</text><rect fill=\"#FEFECE\" filter=\"url(#f1)\" height=\"50.2656\" rx=\"12.5\" ry=\"12.5\" style=\"stroke: #A80036; stroke-width: 1.5;\" width=\"150\" x=\"406\" y=\"59\"/><line style=\"stroke: #A80036; stroke-width: 1.5;\" x1=\"406\" x2=\"556\" y1=\"85.2969\" y2=\"85.2969\"/><text fill=\"#000000\" font-family=\"sans-serif\" font-size=\"14\" lengthAdjust=\"spacingAndGlyphs\" textLength=\"84\" x=\"439\" y=\"76.9951\">Photovoltaik</text><text fill=\"#000000\" font-family=\"sans-serif\" font-size=\"12\" lengthAdjust=\"spacingAndGlyphs\" textLength=\"130\" x=\"411\" y=\"101.4355\">Leistung: ca. 10 kWp</text><rect fill=\"#FEFECE\" filter=\"url(#f1)\" height=\"64.2344\" rx=\"12.5\" ry=\"12.5\" style=\"stroke: #A80036; stroke-width: 1.5;\" width=\"229\" x=\"145.5\" y=\"321\"/><line style=\"stroke: #A80036; stroke-width: 1.5;\" x1=\"145.5\" x2=\"374.5\" y1=\"347.2969\" y2=\"347.2969\"/><text fill=\"#000000\" font-family=\"sans-serif\" font-size=\"14\" lengthAdjust=\"spacingAndGlyphs\" textLength=\"75\" x=\"222.5\" y=\"338.9951\">Elektrolyse</text><text fill=\"#000000\" font-family=\"sans-serif\" font-size=\"12\" lengthAdjust=\"spacingAndGlyphs\" textLength=\"110\" x=\"150.5\" y=\"363.4355\">el. Leistung 10kW</text><text fill=\"#000000\" font-family=\"sans-serif\" font-size=\"12\" lengthAdjust=\"spacingAndGlyphs\" textLength=\"209\" x=\"150.5\" y=\"377.4043\">Wasserstoffproduktion 2,92 m3/h</text><rect fill=\"#FEFECE\" filter=\"url(#f1)\" height=\"64.2344\" rx=\"12.5\" ry=\"12.5\" style=\"stroke: #A80036; stroke-width: 1.5;\" width=\"193\" x=\"409.5\" y=\"321\"/><line style=\"stroke: #A80036; stroke-width: 1.5;\" x1=\"409.5\" x2=\"602.5\" y1=\"347.2969\" y2=\"347.2969\"/><text fill=\"#000000\" font-family=\"sans-serif\" font-size=\"14\" lengthAdjust=\"spacingAndGlyphs\" textLength=\"116\" x=\"448\" y=\"338.9951\">Elektroheizstäbe</text><text fill=\"#000000\" font-family=\"sans-serif\" font-size=\"12\" lengthAdjust=\"spacingAndGlyphs\" textLength=\"118\" x=\"414.5\" y=\"363.4355\">el. Leistung: 24 kW</text><text fill=\"#000000\" font-family=\"sans-serif\" font-size=\"12\" lengthAdjust=\"spacingAndGlyphs\" textLength=\"173\" x=\"414.5\" y=\"377.4043\">thermische Leistung: 11 kW</text><rect fill=\"#FEFECE\" filter=\"url(#f1)\" height=\"50.2656\" rx=\"12.5\" ry=\"12.5\" style=\"stroke: #A80036; stroke-width: 1.5;\" width=\"195\" x=\"137.5\" y=\"445\"/><line style=\"stroke: #A80036; stroke-width: 1.5;\" x1=\"137.5\" x2=\"332.5\" y1=\"471.2969\" y2=\"471.2969\"/><text fill=\"#000000\" font-family=\"sans-serif\" font-size=\"14\" lengthAdjust=\"spacingAndGlyphs\" textLength=\"107\" x=\"181.5\" y=\"462.9951\">Methanisierung</text><text fill=\"#000000\" font-family=\"sans-serif\" font-size=\"12\" lengthAdjust=\"spacingAndGlyphs\" textLength=\"175\" x=\"142.5\" y=\"487.4355\">Methanproduktion: 0,2 m³/h</text><rect fill=\"#FEFECE\" filter=\"url(#f1)\" height=\"64.2344\" rx=\"12.5\" ry=\"12.5\" style=\"stroke: #A80036; stroke-width: 1.5;\" width=\"209\" x=\"78.5\" y=\"969\"/><line style=\"stroke: #A80036; stroke-width: 1.5;\" x1=\"78.5\" x2=\"287.5\" y1=\"995.2969\" y2=\"995.2969\"/><text fill=\"#000000\" font-family=\"sans-serif\" font-size=\"14\" lengthAdjust=\"spacingAndGlyphs\" textLength=\"79\" x=\"143.5\" y=\"986.9951\">Elektroauto</text><text fill=\"#000000\" font-family=\"sans-serif\" font-size=\"12\" lengthAdjust=\"spacingAndGlyphs\" textLength=\"189\" x=\"83.5\" y=\"1011.4355\">Lade- Entlade-Leistung : ?? kW</text><text fill=\"#000000\" font-family=\"sans-serif\" font-size=\"12\" lengthAdjust=\"spacingAndGlyphs\" textLength=\"115\" x=\"83.5\" y=\"1025.4043\">Kapazität : 22 kWh</text><rect fill=\"#FEFECE\" filter=\"url(#f1)\" height=\"50.2656\" rx=\"12.5\" ry=\"12.5\" style=\"stroke: #A80036; stroke-width: 1.5;\" width=\"116\" x=\"533\" y=\"976\"/><line style=\"stroke: #A80036; stroke-width: 1.5;\" x1=\"533\" x2=\"649\" y1=\"1002.2969\" y2=\"1002.2969\"/><text fill=\"#000000\" font-family=\"sans-serif\" font-size=\"14\" lengthAdjust=\"spacingAndGlyphs\" textLength=\"96\" x=\"543\" y=\"993.9951\">Raumheizung</text><text fill=\"#000000\" font-family=\"sans-serif\" font-size=\"12\" lengthAdjust=\"spacingAndGlyphs\" textLength=\"34\" x=\"538\" y=\"1018.4355\">?? kW</text><rect fill=\"#FEFECE\" filter=\"url(#f1)\" height=\"50.2656\" rx=\"12.5\" ry=\"12.5\" style=\"stroke: #A80036; stroke-width: 1.5;\" width=\"175\" x=\"322.5\" y=\"976\"/><line style=\"stroke: #A80036; stroke-width: 1.5;\" x1=\"322.5\" x2=\"497.5\" y1=\"1002.2969\" y2=\"1002.2969\"/><text fill=\"#000000\" font-family=\"sans-serif\" font-size=\"14\" lengthAdjust=\"spacingAndGlyphs\" textLength=\"155\" x=\"332.5\" y=\"993.9951\">Warmwasserbereitung</text><text fill=\"#000000\" font-family=\"sans-serif\" font-size=\"12\" lengthAdjust=\"spacingAndGlyphs\" textLength=\"34\" x=\"327.5\" y=\"1018.4355\">?? kW</text><rect fill=\"#FEFECE\" filter=\"url(#f1)\" height=\"50.2656\" rx=\"12.5\" ry=\"12.5\" style=\"stroke: #A80036; stroke-width: 1.5;\" width=\"146\" x=\"1500\" y=\"445\"/><line style=\"stroke: #A80036; stroke-width: 1.5;\" x1=\"1500\" x2=\"1646\" y1=\"471.2969\" y2=\"471.2969\"/><text fill=\"#000000\" font-family=\"sans-serif\" font-size=\"14\" lengthAdjust=\"spacingAndGlyphs\" textLength=\"41\" x=\"1552.5\" y=\"462.9951\">Strom</text><text fill=\"#000000\" font-family=\"sans-serif\" font-size=\"12\" lengthAdjust=\"spacingAndGlyphs\" textLength=\"126\" x=\"1505\" y=\"487.4355\">elektrische Leistung</text><rect fill=\"#FEFECE\" filter=\"url(#f1)\" height=\"50.2656\" rx=\"12.5\" ry=\"12.5\" style=\"stroke: #A80036; stroke-width: 1.5;\" width=\"144\" x=\"1138\" y=\"445\"/><line style=\"stroke: #A80036; stroke-width: 1.5;\" x1=\"1138\" x2=\"1282\" y1=\"471.2969\" y2=\"471.2969\"/><text fill=\"#000000\" font-family=\"sans-serif\" font-size=\"14\" lengthAdjust=\"spacingAndGlyphs\" textLength=\"48\" x=\"1186\" y=\"462.9951\">Erdgas</text><text fill=\"#000000\" font-family=\"sans-serif\" font-size=\"12\" lengthAdjust=\"spacingAndGlyphs\" textLength=\"124\" x=\"1143\" y=\"487.4355\">chemische Leistung</text><rect fill=\"#FEFECE\" filter=\"url(#f1)\" height=\"50.2656\" rx=\"12.5\" ry=\"12.5\" style=\"stroke: #A80036; stroke-width: 1.5;\" width=\"147\" x=\"1317.5\" y=\"445\"/><line style=\"stroke: #A80036; stroke-width: 1.5;\" x1=\"1317.5\" x2=\"1464.5\" y1=\"471.2969\" y2=\"471.2969\"/><text fill=\"#000000\" font-family=\"sans-serif\" font-size=\"14\" lengthAdjust=\"spacingAndGlyphs\" textLength=\"77\" x=\"1352.5\" y=\"462.9951\">Fernwärme</text><text fill=\"#000000\" font-family=\"sans-serif\" font-size=\"12\" lengthAdjust=\"spacingAndGlyphs\" textLength=\"127\" x=\"1322.5\" y=\"487.4355\">thermische Leistung</text><path d=\"M1549.06,495.17 C1483.82,559.188 1294.59,732.759 1098,799 C1001.977,831.356 260.365,770.748 187,840.64 C183.807,843.682 181.885,847.61 180.816,851.844 \" fill=\"none\" style=\"stroke: #0000FF; stroke-width: 1.0;\"/><polygon fill=\"#0000FF\" points=\"179.928,856.92,185.4186,848.7436,180.7893,851.9948,177.5382,847.3655,179.928,856.92\" style=\"stroke: #0000FF; stroke-width: 1.0;\"/><path d=\"M1162.91,495.069 C1143.32,504.045 1120.04,513.405 1098,519 C872.643,576.199 601.582,590.283 439.881,593.149 \" fill=\"none\" style=\"stroke: #FF0000; stroke-width: 1.0;\"/><polygon fill=\"#FF0000\" points=\"434.652,593.239,443.7193,597.0841,439.6513,593.1533,443.5821,589.0853,434.652,593.239\" style=\"stroke: #FF0000; stroke-width: 1.0;\"/><path d=\"M1346.37,495.208 C1331.69,502.99 1315.23,511.526 1300,519 C1174.45,580.591 1028.55,646.252 927.443,690.836 \" fill=\"none\" style=\"stroke: #008000; stroke-width: 1.0;\"/><polygon fill=\"#008000\" points=\"922.663,692.943,932.5118,692.9753,927.2387,690.9273,929.2867,685.6542,922.663,692.943\" style=\"stroke: #008000; stroke-width: 1.0;\"/><path d=\"M395.283,778.037 C422.621,785.213 451.796,792.611 479,799 C568.237,819.959 593.583,813.057 681,840.64 C695.293,845.15 710.334,851.037 724.224,856.981 \" fill=\"none\" style=\"stroke: #008000; stroke-width: 1.0;\"/><polygon fill=\"#008000\" points=\"728.888,858.997,722.215,851.7533,724.2987,857.0124,719.0396,859.0962,728.888,858.997\" style=\"stroke: #008000; stroke-width: 1.0;\"/><path d=\"M238.673,778.193 C219.466,794.502 198.624,816.165 187,840.64 C185.334,844.148 184.183,848.002 183.407,851.912 \" fill=\"none\" style=\"stroke: #0000FF; stroke-width: 1.0;\"/><polygon fill=\"#0000FF\" points=\"182.613,856.872,187.9871,848.6186,183.4044,851.935,180.0879,847.3523,182.613,856.872\" style=\"stroke: #0000FF; stroke-width: 1.0;\"/><path d=\"M293.921,633.239 C291.442,656.48 288.296,685.977 285.858,708.831 \" fill=\"none\" style=\"stroke: #FF0000; stroke-width: 1.0;\"/><polygon fill=\"#FF0000\" points=\"285.318,713.897,290.2495,705.3717,285.848,708.9252,282.2946,704.5237,285.318,713.897\" style=\"stroke: #FF0000; stroke-width: 1.0;\"/><path d=\"M793.79,799.192 C790.535,817.632 786.992,837.714 784.189,853.597 \" fill=\"none\" style=\"stroke: #008000; stroke-width: 1.0;\"/><polygon fill=\"#008000\" points=\"783.268,858.813,788.7728,850.6462,784.1379,853.8893,780.8948,849.2543,783.268,858.813\" style=\"stroke: #008000; stroke-width: 1.0;\"/><path d=\"M188.52,261.195 C166.697,277.815 144.211,298.213 128,321 C87.5838,377.81 76,399.28 76,469 C76,469 76,469 76,595 C76,686.019 54.3157,717.088 94,799 C104.3957,820.458 122.78,839.245 140.151,853.579 \" fill=\"none\" style=\"stroke: #0000FF; stroke-width: 1.0;\"/><polygon fill=\"#0000FF\" points=\"144.071,856.754,139.5947,847.9811,140.1855,853.6071,134.5596,854.1979,144.071,856.754\" style=\"stroke: #0000FF; stroke-width: 1.0;\"/><path d=\"M183,885.083 C183,887.24 183,930.788 183,963.64 \" fill=\"none\" style=\"stroke: #0000FF; stroke-width: 1.0;\"/><polygon fill=\"#0000FF\" points=\"183,968.813,187,959.813,183,963.813,179,959.813,183,968.813\" style=\"stroke: #0000FF; stroke-width: 1.0;\"/><path d=\"M556.132,99.93 C727.271,135.809 1156.45,236.358 1482,402 C1502.96,412.662 1524.23,428.025 1540.94,441.351 \" fill=\"none\" style=\"stroke: #0000FF; stroke-width: 1.0;\"/><polygon fill=\"#0000FF\" points=\"1545.09,444.691,1540.5984,435.926,1541.1991,441.5508,1535.5742,442.1515,1545.09,444.691\" style=\"stroke: #0000FF; stroke-width: 1.0;\"/><path d=\"M405.798,89.38 C296.755,97.42 102.7496,118.556 57,169 C2.0969,229.537 39,270.274 39,352 C39,352 39,352 39,595 C39,686.292 16.174,720.632 63,799 C76.8413,822.165 99.8258,840.558 121.996,854.156 \" fill=\"none\" style=\"stroke: #0000FF; stroke-width: 1.0;\"/><polygon fill=\"#0000FF\" points=\"126.416,856.811,120.7625,848.7464,122.1304,854.2354,116.6415,855.6033,126.416,856.811\" style=\"stroke: #0000FF; stroke-width: 1.0;\"/><path d=\"M439.691,109.113 C412.191,125.164 375.125,146.801 341.8,166.253 \" fill=\"none\" style=\"stroke: #0000FF; stroke-width: 1.0;\"/><polygon fill=\"#0000FF\" points=\"337.335,168.859,347.1239,167.774,341.6525,166.3373,343.0893,160.866,337.335,168.859\" style=\"stroke: #0000FF; stroke-width: 1.0;\"/><path d=\"M481.281,109.015 C481.316,151.415 479.188,237.304 462,261 C441.712,288.97 410.789,308.515 379.193,322.105 \" fill=\"none\" style=\"stroke: #0000FF; stroke-width: 1.0;\"/><polygon fill=\"#0000FF\" points=\"374.528,324.067,384.3748,324.2681,379.1376,322.13,381.2757,316.8928,374.528,324.067\" style=\"stroke: #0000FF; stroke-width: 1.0;\"/><path d=\"M483.725,109.248 C485.578,126.019 488.04,148.855 490,169 C494.944,219.827 499.963,278.667 503.029,315.61 \" fill=\"none\" style=\"stroke: #0000FF; stroke-width: 1.0;\"/><polygon fill=\"#0000FF\" points=\"503.467,320.898,506.7102,311.5984,503.0541,315.9151,498.7375,312.259,503.467,320.898\" style=\"stroke: #0000FF; stroke-width: 1.0;\"/><path d=\"M260,261.286 C260,278.933 260,298.885 260,315.575 \" fill=\"none\" style=\"stroke: #0000FF; stroke-width: 1.0;\"/><polygon fill=\"#0000FF\" points=\"260,320.644,264,311.644,260,315.644,256,311.644,260,320.644\" style=\"stroke: #0000FF; stroke-width: 1.0;\"/><path d=\"M335.506,385.178 C341.18,390.045 346.173,395.622 350,402 C376.754,446.59 365.678,469.42 350,519 C346.551,529.906 340.855,540.596 334.47,550.312 \" fill=\"none\" style=\"stroke: #FF0000; stroke-width: 1.0;\"/><polygon fill=\"#FF0000\" points=\"331.493,554.704,339.8533,549.4978,334.2981,550.565,333.2309,545.0097,331.493,554.704\" style=\"stroke: #FF0000; stroke-width: 1.0;\"/><path d=\"M253.235,385.121 C249.539,402.12 244.99,423.048 241.36,439.746 \" fill=\"none\" style=\"stroke: #FF0000; stroke-width: 1.0;\"/><polygon fill=\"#FF0000\" points=\"240.264,444.784,246.0857,436.84,241.3269,439.8983,238.2686,435.1394,240.264,444.784\" style=\"stroke: #FF0000; stroke-width: 1.0;\"/><path d=\"M247.447,495.103 C255.513,510.723 266.249,531.514 275.752,549.917 \" fill=\"none\" style=\"stroke: #FF0000; stroke-width: 1.0;\"/><polygon fill=\"#FF0000\" points=\"278.139,554.54,277.5636,544.708,275.8448,550.0974,270.4554,548.3786,278.139,554.54\" style=\"stroke: #FF0000; stroke-width: 1.0;\"/><path d=\"M696.914,905.403 C626.042,923.141 532.367,946.925 515,953 C498.172,958.886 480.312,966.382 464.187,973.649 \" fill=\"none\" style=\"stroke: #008000; stroke-width: 1.0;\"/><polygon fill=\"#008000\" points=\"459.242,975.895,469.0905,975.8153,463.7945,973.8274,465.7824,968.5313,459.242,975.895\" style=\"stroke: #008000; stroke-width: 1.0;\"/><path d=\"M739.589,909.108 C709.007,927.815 666.628,953.738 634.952,973.114 \" fill=\"none\" style=\"stroke: #008000; stroke-width: 1.0;\"/><polygon fill=\"#008000\" points=\"630.359,975.924,640.1236,974.6388,634.624,973.3144,635.9483,967.8148,630.359,975.924\" style=\"stroke: #008000; stroke-width: 1.0;\"/><path d=\"M501.304,385.131 C488.396,475.454 456.565,735.218 507,799 C556.321,861.373 605.556,815.518 681,840.64 C694.983,845.296 709.734,851.146 723.426,857 \" fill=\"none\" style=\"stroke: #0000FF; stroke-width: 1.0;\"/><polygon fill=\"#0000FF\" points=\"728.027,858.983,721.3466,851.7461,723.4357,857.0031,718.1787,859.0921,728.027,858.983\" style=\"stroke: #0000FF; stroke-width: 1.0;\"/><path d=\"M341.573,261.097 C375.432,279.816 414.033,301.157 445.322,318.455 \" fill=\"none\" style=\"stroke: #0000FF; stroke-width: 1.0;\"/><polygon fill=\"#0000FF\" points=\"449.884,320.977,443.9421,313.1224,445.508,318.5583,440.0721,320.1241,449.884,320.977\" style=\"stroke: #0000FF; stroke-width: 1.0;\"/></g></svg>"
      ],
      "text/plain": [
       "<IPython.core.display.SVG object>"
      ]
     },
     "execution_count": 36,
     "metadata": {},
     "output_type": "execute_result"
    }
   ],
   "source": [
    "%%plantuml\n",
    "\n",
    "@startuml\n",
    "\n",
    "\n",
    "state Energiecampus{\n",
    "    Gasmischer : Wasserstoff aus Elektrolyse\n",
    "    Gasmischer : Methanhaltiges Gas aus Methanisierung\n",
    "    Gasmischer : Erdgas dem öffentlichen Netz\n",
    "    Wärmeübergabestation : Fernwärmenetz zu Zentralheizung des Gebäudes. \n",
    "}\n",
    "\n",
    "state Versorger{\n",
    "    Strom -[#blue]-> Verbraucher \n",
    "    Strom : elektrische Leistung\n",
    "    Erdgas -[#red]-> Gasmischer\n",
    "    Erdgas : chemische Leistung\n",
    "    Fernwärme -[#green]-> Wärmeübergabestation\n",
    "    Fernwärme : thermische Leistung\n",
    "}\n",
    "\n",
    "state Energiecampus{\n",
    "    \n",
    "    state Verbraucher {\n",
    "        Elektroauto : Lade- Entlade-Leistung : ?? kW\n",
    "        Elektroauto : Kapazität : 22 kWh\n",
    "        Raumheizung : ?? kW\n",
    "        Warmwasserbereitung : ?? kW\n",
    "    }                    \n",
    "    \n",
    "    Blockheizkraftwerk -[#green]-> thermischerSpeicher\n",
    "    Blockheizkraftwerk -[#blue]-> Verbraucher\n",
    "    Blockheizkraftwerk : Erdgas, Flüssiggas, maximal 20% Wasserstoffanteil\n",
    "    Blockheizkraftwerk : Leistung (elektrisch) : 5-16 kW\n",
    "\n",
    "    Gasmischer -[#red]-> Blockheizkraftwerk\n",
    "\n",
    "    Wärmeübergabestation : Zusätzlich zwei Power-to-heat Module als steuerbare elektrische Last genutzt werden. \n",
    "    Wärmeübergabestation : Leistung (thermisch) : 15 kW\n",
    "    Wärmeübergabestation : Leistung (elektrisch) P2H: 1.2-18 kW\n",
    "    Wärmeübergabestation : Rückkühler Leistung (thermisch): 45 kW\n",
    "    Wärmeübergabestation -[#green]-> thermischerSpeicher\n",
    "\n",
    "    Batteriespeicher : Lithium-Ionen Akkumulatoren und Superkondensatoren. \n",
    "    Batteriespeicher : Leistung: 50 kW\n",
    "    Batteriespeicher : Kapazität: 30 kWh + 300 Wh\n",
    "    Batteriespeicher : Latenzzeit: < 10 ms\n",
    "    Batteriespeicher -[#blue]-> Verbraucher\n",
    "    Verbraucher -[#blue]-> Elektroauto\n",
    "\n",
    "    Photovoltaik : Leistung: ca. 10 kWp\n",
    "    Photovoltaik -[#blue]-> Strom\n",
    "    Photovoltaik -[#blue]-> Verbraucher\n",
    "    Photovoltaik -[#blue]-> Batteriespeicher\n",
    "    Photovoltaik -[#blue]-> Elektrolyse\n",
    "    Photovoltaik -[#blue]-> Elektroheizstäbe\n",
    "                                                            \n",
    "    Elektrolyse : el. Leistung 10kW\n",
    "    Elektrolyse : Wasserstoffproduktion 2,92 m3/h\n",
    "    Batteriespeicher -[#blue]-> Elektrolyse\n",
    "    Elektrolyse -[#red]-> Gasmischer\n",
    "    Elektrolyse -[#red]-> Methanisierung\n",
    "\n",
    "    Methanisierung : Methanproduktion: 0,2 m³/h\n",
    "    Methanisierung -[#red]-> Gasmischer\n",
    "\n",
    "    thermischerSpeicher -[#green]-> Warmwasserbereitung\n",
    "    thermischerSpeicher -[#green]-> Raumheizung\n",
    "    thermischerSpeicher : 1000l Wasser\n",
    "\n",
    "    Elektroheizstäbe : el. Leistung: 24 kW\n",
    "    Elektroheizstäbe : thermische Leistung: 11 kW\n",
    "    Elektroheizstäbe -[#blue]-> thermischerSpeicher\n",
    "                                                                                \n",
    "    Batteriespeicher -[#blue]-> Elektroheizstäbe\n",
    "}\n",
    "\n",
    "@enduml "
   ]
  },
  {
   "cell_type": "code",
   "execution_count": null,
   "metadata": {
    "collapsed": true
   },
   "outputs": [],
   "source": []
  }
 ],
 "metadata": {
  "celltoolbar": "Slideshow",
  "kernelspec": {
   "display_name": "Python 3",
   "language": "python",
   "name": "python3"
  },
  "language_info": {
   "codemirror_mode": {
    "name": "ipython",
    "version": 3
   },
   "file_extension": ".py",
   "mimetype": "text/x-python",
   "name": "python",
   "nbconvert_exporter": "python",
   "pygments_lexer": "ipython3",
   "version": "3.5.2"
  }
 },
 "nbformat": 4,
 "nbformat_minor": 1
}
