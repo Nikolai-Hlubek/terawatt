{
 "cells": [
  {
   "cell_type": "markdown",
   "metadata": {
    "slideshow": {
     "slide_type": "slide"
    }
   },
   "source": [
    "# Projekt Terawatt\n",
    "\n",
    "Simulation der Systemdelays am Energiecampus."
   ]
  },
  {
   "cell_type": "code",
   "execution_count": 2,
   "metadata": {
    "collapsed": true,
    "slideshow": {
     "slide_type": "skip"
    }
   },
   "outputs": [],
   "source": [
    "import iplantuml"
   ]
  },
  {
   "cell_type": "code",
   "execution_count": 29,
   "metadata": {
    "collapsed": false,
    "scrolled": false,
    "slideshow": {
     "slide_type": "slide"
    }
   },
   "outputs": [
    {
     "data": {
      "image/svg+xml": [
       "<svg height=\"1052px\" style=\"width:1632px;height:1052px;\" version=\"1.1\" viewBox=\"0 0 1632 1052\" width=\"1632px\" xmlns=\"http://www.w3.org/2000/svg\" xmlns:xlink=\"http://www.w3.org/1999/xlink\"><defs><filter height=\"300%\" id=\"f1\" width=\"300%\" x=\"-1\" y=\"-1\"><feGaussianBlur result=\"blurOut\" stdDeviation=\"2.0\"/><feColorMatrix in=\"blurOut\" result=\"blurOut2\" type=\"matrix\" values=\"0 0 0 0 0 0 0 0 0 0 0 0 0 0 0 0 0 0 .4 0\"/><feOffset dx=\"4.0\" dy=\"4.0\" in=\"blurOut2\" result=\"blurOut3\"/><feBlend in=\"SourceGraphic\" in2=\"blurOut3\" mode=\"normal\"/></filter></defs><g><rect fill=\"#FEFECE\" filter=\"url(#f1)\" height=\"1021\" rx=\"12.5\" ry=\"12.5\" style=\"stroke: #A80036; stroke-width: 1.5;\" width=\"1039\" x=\"22\" y=\"24\"/><rect fill=\"#FFFFFF\" height=\"988.7031\" rx=\"12.5\" ry=\"12.5\" style=\"stroke: #FFFFFF; stroke-width: 1.0;\" width=\"1033\" x=\"25\" y=\"53.2969\"/><line style=\"stroke: #A80036; stroke-width: 1.5;\" x1=\"22\" x2=\"1061\" y1=\"50.2969\" y2=\"50.2969\"/><text fill=\"#000000\" font-family=\"sans-serif\" font-size=\"14\" lengthAdjust=\"spacingAndGlyphs\" textLength=\"108\" x=\"487.5\" y=\"40.9951\">Energiecampus</text><rect fill=\"#FEFECE\" filter=\"url(#f1)\" height=\"115\" rx=\"12.5\" ry=\"12.5\" style=\"stroke: #A80036; stroke-width: 1.5;\" width=\"604\" x=\"46\" y=\"906\"/><rect fill=\"#FFFFFF\" height=\"82.7031\" rx=\"12.5\" ry=\"12.5\" style=\"stroke: #FFFFFF; stroke-width: 1.0;\" width=\"598\" x=\"49\" y=\"935.2969\"/><line style=\"stroke: #A80036; stroke-width: 1.5;\" x1=\"46\" x2=\"650\" y1=\"932.2969\" y2=\"932.2969\"/><text fill=\"#000000\" font-family=\"sans-serif\" font-size=\"14\" lengthAdjust=\"spacingAndGlyphs\" textLength=\"85\" x=\"305.5\" y=\"922.9951\">Verbraucher</text><rect fill=\"#FEFECE\" filter=\"url(#f1)\" height=\"101\" rx=\"12.5\" ry=\"12.5\" style=\"stroke: #A80036; stroke-width: 1.5;\" width=\"540\" x=\"1085\" y=\"141\"/><rect fill=\"#FFFFFF\" height=\"68.7031\" rx=\"12.5\" ry=\"12.5\" style=\"stroke: #FFFFFF; stroke-width: 1.0;\" width=\"534\" x=\"1088\" y=\"170.2969\"/><line style=\"stroke: #A80036; stroke-width: 1.5;\" x1=\"1085\" x2=\"1625\" y1=\"167.2969\" y2=\"167.2969\"/><text fill=\"#000000\" font-family=\"sans-serif\" font-size=\"14\" lengthAdjust=\"spacingAndGlyphs\" textLength=\"68\" x=\"1321\" y=\"157.9951\">Versorger</text><rect fill=\"#FEFECE\" filter=\"url(#f1)\" height=\"64.2344\" rx=\"12.5\" ry=\"12.5\" style=\"stroke: #A80036; stroke-width: 1.5;\" width=\"95\" x=\"583.5\" y=\"169\"/><line style=\"stroke: #A80036; stroke-width: 1.5;\" x1=\"583.5\" x2=\"678.5\" y1=\"195.2969\" y2=\"195.2969\"/><text fill=\"#000000\" font-family=\"sans-serif\" font-size=\"14\" lengthAdjust=\"spacingAndGlyphs\" textLength=\"75\" x=\"593.5\" y=\"186.9951\">Hausstrom</text><text fill=\"#000000\" font-family=\"sans-serif\" font-size=\"12\" lengthAdjust=\"spacingAndGlyphs\" textLength=\"46\" x=\"588.5\" y=\"211.4355\">remove</text><text fill=\"#000000\" font-family=\"sans-serif\" font-size=\"12\" lengthAdjust=\"spacingAndGlyphs\" textLength=\"34\" x=\"588.5\" y=\"225.4043\">?? kW</text><rect fill=\"#FEFECE\" filter=\"url(#f1)\" height=\"50.2656\" rx=\"12.5\" ry=\"12.5\" style=\"stroke: #A80036; stroke-width: 1.5;\" width=\"651\" x=\"112.5\" y=\"555\"/><line style=\"stroke: #A80036; stroke-width: 1.5;\" x1=\"112.5\" x2=\"763.5\" y1=\"581.2969\" y2=\"581.2969\"/><text fill=\"#000000\" font-family=\"sans-serif\" font-size=\"14\" lengthAdjust=\"spacingAndGlyphs\" textLength=\"82\" x=\"397\" y=\"572.9951\">Gasmischer</text><text fill=\"#000000\" font-family=\"sans-serif\" font-size=\"12\" lengthAdjust=\"spacingAndGlyphs\" textLength=\"631\" x=\"117.5\" y=\"597.4355\">Wasserstoff aus Elektrolyse, methanhaltiges Gas aus Methanisierung, Erdgas dem öffentlichen Netz.</text><rect fill=\"#FEFECE\" filter=\"url(#f1)\" height=\"106.1406\" rx=\"12.5\" ry=\"12.5\" style=\"stroke: #A80036; stroke-width: 1.5;\" width=\"557\" x=\"487.5\" y=\"665\"/><line style=\"stroke: #A80036; stroke-width: 1.5;\" x1=\"487.5\" x2=\"1044.5\" y1=\"691.2969\" y2=\"691.2969\"/><text fill=\"#000000\" font-family=\"sans-serif\" font-size=\"14\" lengthAdjust=\"spacingAndGlyphs\" textLength=\"162\" x=\"685\" y=\"682.9951\">Wärmeübergabestation</text><text fill=\"#000000\" font-family=\"sans-serif\" font-size=\"12\" lengthAdjust=\"spacingAndGlyphs\" textLength=\"309\" x=\"492.5\" y=\"707.4355\">Fernwärmenetz zu Zentralheizung des Gebäudes.</text><text fill=\"#000000\" font-family=\"sans-serif\" font-size=\"12\" lengthAdjust=\"spacingAndGlyphs\" textLength=\"537\" x=\"492.5\" y=\"721.4043\">Zusätzlich zwei Power-to-heat Module als steuerbare elektrische Last genutzt werden.</text><text fill=\"#000000\" font-family=\"sans-serif\" font-size=\"12\" lengthAdjust=\"spacingAndGlyphs\" textLength=\"179\" x=\"492.5\" y=\"735.373\">Leistung (thermisch) : 15 kW</text><text fill=\"#000000\" font-family=\"sans-serif\" font-size=\"12\" lengthAdjust=\"spacingAndGlyphs\" textLength=\"227\" x=\"492.5\" y=\"749.3418\">Leistung (elektrisch) P2H: 1.2-18 kW</text><text fill=\"#000000\" font-family=\"sans-serif\" font-size=\"12\" lengthAdjust=\"spacingAndGlyphs\" textLength=\"248\" x=\"492.5\" y=\"763.3105\">Rückkühler Leistung (thermisch): 45 kW</text><rect fill=\"#FEFECE\" filter=\"url(#f1)\" height=\"64.2344\" rx=\"12.5\" ry=\"12.5\" style=\"stroke: #A80036; stroke-width: 1.5;\" width=\"340\" x=\"75\" y=\"686\"/><line style=\"stroke: #A80036; stroke-width: 1.5;\" x1=\"75\" x2=\"415\" y1=\"712.2969\" y2=\"712.2969\"/><text fill=\"#000000\" font-family=\"sans-serif\" font-size=\"14\" lengthAdjust=\"spacingAndGlyphs\" textLength=\"130\" x=\"180\" y=\"703.9951\">Blockheizkraftwerk</text><text fill=\"#000000\" font-family=\"sans-serif\" font-size=\"12\" lengthAdjust=\"spacingAndGlyphs\" textLength=\"320\" x=\"80\" y=\"728.4355\">Erdgas, Flüssiggas, maximal 20% Wasserstoffanteil</text><text fill=\"#000000\" font-family=\"sans-serif\" font-size=\"12\" lengthAdjust=\"spacingAndGlyphs\" textLength=\"190\" x=\"80\" y=\"742.4043\">Leistung (elektrisch) : 5-16 kW</text><rect fill=\"#FEFECE\" filter=\"url(#f1)\" height=\"50.2656\" rx=\"12.5\" ry=\"12.5\" style=\"stroke: #A80036; stroke-width: 1.5;\" width=\"164\" x=\"369\" y=\"831\"/><line style=\"stroke: #A80036; stroke-width: 1.5;\" x1=\"369\" x2=\"533\" y1=\"857.2969\" y2=\"857.2969\"/><text fill=\"#000000\" font-family=\"sans-serif\" font-size=\"14\" lengthAdjust=\"spacingAndGlyphs\" textLength=\"144\" x=\"379\" y=\"848.9951\">thermischerSpeicher</text><text fill=\"#000000\" font-family=\"sans-serif\" font-size=\"12\" lengthAdjust=\"spacingAndGlyphs\" textLength=\"85\" x=\"374\" y=\"873.4355\">1000l Wasser</text><rect fill=\"#FEFECE\" filter=\"url(#f1)\" height=\"92.1719\" rx=\"12.5\" ry=\"12.5\" style=\"stroke: #A80036; stroke-width: 1.5;\" width=\"370\" x=\"446\" y=\"293\"/><line style=\"stroke: #A80036; stroke-width: 1.5;\" x1=\"446\" x2=\"816\" y1=\"319.2969\" y2=\"319.2969\"/><text fill=\"#000000\" font-family=\"sans-serif\" font-size=\"14\" lengthAdjust=\"spacingAndGlyphs\" textLength=\"114\" x=\"574\" y=\"310.9951\">Batteriespeicher</text><text fill=\"#000000\" font-family=\"sans-serif\" font-size=\"12\" lengthAdjust=\"spacingAndGlyphs\" textLength=\"350\" x=\"451\" y=\"335.4355\">Lithium-Ionen Akkumulatoren und Superkondensatoren.</text><text fill=\"#000000\" font-family=\"sans-serif\" font-size=\"12\" lengthAdjust=\"spacingAndGlyphs\" textLength=\"99\" x=\"451\" y=\"349.4043\">Leistung: 50 kW</text><text fill=\"#000000\" font-family=\"sans-serif\" font-size=\"12\" lengthAdjust=\"spacingAndGlyphs\" textLength=\"176\" x=\"451\" y=\"363.373\">Kapazität: 30 kWh + 300 Wh</text><text fill=\"#000000\" font-family=\"sans-serif\" font-size=\"12\" lengthAdjust=\"spacingAndGlyphs\" textLength=\"121\" x=\"451\" y=\"377.3418\">Latenzzeit: &lt; 10 ms</text><rect fill=\"#FEFECE\" filter=\"url(#f1)\" height=\"50.2656\" rx=\"12.5\" ry=\"12.5\" style=\"stroke: #A80036; stroke-width: 1.5;\" width=\"150\" x=\"725\" y=\"59\"/><line style=\"stroke: #A80036; stroke-width: 1.5;\" x1=\"725\" x2=\"875\" y1=\"85.2969\" y2=\"85.2969\"/><text fill=\"#000000\" font-family=\"sans-serif\" font-size=\"14\" lengthAdjust=\"spacingAndGlyphs\" textLength=\"84\" x=\"758\" y=\"76.9951\">Photovoltaik</text><text fill=\"#000000\" font-family=\"sans-serif\" font-size=\"12\" lengthAdjust=\"spacingAndGlyphs\" textLength=\"130\" x=\"730\" y=\"101.4355\">Leistung: ca. 10 kWp</text><rect fill=\"#FEFECE\" filter=\"url(#f1)\" height=\"64.2344\" rx=\"12.5\" ry=\"12.5\" style=\"stroke: #A80036; stroke-width: 1.5;\" width=\"229\" x=\"181.5\" y=\"307\"/><line style=\"stroke: #A80036; stroke-width: 1.5;\" x1=\"181.5\" x2=\"410.5\" y1=\"333.2969\" y2=\"333.2969\"/><text fill=\"#000000\" font-family=\"sans-serif\" font-size=\"14\" lengthAdjust=\"spacingAndGlyphs\" textLength=\"75\" x=\"258.5\" y=\"324.9951\">Elektrolyse</text><text fill=\"#000000\" font-family=\"sans-serif\" font-size=\"12\" lengthAdjust=\"spacingAndGlyphs\" textLength=\"110\" x=\"186.5\" y=\"349.4355\">el. Leistung 10kW</text><text fill=\"#000000\" font-family=\"sans-serif\" font-size=\"12\" lengthAdjust=\"spacingAndGlyphs\" textLength=\"209\" x=\"186.5\" y=\"363.4043\">Wasserstoffproduktion 2,92 m3/h</text><rect fill=\"#FEFECE\" filter=\"url(#f1)\" height=\"50.2656\" rx=\"12.5\" ry=\"12.5\" style=\"stroke: #A80036; stroke-width: 1.5;\" width=\"195\" x=\"336.5\" y=\"445\"/><line style=\"stroke: #A80036; stroke-width: 1.5;\" x1=\"336.5\" x2=\"531.5\" y1=\"471.2969\" y2=\"471.2969\"/><text fill=\"#000000\" font-family=\"sans-serif\" font-size=\"14\" lengthAdjust=\"spacingAndGlyphs\" textLength=\"107\" x=\"380.5\" y=\"462.9951\">Methanisierung</text><text fill=\"#000000\" font-family=\"sans-serif\" font-size=\"12\" lengthAdjust=\"spacingAndGlyphs\" textLength=\"175\" x=\"341.5\" y=\"487.4355\">Methanproduktion: 0,2 m³/h</text><rect fill=\"#FEFECE\" filter=\"url(#f1)\" height=\"64.2344\" rx=\"12.5\" ry=\"12.5\" style=\"stroke: #A80036; stroke-width: 1.5;\" width=\"193\" x=\"851.5\" y=\"307\"/><line style=\"stroke: #A80036; stroke-width: 1.5;\" x1=\"851.5\" x2=\"1044.5\" y1=\"333.2969\" y2=\"333.2969\"/><text fill=\"#000000\" font-family=\"sans-serif\" font-size=\"14\" lengthAdjust=\"spacingAndGlyphs\" textLength=\"116\" x=\"890\" y=\"324.9951\">Elektroheizstäbe</text><text fill=\"#000000\" font-family=\"sans-serif\" font-size=\"12\" lengthAdjust=\"spacingAndGlyphs\" textLength=\"118\" x=\"856.5\" y=\"349.4355\">el. Leistung: 24 kW</text><text fill=\"#000000\" font-family=\"sans-serif\" font-size=\"12\" lengthAdjust=\"spacingAndGlyphs\" textLength=\"173\" x=\"856.5\" y=\"363.4043\">thermische Leistung: 11 kW</text><rect fill=\"#FEFECE\" filter=\"url(#f1)\" height=\"64.2344\" rx=\"12.5\" ry=\"12.5\" style=\"stroke: #A80036; stroke-width: 1.5;\" width=\"209\" x=\"62.5\" y=\"941\"/><line style=\"stroke: #A80036; stroke-width: 1.5;\" x1=\"62.5\" x2=\"271.5\" y1=\"967.2969\" y2=\"967.2969\"/><text fill=\"#000000\" font-family=\"sans-serif\" font-size=\"14\" lengthAdjust=\"spacingAndGlyphs\" textLength=\"79\" x=\"127.5\" y=\"958.9951\">Elektroauto</text><text fill=\"#000000\" font-family=\"sans-serif\" font-size=\"12\" lengthAdjust=\"spacingAndGlyphs\" textLength=\"189\" x=\"67.5\" y=\"983.4355\">Lade- Entlade-Leistung : ?? kW</text><text fill=\"#000000\" font-family=\"sans-serif\" font-size=\"12\" lengthAdjust=\"spacingAndGlyphs\" textLength=\"115\" x=\"67.5\" y=\"997.4043\">Kapazität : 22 kWh</text><rect fill=\"#FEFECE\" filter=\"url(#f1)\" height=\"50.2656\" rx=\"12.5\" ry=\"12.5\" style=\"stroke: #A80036; stroke-width: 1.5;\" width=\"116\" x=\"307\" y=\"948\"/><line style=\"stroke: #A80036; stroke-width: 1.5;\" x1=\"307\" x2=\"423\" y1=\"974.2969\" y2=\"974.2969\"/><text fill=\"#000000\" font-family=\"sans-serif\" font-size=\"14\" lengthAdjust=\"spacingAndGlyphs\" textLength=\"96\" x=\"317\" y=\"965.9951\">Raumheizung</text><text fill=\"#000000\" font-family=\"sans-serif\" font-size=\"12\" lengthAdjust=\"spacingAndGlyphs\" textLength=\"34\" x=\"312\" y=\"990.4355\">?? kW</text><rect fill=\"#FEFECE\" filter=\"url(#f1)\" height=\"50.2656\" rx=\"12.5\" ry=\"12.5\" style=\"stroke: #A80036; stroke-width: 1.5;\" width=\"175\" x=\"458.5\" y=\"948\"/><line style=\"stroke: #A80036; stroke-width: 1.5;\" x1=\"458.5\" x2=\"633.5\" y1=\"974.2969\" y2=\"974.2969\"/><text fill=\"#000000\" font-family=\"sans-serif\" font-size=\"14\" lengthAdjust=\"spacingAndGlyphs\" textLength=\"155\" x=\"468.5\" y=\"965.9951\">Warmwasserbereitung</text><text fill=\"#000000\" font-family=\"sans-serif\" font-size=\"12\" lengthAdjust=\"spacingAndGlyphs\" textLength=\"34\" x=\"463.5\" y=\"990.4355\">?? kW</text><rect fill=\"#FEFECE\" filter=\"url(#f1)\" height=\"50.2656\" rx=\"12.5\" ry=\"12.5\" style=\"stroke: #A80036; stroke-width: 1.5;\" width=\"146\" x=\"1463\" y=\"176\"/><line style=\"stroke: #A80036; stroke-width: 1.5;\" x1=\"1463\" x2=\"1609\" y1=\"202.2969\" y2=\"202.2969\"/><text fill=\"#000000\" font-family=\"sans-serif\" font-size=\"14\" lengthAdjust=\"spacingAndGlyphs\" textLength=\"41\" x=\"1515.5\" y=\"193.9951\">Strom</text><text fill=\"#000000\" font-family=\"sans-serif\" font-size=\"12\" lengthAdjust=\"spacingAndGlyphs\" textLength=\"126\" x=\"1468\" y=\"218.4355\">elektrische Leistung</text><rect fill=\"#FEFECE\" filter=\"url(#f1)\" height=\"50.2656\" rx=\"12.5\" ry=\"12.5\" style=\"stroke: #A80036; stroke-width: 1.5;\" width=\"144\" x=\"1101\" y=\"176\"/><line style=\"stroke: #A80036; stroke-width: 1.5;\" x1=\"1101\" x2=\"1245\" y1=\"202.2969\" y2=\"202.2969\"/><text fill=\"#000000\" font-family=\"sans-serif\" font-size=\"14\" lengthAdjust=\"spacingAndGlyphs\" textLength=\"48\" x=\"1149\" y=\"193.9951\">Erdgas</text><text fill=\"#000000\" font-family=\"sans-serif\" font-size=\"12\" lengthAdjust=\"spacingAndGlyphs\" textLength=\"124\" x=\"1106\" y=\"218.4355\">chemische Leistung</text><rect fill=\"#FEFECE\" filter=\"url(#f1)\" height=\"50.2656\" rx=\"12.5\" ry=\"12.5\" style=\"stroke: #A80036; stroke-width: 1.5;\" width=\"147\" x=\"1280.5\" y=\"176\"/><line style=\"stroke: #A80036; stroke-width: 1.5;\" x1=\"1280.5\" x2=\"1427.5\" y1=\"202.2969\" y2=\"202.2969\"/><text fill=\"#000000\" font-family=\"sans-serif\" font-size=\"14\" lengthAdjust=\"spacingAndGlyphs\" textLength=\"77\" x=\"1315.5\" y=\"193.9951\">Fernwärme</text><text fill=\"#000000\" font-family=\"sans-serif\" font-size=\"12\" lengthAdjust=\"spacingAndGlyphs\" textLength=\"127\" x=\"1285.5\" y=\"218.4355\">thermische Leistung</text><path d=\"M1512.03,175.774 C1491.68,156.39 1460.58,131.254 1427.5,121 C1358.51,99.62 1174.47,114.938 1102.5,121 C948.983,133.931 770.302,170.146 683.587,189.098 \" fill=\"none\" style=\"stroke: #0000FF; stroke-width: 1.0;\"/><polygon fill=\"#0000FF\" points=\"678.515,190.21,688.1625,192.1914,683.3992,189.14,686.4505,184.3767,678.515,190.21\" style=\"stroke: #0000FF; stroke-width: 1.0;\"/><path d=\"M1164.85,226.017 C1150.37,265.117 1116.45,342.434 1062,385 C940.002,480.369 770.705,529.191 639.229,553.99 \" fill=\"none\" style=\"stroke: #FF0000; stroke-width: 1.0;\"/><polygon fill=\"#FF0000\" points=\"634.177,554.935,643.7586,557.2138,639.0919,554.0166,642.2891,549.3499,634.177,554.935\" style=\"stroke: #FF0000; stroke-width: 1.0;\"/><path d=\"M1326.43,226.149 C1237.48,304.052 956.559,550.099 829.505,661.379 \" fill=\"none\" style=\"stroke: #008000; stroke-width: 1.0;\"/><polygon fill=\"#008000\" points=\"825.421,664.957,834.8269,662.0365,829.1824,661.6628,829.5561,656.0183,825.421,664.957\" style=\"stroke: #008000; stroke-width: 1.0;\"/><path d=\"M292.002,750.031 C327.573,773.514 375.946,805.45 409.965,827.909 \" fill=\"none\" style=\"stroke: #008000; stroke-width: 1.0;\"/><polygon fill=\"#008000\" points=\"414.458,830.875,409.1521,822.5775,410.2857,828.1197,404.7436,829.2532,414.458,830.875\" style=\"stroke: #008000; stroke-width: 1.0;\"/><path d=\"M178.947,685.97 C147.384,667.321 112.697,640.3 95,605 C31.3523,478.044 60.3655,390.102 164,293 C223.483,237.266 468.827,213.381 578.09,205.363 \" fill=\"none\" style=\"stroke: #0000FF; stroke-width: 1.0;\"/><polygon fill=\"#0000FF\" points=\"583.189,204.993,573.9234,201.654,578.2021,205.3544,574.5017,209.6331,583.189,204.993\" style=\"stroke: #0000FF; stroke-width: 1.0;\"/><path d=\"M403.94,605.001 C373.263,626.618 327.833,658.63 293.391,682.901 \" fill=\"none\" style=\"stroke: #FF0000; stroke-width: 1.0;\"/><polygon fill=\"#FF0000\" points=\"289.247,685.821,298.908,683.9067,293.3342,682.941,294.2999,677.3671,289.247,685.821\" style=\"stroke: #FF0000; stroke-width: 1.0;\"/><path d=\"M645.114,771.192 C599.451,790.907 549.443,812.498 511.621,828.827 \" fill=\"none\" style=\"stroke: #008000; stroke-width: 1.0;\"/><polygon fill=\"#008000\" points=\"506.602,830.994,516.4503,831.1006,511.1928,829.0129,513.2805,823.7553,506.602,830.994\" style=\"stroke: #008000; stroke-width: 1.0;\"/><path d=\"M643.804,292.762 C644.926,275.053 644.691,255.016 643.099,238.282 \" fill=\"none\" style=\"stroke: #0000FF; stroke-width: 1.0;\"/><polygon fill=\"#0000FF\" points=\"642.562,233.201,639.5333,242.5726,643.0892,238.1731,647.4887,241.7291,642.562,233.201\" style=\"stroke: #0000FF; stroke-width: 1.0;\"/><path d=\"M620.081,233.201 C618.297,249.33 617.817,269.411 618.64,287.666 \" fill=\"none\" style=\"stroke: #0000FF; stroke-width: 1.0;\"/><polygon fill=\"#0000FF\" points=\"618.907,292.762,622.4309,283.5652,618.6456,287.7688,614.4419,283.9835,618.907,292.762\" style=\"stroke: #0000FF; stroke-width: 1.0;\"/><path d=\"M583.399,203.362 C463.73,207.774 154.7,225.582 82,293 C22.9571,347.753 39,388.477 39,469 C39,469 39,469 39,719 C39,804.293 97.638,890.028 135.537,936.534 \" fill=\"none\" style=\"stroke: #0000FF; stroke-width: 1.0;\"/><polygon fill=\"#0000FF\" points=\"138.91,940.637,136.2826,931.1451,135.734,936.7752,130.1038,936.2266,138.91,940.637\" style=\"stroke: #0000FF; stroke-width: 1.0;\"/><path d=\"M875.206,85.408 C1022.24,87.051 1342.39,95.024 1445,133 C1468.07,141.537 1490.37,157.783 1507.12,172.138 \" fill=\"none\" style=\"stroke: #0000FF; stroke-width: 1.0;\"/><polygon fill=\"#0000FF\" points=\"1511.25,175.741,1507.0933,166.8123,1507.4807,172.4559,1501.8371,172.8432,1511.25,175.741\" style=\"stroke: #0000FF; stroke-width: 1.0;\"/><path d=\"M764.572,109.108 C740.317,125.613 707.807,147.735 680.934,166.021 \" fill=\"none\" style=\"stroke: #0000FF; stroke-width: 1.0;\"/><polygon fill=\"#0000FF\" points=\"676.671,168.922,686.3621,167.1664,680.8049,166.1094,681.862,160.5522,676.671,168.922\" style=\"stroke: #0000FF; stroke-width: 1.0;\"/><path d=\"M583.358,221.341 C529.838,243.069 442.034,278.715 377.546,304.895 \" fill=\"none\" style=\"stroke: #0000FF; stroke-width: 1.0;\"/><polygon fill=\"#0000FF\" points=\"372.554,306.921,382.3977,307.2407,377.1866,305.0397,379.3876,299.8286,372.554,306.921\" style=\"stroke: #0000FF; stroke-width: 1.0;\"/><path d=\"M293.707,371.249 C292.77,404.401 295.686,457.121 319,495 C333.912,519.228 358.699,538.384 381.802,552.247 \" fill=\"none\" style=\"stroke: #FF0000; stroke-width: 1.0;\"/><polygon fill=\"#FF0000\" points=\"386.396,554.949,380.6653,546.9391,382.0859,552.4146,376.6103,553.8353,386.396,554.949\" style=\"stroke: #FF0000; stroke-width: 1.0;\"/><path d=\"M329.406,371.227 C352.329,392.656 382.471,420.831 404.506,441.429 \" fill=\"none\" style=\"stroke: #FF0000; stroke-width: 1.0;\"/><polygon fill=\"#FF0000\" points=\"408.246,444.925,404.4023,435.8571,404.5932,441.5108,398.9396,441.7016,408.246,444.925\" style=\"stroke: #FF0000; stroke-width: 1.0;\"/><path d=\"M434.898,495.237 C435.495,511.357 436.282,532.621 436.914,549.691 \" fill=\"none\" style=\"stroke: #FF0000; stroke-width: 1.0;\"/><polygon fill=\"#FF0000\" points=\"437.105,554.844,440.768,545.7017,436.9193,549.8474,432.7735,545.9988,437.105,554.844\" style=\"stroke: #FF0000; stroke-width: 1.0;\"/><path d=\"M470.915,881.108 C485.989,899.355 506.734,924.468 522.6,943.673 \" fill=\"none\" style=\"stroke: #008000; stroke-width: 1.0;\"/><polygon fill=\"#008000\" points=\"526.111,947.924,523.4642,938.4375,522.9271,944.0688,517.2958,943.5317,526.111,947.924\" style=\"stroke: #008000; stroke-width: 1.0;\"/><path d=\"M432.972,881.108 C419.326,899.355 400.546,924.468 386.183,943.673 \" fill=\"none\" style=\"stroke: #008000; stroke-width: 1.0;\"/><polygon fill=\"#008000\" points=\"383.005,947.924,391.5981,943.1117,385.9993,943.9197,385.1913,938.3209,383.005,947.924\" style=\"stroke: #008000; stroke-width: 1.0;\"/><path d=\"M937.754,371.242 C917.508,427.725 866.752,546.393 781,605 C664.779,684.431 564.914,561.039 470,665 C430.024,708.786 436.632,784.129 444.245,825.563 \" fill=\"none\" style=\"stroke: #0000FF; stroke-width: 1.0;\"/><polygon fill=\"#0000FF\" points=\"445.224,830.688,447.4658,821.0977,444.2866,825.7767,439.6076,822.5975,445.224,830.688\" style=\"stroke: #0000FF; stroke-width: 1.0;\"/><path d=\"M678.801,222.508 C729.71,244.349 811.05,279.245 871.009,304.969 \" fill=\"none\" style=\"stroke: #0000FF; stroke-width: 1.0;\"/><polygon fill=\"#0000FF\" points=\"875.651,306.961,868.9568,299.7369,871.0559,304.9899,865.803,307.089,875.651,306.961\" style=\"stroke: #0000FF; stroke-width: 1.0;\"/></g></svg>"
      ],
      "text/plain": [
       "<IPython.core.display.SVG object>"
      ]
     },
     "execution_count": 29,
     "metadata": {},
     "output_type": "execute_result"
    }
   ],
   "source": [
    "%%plantuml\n",
    "\n",
    "@startuml\n",
    "\n",
    "\n",
    "state Energiecampus{\n",
    "    Hausstrom : remove\n",
    "    Gasmischer : Wasserstoff aus Elektrolyse, methanhaltiges Gas aus Methanisierung, Erdgas dem öffentlichen Netz.\n",
    "    Wärmeübergabestation : Fernwärmenetz zu Zentralheizung des Gebäudes. \n",
    "}\n",
    "\n",
    "state Versorger{\n",
    "    Strom -[#blue]-> Hausstrom \n",
    "    Strom : elektrische Leistung\n",
    "    Erdgas -[#red]-> Gasmischer\n",
    "    Erdgas : chemische Leistung\n",
    "    Fernwärme -[#green]-> Wärmeübergabestation\n",
    "    Fernwärme : thermische Leistung\n",
    "}\n",
    "\n",
    "state Energiecampus{\n",
    "    \n",
    "    state Verbraucher {\n",
    "        Elektroauto : Lade- Entlade-Leistung : ?? kW\n",
    "        Elektroauto : Kapazität : 22 kWh\n",
    "        Raumheizung : ?? kW\n",
    "        Warmwasserbereitung : ?? kW\n",
    "        Hausstrom : ?? kW\n",
    "    }                    \n",
    "    \n",
    "    Blockheizkraftwerk -[#green]-> thermischerSpeicher\n",
    "    Blockheizkraftwerk -[#blue]-> Hausstrom\n",
    "    Blockheizkraftwerk : Erdgas, Flüssiggas, maximal 20% Wasserstoffanteil\n",
    "    Blockheizkraftwerk : Leistung (elektrisch) : 5-16 kW\n",
    "\n",
    "    Gasmischer -[#red]-> Blockheizkraftwerk\n",
    "\n",
    "    Wärmeübergabestation : Zusätzlich zwei Power-to-heat Module als steuerbare elektrische Last genutzt werden. \n",
    "    Wärmeübergabestation : Leistung (thermisch) : 15 kW\n",
    "    Wärmeübergabestation : Leistung (elektrisch) P2H: 1.2-18 kW\n",
    "    Wärmeübergabestation : Rückkühler Leistung (thermisch): 45 kW\n",
    "    Wärmeübergabestation -[#green]-> thermischerSpeicher\n",
    "\n",
    "    Batteriespeicher : Lithium-Ionen Akkumulatoren und Superkondensatoren. \n",
    "    Batteriespeicher : Leistung: 50 kW\n",
    "    Batteriespeicher : Kapazität: 30 kWh + 300 Wh\n",
    "    Batteriespeicher : Latenzzeit: < 10 ms\n",
    "    Batteriespeicher -[#blue]-> Hausstrom\n",
    "    Hausstrom -[#blue]-> Batteriespeicher\n",
    "    Hausstrom -[#blue]-> Elektroauto\n",
    "\n",
    "    Photovoltaik : Leistung: ca. 10 kWp\n",
    "    Photovoltaik -[#blue]-> Strom\n",
    "    Photovoltaik -[#blue]-> Hausstrom\n",
    "\n",
    "    Elektrolyse : el. Leistung 10kW\n",
    "    Elektrolyse : Wasserstoffproduktion 2,92 m3/h\n",
    "    Hausstrom -[#blue]-> Elektrolyse\n",
    "    Elektrolyse -[#red]-> Gasmischer\n",
    "    Elektrolyse -[#red]-> Methanisierung\n",
    "\n",
    "    Methanisierung : Methanproduktion: 0,2 m³/h\n",
    "    Methanisierung -[#red]-> Gasmischer\n",
    "\n",
    "    thermischerSpeicher -[#green]-> Warmwasserbereitung\n",
    "    thermischerSpeicher -[#green]-> Raumheizung\n",
    "    thermischerSpeicher : 1000l Wasser\n",
    "\n",
    "    Elektroheizstäbe : el. Leistung: 24 kW\n",
    "    Elektroheizstäbe : thermische Leistung: 11 kW\n",
    "    Elektroheizstäbe -[#blue]-> thermischerSpeicher\n",
    "                                                                                \n",
    "    Hausstrom -[#blue]-> Elektroheizstäbe\n",
    "}\n",
    "\n",
    "@enduml "
   ]
  },
  {
   "cell_type": "code",
   "execution_count": null,
   "metadata": {
    "collapsed": true
   },
   "outputs": [],
   "source": []
  }
 ],
 "metadata": {
  "celltoolbar": "Slideshow",
  "kernelspec": {
   "display_name": "Python 3",
   "language": "python",
   "name": "python3"
  },
  "language_info": {
   "codemirror_mode": {
    "name": "ipython",
    "version": 3
   },
   "file_extension": ".py",
   "mimetype": "text/x-python",
   "name": "python",
   "nbconvert_exporter": "python",
   "pygments_lexer": "ipython3",
   "version": "3.5.2"
  }
 },
 "nbformat": 4,
 "nbformat_minor": 1
}
