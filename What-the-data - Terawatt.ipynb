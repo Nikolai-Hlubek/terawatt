{
 "cells": [
  {
   "cell_type": "markdown",
   "metadata": {
    "slideshow": {
     "slide_type": "slide"
    }
   },
   "source": [
    "# Projekt Terawatt\n",
    "\n",
    "Simulation der Systemdelays am Energiecampus."
   ]
  },
  {
   "cell_type": "code",
   "execution_count": 1,
   "metadata": {
    "collapsed": true,
    "slideshow": {
     "slide_type": "skip"
    }
   },
   "outputs": [],
   "source": [
    "import iplantuml"
   ]
  },
  {
   "cell_type": "code",
   "execution_count": 26,
   "metadata": {
    "collapsed": false,
    "scrolled": false,
    "slideshow": {
     "slide_type": "slide"
    }
   },
   "outputs": [
    {
     "data": {
      "image/svg+xml": [
       "<svg height=\"597px\" style=\"width:2254px;height:597px;\" version=\"1.1\" viewBox=\"0 0 2254 597\" width=\"2254px\" xmlns=\"http://www.w3.org/2000/svg\" xmlns:xlink=\"http://www.w3.org/1999/xlink\"><defs><filter height=\"300%\" id=\"f1\" width=\"300%\" x=\"-1\" y=\"-1\"><feGaussianBlur result=\"blurOut\" stdDeviation=\"2.0\"/><feColorMatrix in=\"blurOut\" result=\"blurOut2\" type=\"matrix\" values=\"0 0 0 0 0 0 0 0 0 0 0 0 0 0 0 0 0 0 .4 0\"/><feOffset dx=\"4.0\" dy=\"4.0\" in=\"blurOut2\" result=\"blurOut3\"/><feBlend in=\"SourceGraphic\" in2=\"blurOut3\" mode=\"normal\"/></filter></defs><g><rect fill=\"#FEFECE\" filter=\"url(#f1)\" height=\"101\" rx=\"12.5\" ry=\"12.5\" style=\"stroke: #A80036; stroke-width: 1.5;\" width=\"329\" x=\"894.5\" y=\"24\"/><rect fill=\"#FFFFFF\" height=\"68.7031\" rx=\"12.5\" ry=\"12.5\" style=\"stroke: #FFFFFF; stroke-width: 1.0;\" width=\"323\" x=\"897.5\" y=\"53.2969\"/><line style=\"stroke: #A80036; stroke-width: 1.5;\" x1=\"894.5\" x2=\"1223.5\" y1=\"50.2969\" y2=\"50.2969\"/><text fill=\"#000000\" font-family=\"sans-serif\" font-size=\"14\" lengthAdjust=\"spacingAndGlyphs\" textLength=\"68\" x=\"1025\" y=\"40.9951\">Versorger</text><rect fill=\"#FEFECE\" filter=\"url(#f1)\" height=\"50\" rx=\"12.5\" ry=\"12.5\" style=\"stroke: #A80036; stroke-width: 1.5;\" width=\"61\" x=\"1146\" y=\"59\"/><line style=\"stroke: #A80036; stroke-width: 1.5;\" x1=\"1146\" x2=\"1207\" y1=\"85.2969\" y2=\"85.2969\"/><text fill=\"#000000\" font-family=\"sans-serif\" font-size=\"14\" lengthAdjust=\"spacingAndGlyphs\" textLength=\"41\" x=\"1156\" y=\"76.9951\">Strom</text><rect fill=\"#FEFECE\" filter=\"url(#f1)\" height=\"50\" rx=\"12.5\" ry=\"12.5\" style=\"stroke: #A80036; stroke-width: 1.5;\" width=\"68\" x=\"1042.5\" y=\"59\"/><line style=\"stroke: #A80036; stroke-width: 1.5;\" x1=\"1042.5\" x2=\"1110.5\" y1=\"85.2969\" y2=\"85.2969\"/><text fill=\"#000000\" font-family=\"sans-serif\" font-size=\"14\" lengthAdjust=\"spacingAndGlyphs\" textLength=\"48\" x=\"1052.5\" y=\"76.9951\">Erdgas</text><rect fill=\"#FEFECE\" filter=\"url(#f1)\" height=\"50\" rx=\"12.5\" ry=\"12.5\" style=\"stroke: #A80036; stroke-width: 1.5;\" width=\"97\" x=\"910\" y=\"59\"/><line style=\"stroke: #A80036; stroke-width: 1.5;\" x1=\"910\" x2=\"1007\" y1=\"85.2969\" y2=\"85.2969\"/><text fill=\"#000000\" font-family=\"sans-serif\" font-size=\"14\" lengthAdjust=\"spacingAndGlyphs\" textLength=\"77\" x=\"920\" y=\"76.9951\">Fernwärme</text><rect fill=\"#FEFECE\" filter=\"url(#f1)\" height=\"421.2969\" rx=\"12.5\" ry=\"12.5\" style=\"stroke: #A80036; stroke-width: 1.5;\" width=\"2241\" x=\"6\" y=\"169\"/><rect fill=\"#FFFFFF\" height=\"389\" rx=\"12.5\" ry=\"12.5\" style=\"stroke: #FFFFFF; stroke-width: 1.0;\" width=\"2235\" x=\"9\" y=\"198.2969\"/><line style=\"stroke: #A80036; stroke-width: 1.5;\" x1=\"6\" x2=\"2247\" y1=\"195.2969\" y2=\"195.2969\"/><text fill=\"#000000\" font-family=\"sans-serif\" font-size=\"14\" lengthAdjust=\"spacingAndGlyphs\" textLength=\"108\" x=\"1072.5\" y=\"186.9951\">Energiecampus</text><rect fill=\"#FEFECE\" filter=\"url(#f1)\" height=\"64.2344\" rx=\"12.5\" ry=\"12.5\" style=\"stroke: #A80036; stroke-width: 1.5;\" width=\"340\" x=\"632.5\" y=\"383.2969\"/><line style=\"stroke: #A80036; stroke-width: 1.5;\" x1=\"632.5\" x2=\"972.5\" y1=\"409.5938\" y2=\"409.5938\"/><text fill=\"#000000\" font-family=\"sans-serif\" font-size=\"14\" lengthAdjust=\"spacingAndGlyphs\" textLength=\"130\" x=\"737.5\" y=\"401.292\">Blockheizkraftwerk</text><text fill=\"#000000\" font-family=\"sans-serif\" font-size=\"12\" lengthAdjust=\"spacingAndGlyphs\" textLength=\"320\" x=\"637.5\" y=\"425.7324\">Erdgas, Flüssiggas, maximal 20% Wasserstoffanteil</text><text fill=\"#000000\" font-family=\"sans-serif\" font-size=\"12\" lengthAdjust=\"spacingAndGlyphs\" textLength=\"190\" x=\"637.5\" y=\"439.7012\">Leistung (elektrisch) : 5-16 kW</text><rect fill=\"#FEFECE\" filter=\"url(#f1)\" height=\"50\" rx=\"12.5\" ry=\"12.5\" style=\"stroke: #A80036; stroke-width: 1.5;\" width=\"116\" x=\"580.5\" y=\"504.2969\"/><line style=\"stroke: #A80036; stroke-width: 1.5;\" x1=\"580.5\" x2=\"696.5\" y1=\"530.5938\" y2=\"530.5938\"/><text fill=\"#000000\" font-family=\"sans-serif\" font-size=\"14\" lengthAdjust=\"spacingAndGlyphs\" textLength=\"96\" x=\"590.5\" y=\"522.292\">Raumheizung</text><rect fill=\"#FEFECE\" filter=\"url(#f1)\" height=\"50\" rx=\"12.5\" ry=\"12.5\" style=\"stroke: #A80036; stroke-width: 1.5;\" width=\"175\" x=\"715\" y=\"504.2969\"/><line style=\"stroke: #A80036; stroke-width: 1.5;\" x1=\"715\" x2=\"890\" y1=\"530.5938\" y2=\"530.5938\"/><text fill=\"#000000\" font-family=\"sans-serif\" font-size=\"14\" lengthAdjust=\"spacingAndGlyphs\" textLength=\"155\" x=\"725\" y=\"522.292\">Warmwasserbereitung</text><rect fill=\"#FEFECE\" filter=\"url(#f1)\" height=\"50\" rx=\"12.5\" ry=\"12.5\" style=\"stroke: #A80036; stroke-width: 1.5;\" width=\"92\" x=\"1076.5\" y=\"504.2969\"/><line style=\"stroke: #A80036; stroke-width: 1.5;\" x1=\"1076.5\" x2=\"1168.5\" y1=\"530.5938\" y2=\"530.5938\"/><text fill=\"#000000\" font-family=\"sans-serif\" font-size=\"14\" lengthAdjust=\"spacingAndGlyphs\" textLength=\"72\" x=\"1086.5\" y=\"522.292\">Stromnetz</text><rect fill=\"#FEFECE\" filter=\"url(#f1)\" height=\"50.2656\" rx=\"12.5\" ry=\"12.5\" style=\"stroke: #A80036; stroke-width: 1.5;\" width=\"651\" x=\"477\" y=\"269.2969\"/><line style=\"stroke: #A80036; stroke-width: 1.5;\" x1=\"477\" x2=\"1128\" y1=\"295.5938\" y2=\"295.5938\"/><text fill=\"#000000\" font-family=\"sans-serif\" font-size=\"14\" lengthAdjust=\"spacingAndGlyphs\" textLength=\"82\" x=\"761.5\" y=\"287.292\">Gasmischer</text><text fill=\"#000000\" font-family=\"sans-serif\" font-size=\"12\" lengthAdjust=\"spacingAndGlyphs\" textLength=\"631\" x=\"482\" y=\"311.7324\">Wasserstoff aus Elektrolyse, methanhaltiges Gas aus Methanisierung, Erdgas dem öffentlichen Netz.</text><rect fill=\"#FEFECE\" filter=\"url(#f1)\" height=\"106.1406\" rx=\"12.5\" ry=\"12.5\" style=\"stroke: #A80036; stroke-width: 1.5;\" width=\"557\" x=\"1146\" y=\"241.2969\"/><line style=\"stroke: #A80036; stroke-width: 1.5;\" x1=\"1146\" x2=\"1703\" y1=\"267.5938\" y2=\"267.5938\"/><text fill=\"#000000\" font-family=\"sans-serif\" font-size=\"14\" lengthAdjust=\"spacingAndGlyphs\" textLength=\"162\" x=\"1343.5\" y=\"259.292\">Wärmeübergabestation</text><text fill=\"#000000\" font-family=\"sans-serif\" font-size=\"12\" lengthAdjust=\"spacingAndGlyphs\" textLength=\"309\" x=\"1151\" y=\"283.7324\">Fernwärmenetz zu Zentralheizung des Gebäudes.</text><text fill=\"#000000\" font-family=\"sans-serif\" font-size=\"12\" lengthAdjust=\"spacingAndGlyphs\" textLength=\"537\" x=\"1151\" y=\"297.7012\">Zusätzlich zwei Power-to-heat Module als steuerbare elektrische Last genutzt werden.</text><text fill=\"#000000\" font-family=\"sans-serif\" font-size=\"12\" lengthAdjust=\"spacingAndGlyphs\" textLength=\"179\" x=\"1151\" y=\"311.6699\">Leistung (thermisch) : 15 kW</text><text fill=\"#000000\" font-family=\"sans-serif\" font-size=\"12\" lengthAdjust=\"spacingAndGlyphs\" textLength=\"227\" x=\"1151\" y=\"325.6387\">Leistung (elektrisch) P2H: 1.2-18 kW</text><text fill=\"#000000\" font-family=\"sans-serif\" font-size=\"12\" lengthAdjust=\"spacingAndGlyphs\" textLength=\"248\" x=\"1151\" y=\"339.6074\">Rückkühler Leistung (thermisch): 45 kW</text><rect fill=\"#FEFECE\" filter=\"url(#f1)\" height=\"92.1719\" rx=\"12.5\" ry=\"12.5\" style=\"stroke: #A80036; stroke-width: 1.5;\" width=\"370\" x=\"192.5\" y=\"483.2969\"/><line style=\"stroke: #A80036; stroke-width: 1.5;\" x1=\"192.5\" x2=\"562.5\" y1=\"509.5938\" y2=\"509.5938\"/><text fill=\"#000000\" font-family=\"sans-serif\" font-size=\"14\" lengthAdjust=\"spacingAndGlyphs\" textLength=\"114\" x=\"320.5\" y=\"501.292\">Batteriespeicher</text><text fill=\"#000000\" font-family=\"sans-serif\" font-size=\"12\" lengthAdjust=\"spacingAndGlyphs\" textLength=\"350\" x=\"197.5\" y=\"525.7324\">Lithium-Ionen Akkumulatoren und Superkondensatoren.</text><text fill=\"#000000\" font-family=\"sans-serif\" font-size=\"12\" lengthAdjust=\"spacingAndGlyphs\" textLength=\"104\" x=\"197.5\" y=\"539.7012\">Leistung: 50 kVA</text><text fill=\"#000000\" font-family=\"sans-serif\" font-size=\"12\" lengthAdjust=\"spacingAndGlyphs\" textLength=\"176\" x=\"197.5\" y=\"553.6699\">Kapazität: 30 kWh + 300 Wh</text><text fill=\"#000000\" font-family=\"sans-serif\" font-size=\"12\" lengthAdjust=\"spacingAndGlyphs\" textLength=\"121\" x=\"197.5\" y=\"567.6387\">Latenzzeit: &lt; 10 ms</text><rect fill=\"#FEFECE\" filter=\"url(#f1)\" height=\"50.2656\" rx=\"12.5\" ry=\"12.5\" style=\"stroke: #A80036; stroke-width: 1.5;\" width=\"150\" x=\"908.5\" y=\"504.2969\"/><line style=\"stroke: #A80036; stroke-width: 1.5;\" x1=\"908.5\" x2=\"1058.5\" y1=\"530.5938\" y2=\"530.5938\"/><text fill=\"#000000\" font-family=\"sans-serif\" font-size=\"14\" lengthAdjust=\"spacingAndGlyphs\" textLength=\"84\" x=\"941.5\" y=\"522.292\">Photovoltaik</text><text fill=\"#000000\" font-family=\"sans-serif\" font-size=\"12\" lengthAdjust=\"spacingAndGlyphs\" textLength=\"130\" x=\"913.5\" y=\"546.7324\">Leistung: ca. 10 kWp</text><rect fill=\"#FEFECE\" filter=\"url(#f1)\" height=\"64.2344\" rx=\"12.5\" ry=\"12.5\" style=\"stroke: #A80036; stroke-width: 1.5;\" width=\"229\" x=\"17\" y=\"262.2969\"/><line style=\"stroke: #A80036; stroke-width: 1.5;\" x1=\"17\" x2=\"246\" y1=\"288.5938\" y2=\"288.5938\"/><text fill=\"#000000\" font-family=\"sans-serif\" font-size=\"14\" lengthAdjust=\"spacingAndGlyphs\" textLength=\"75\" x=\"94\" y=\"280.292\">Elektrolyse</text><text fill=\"#000000\" font-family=\"sans-serif\" font-size=\"12\" lengthAdjust=\"spacingAndGlyphs\" textLength=\"110\" x=\"22\" y=\"304.7324\">el. Leistung 10kW</text><text fill=\"#000000\" font-family=\"sans-serif\" font-size=\"12\" lengthAdjust=\"spacingAndGlyphs\" textLength=\"209\" x=\"22\" y=\"318.7012\">Wasserstoffproduktion 2,92 m3/h</text><rect fill=\"#FEFECE\" filter=\"url(#f1)\" height=\"50.2656\" rx=\"12.5\" ry=\"12.5\" style=\"stroke: #A80036; stroke-width: 1.5;\" width=\"195\" x=\"264\" y=\"269.2969\"/><line style=\"stroke: #A80036; stroke-width: 1.5;\" x1=\"264\" x2=\"459\" y1=\"295.5938\" y2=\"295.5938\"/><text fill=\"#000000\" font-family=\"sans-serif\" font-size=\"14\" lengthAdjust=\"spacingAndGlyphs\" textLength=\"107\" x=\"308\" y=\"287.292\">Methanisierung</text><text fill=\"#000000\" font-family=\"sans-serif\" font-size=\"12\" lengthAdjust=\"spacingAndGlyphs\" textLength=\"175\" x=\"269\" y=\"311.7324\">Methanproduktion: 0,2 m³/h</text><rect fill=\"#FEFECE\" filter=\"url(#f1)\" height=\"50.2656\" rx=\"12.5\" ry=\"12.5\" style=\"stroke: #A80036; stroke-width: 1.5;\" width=\"99\" x=\"1721\" y=\"269.2969\"/><line style=\"stroke: #A80036; stroke-width: 1.5;\" x1=\"1721\" x2=\"1820\" y1=\"295.5938\" y2=\"295.5938\"/><text fill=\"#000000\" font-family=\"sans-serif\" font-size=\"14\" lengthAdjust=\"spacingAndGlyphs\" textLength=\"79\" x=\"1731\" y=\"287.292\">Elektroauto</text><text fill=\"#000000\" font-family=\"sans-serif\" font-size=\"12\" lengthAdjust=\"spacingAndGlyphs\" textLength=\"46\" x=\"1726\" y=\"311.7324\">22 kWh</text><rect fill=\"#FEFECE\" filter=\"url(#f1)\" height=\"50.2656\" rx=\"12.5\" ry=\"12.5\" style=\"stroke: #A80036; stroke-width: 1.5;\" width=\"164\" x=\"1838.5\" y=\"269.2969\"/><line style=\"stroke: #A80036; stroke-width: 1.5;\" x1=\"1838.5\" x2=\"2002.5\" y1=\"295.5938\" y2=\"295.5938\"/><text fill=\"#000000\" font-family=\"sans-serif\" font-size=\"14\" lengthAdjust=\"spacingAndGlyphs\" textLength=\"144\" x=\"1848.5\" y=\"287.292\">thermischerSpeicher</text><text fill=\"#000000\" font-family=\"sans-serif\" font-size=\"12\" lengthAdjust=\"spacingAndGlyphs\" textLength=\"85\" x=\"1843.5\" y=\"311.7324\">1000l Wasser</text><rect fill=\"#FEFECE\" filter=\"url(#f1)\" height=\"64.2344\" rx=\"12.5\" ry=\"12.5\" style=\"stroke: #A80036; stroke-width: 1.5;\" width=\"193\" x=\"2021\" y=\"262.2969\"/><line style=\"stroke: #A80036; stroke-width: 1.5;\" x1=\"2021\" x2=\"2214\" y1=\"288.5938\" y2=\"288.5938\"/><text fill=\"#000000\" font-family=\"sans-serif\" font-size=\"14\" lengthAdjust=\"spacingAndGlyphs\" textLength=\"116\" x=\"2059.5\" y=\"280.292\">Elektroheizstäbe</text><text fill=\"#000000\" font-family=\"sans-serif\" font-size=\"12\" lengthAdjust=\"spacingAndGlyphs\" textLength=\"128\" x=\"2026\" y=\"304.7324\">el. Leistung: 3x 8 kW</text><text fill=\"#000000\" font-family=\"sans-serif\" font-size=\"12\" lengthAdjust=\"spacingAndGlyphs\" textLength=\"173\" x=\"2026\" y=\"318.7012\">thermische Leistung: 11 kW</text><path d=\"M756.817,447.4949 C732.102,464.3739 701.87,485.0195 678.153,501.2166 \" fill=\"none\" style=\"stroke: #A80036; stroke-width: 1.0;\"/><polygon fill=\"#A80036\" points=\"673.803,504.1873,683.491,502.4145,677.9319,501.3673,678.9791,495.8082,673.803,504.1873\" style=\"stroke: #A80036; stroke-width: 1.0;\"/><path d=\"M802.5,447.4949 C802.5,463.5449 802.5,483.0016 802.5,498.8002 \" fill=\"none\" style=\"stroke: #A80036; stroke-width: 1.0;\"/><polygon fill=\"#A80036\" points=\"802.5,504.0075,806.5,495.0075,802.5,499.0075,798.5,495.0075,802.5,504.0075\" style=\"stroke: #A80036; stroke-width: 1.0;\"/><path d=\"M971.913,447.3389 C1004.578,456.5689 1037.83,468.3509 1067.5,483.2969 C1076.78,487.9718 1085.91,494.4411 1093.98,501.0181 \" fill=\"none\" style=\"stroke: #A80036; stroke-width: 1.0;\"/><polygon fill=\"#A80036\" points=\"1097.85,504.2481,1093.4969,495.4135,1094.009,501.0471,1088.3753,501.5591,1097.85,504.2481\" style=\"stroke: #A80036; stroke-width: 1.0;\"/><path d=\"M802.5,319.3779 C802.5,336.1389 802.5,358.7959 802.5,377.7699 \" fill=\"none\" style=\"stroke: #A80036; stroke-width: 1.0;\"/><polygon fill=\"#A80036\" points=\"802.5,383.0169,806.5,374.0169,802.5,378.0169,798.5,374.0169,802.5,383.0169\" style=\"stroke: #A80036; stroke-width: 1.0;\"/><path d=\"M502.778,483.2667 C528.171,475.7996 554.934,469.2319 580.5,465.2969 C632.993,457.2179 1009.432,444.9719 1058.5,465.2969 C1075.73,472.4359 1090.75,486.7173 1101.89,499.9813 \" fill=\"none\" style=\"stroke: #A80036; stroke-width: 1.0;\"/><polygon fill=\"#A80036\" points=\"1105.23,504.0561,1102.6294,494.5568,1102.0649,500.1854,1096.4363,499.6209,1105.23,504.0561\" style=\"stroke: #A80036; stroke-width: 1.0;\"/><path d=\"M1058.7,529.2969 C1062.79,529.2969 1066.88,529.2969 1070.97,529.2969 \" fill=\"none\" style=\"stroke: #A80036; stroke-width: 1.0;\"/><polygon fill=\"#A80036\" points=\"1076.15,529.2969,1067.15,525.2969,1071.15,529.2969,1067.15,533.2969,1076.15,529.2969\" style=\"stroke: #A80036; stroke-width: 1.0;\"/><path d=\"M178.122,262.1149 C202.643,247.1319 233.903,230.9529 264.5,223.2969 C427.79,182.4409 625.203,233.1939 729.576,267.5879 \" fill=\"none\" style=\"stroke: #A80036; stroke-width: 1.0;\"/><polygon fill=\"#A80036\" points=\"734.475,269.2129,727.1922,262.5826,729.7293,267.6386,724.6733,270.1757,734.475,269.2129\" style=\"stroke: #A80036; stroke-width: 1.0;\"/><path d=\"M246.051,294.2969 C250.173,294.2969 254.295,294.2969 258.417,294.2969 \" fill=\"none\" style=\"stroke: #A80036; stroke-width: 1.0;\"/><polygon fill=\"#A80036\" points=\"263.639,294.2969,254.639,290.2969,258.639,294.2969,254.639,298.2969,263.639,294.2969\" style=\"stroke: #A80036; stroke-width: 1.0;\"/><path d=\"M1165.02,109.018 C1160.82,123.019 1156.2,142.178 1151.61,163.876 \" fill=\"none\" style=\"stroke: #A80036; stroke-width: 1.0;\"/><polygon fill=\"#A80036\" points=\"1150.57,168.841,1156.3291,160.8515,1151.5944,163.9471,1148.4989,159.2124,1150.57,168.841\" style=\"stroke: #A80036; stroke-width: 1.0;\"/><path d=\"M1174.55,168.841 C1177.31,147.702 1179.27,128.71 1180.01,114.17 \" fill=\"none\" style=\"stroke: #A80036; stroke-width: 1.0;\"/><polygon fill=\"#A80036\" points=\"1180.23,109.018,1175.8508,117.8397,1180.0173,114.0135,1183.8436,118.18,1180.23,109.018\" style=\"stroke: #A80036; stroke-width: 1.0;\"/><path d=\"M1080.59,109.018 C1082.98,123.019 1086.24,142.178 1089.94,163.876 \" fill=\"none\" style=\"stroke: #A80036; stroke-width: 1.0;\"/><polygon fill=\"#A80036\" points=\"1090.78,168.841,1093.211,159.2969,1089.9399,163.9121,1085.3248,160.641,1090.78,168.841\" style=\"stroke: #A80036; stroke-width: 1.0;\"/><path d=\"M972.248,109.018 C980.33,123.137 991.413,142.5 1003.962,164.423 \" fill=\"none\" style=\"stroke: #A80036; stroke-width: 1.0;\"/><polygon fill=\"#A80036\" points=\"1006.49,168.841,1005.4929,159.0427,1004.0072,164.501,998.5489,163.0153,1006.49,168.841\" style=\"stroke: #A80036; stroke-width: 1.0;\"/></g></svg>"
      ],
      "text/plain": [
       "<IPython.core.display.SVG object>"
      ]
     },
     "execution_count": 26,
     "metadata": {},
     "output_type": "execute_result"
    }
   ],
   "source": [
    "%%plantuml\n",
    "\n",
    "@startuml\n",
    "\n",
    "state Versorger{\n",
    "    Strom --> Energiecampus\n",
    "    Energiecampus --> Strom\n",
    "    Erdgas --> Energiecampus\n",
    "    Fernwärme --> Energiecampus\n",
    "}\n",
    "\n",
    "state Energiecampus{\n",
    "    Blockheizkraftwerk --> Raumheizung\n",
    "    Blockheizkraftwerk --> Warmwasserbereitung\n",
    "    Blockheizkraftwerk --> Stromnetz\n",
    "    Blockheizkraftwerk : Erdgas, Flüssiggas, maximal 20% Wasserstoffanteil\n",
    "    Blockheizkraftwerk : Leistung (elektrisch) : 5-16 kW\n",
    "\n",
    "    Gasmischer : Wasserstoff aus Elektrolyse, methanhaltiges Gas aus Methanisierung, Erdgas dem öffentlichen Netz.\n",
    "    Gasmischer --> Blockheizkraftwerk\n",
    "\n",
    "    Wärmeübergabestation : Fernwärmenetz zu Zentralheizung des Gebäudes. \n",
    "    Wärmeübergabestation : Zusätzlich zwei Power-to-heat Module als steuerbare elektrische Last genutzt werden. \n",
    "    Wärmeübergabestation : Leistung (thermisch) : 15 kW\n",
    "    Wärmeübergabestation : Leistung (elektrisch) P2H: 1.2-18 kW\n",
    "    Wärmeübergabestation : Rückkühler Leistung (thermisch): 45 kW\n",
    "\n",
    "    Batteriespeicher : Lithium-Ionen Akkumulatoren und Superkondensatoren. \n",
    "    Batteriespeicher : Leistung: 50 kVA\n",
    "    Batteriespeicher : Kapazität: 30 kWh + 300 Wh\n",
    "    Batteriespeicher : Latenzzeit: < 10 ms\n",
    "    Batteriespeicher -> Stromnetz\n",
    "\n",
    "    Photovoltaik : Leistung: ca. 10 kWp\n",
    "    Photovoltaik -> Stromnetz\n",
    "\n",
    "    Elektrolyse : el. Leistung 10kW\n",
    "    Elektrolyse : Wasserstoffproduktion 2,92 m3/h\n",
    "    Elektrolyse -> Gasmischer\n",
    "    Elektrolyse -> Methanisierung\n",
    "\n",
    "    Methanisierung : Methanproduktion: 0,2 m³/h\n",
    "\n",
    "    Elektroauto : 22 kWh\n",
    "\n",
    "    thermischerSpeicher : 1000l Wasser\n",
    "\n",
    "    Elektroheizstäbe : el. Leistung: 3x 8 kW\n",
    "    Elektroheizstäbe : thermische Leistung: 11 kW\n",
    "}\n",
    "\n",
    "@enduml "
   ]
  },
  {
   "cell_type": "code",
   "execution_count": null,
   "metadata": {
    "collapsed": true
   },
   "outputs": [],
   "source": []
  }
 ],
 "metadata": {
  "celltoolbar": "Slideshow",
  "kernelspec": {
   "display_name": "Python 3",
   "language": "python",
   "name": "python3"
  },
  "language_info": {
   "codemirror_mode": {
    "name": "ipython",
    "version": 3
   },
   "file_extension": ".py",
   "mimetype": "text/x-python",
   "name": "python",
   "nbconvert_exporter": "python",
   "pygments_lexer": "ipython3",
   "version": "3.5.2"
  }
 },
 "nbformat": 4,
 "nbformat_minor": 1
}
