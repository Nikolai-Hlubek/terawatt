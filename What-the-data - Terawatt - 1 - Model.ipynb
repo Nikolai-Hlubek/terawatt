{
 "cells": [
  {
   "cell_type": "markdown",
   "metadata": {
    "slideshow": {
     "slide_type": "slide"
    }
   },
   "source": [
    "# Projekt Terawatt\n",
    "\n",
    "*von Team Coding Agents*\n",
    "\n",
    "\n",
    "----\n",
    "\n",
    "\n",
    "## Grundlagen\n",
    "\n",
    "Simulation der Systemdelays am Energiecampus.\n",
    "\n",
    "https://github.com/Nikolai-Hlubek/terawatt"
   ]
  },
  {
   "cell_type": "code",
   "execution_count": 1,
   "metadata": {
    "collapsed": false,
    "slideshow": {
     "slide_type": "skip"
    }
   },
   "outputs": [
    {
     "data": {
      "text/html": [
       "<script>requirejs.config({paths: { 'plotly': ['https://cdn.plot.ly/plotly-latest.min']},});if(!window.Plotly) {{require(['plotly'],function(plotly) {window.Plotly=plotly;});}}</script>"
      ],
      "text/plain": [
       "<IPython.core.display.HTML object>"
      ]
     },
     "metadata": {},
     "output_type": "display_data"
    }
   ],
   "source": [
    "import iplantuml\n",
    "import datetime\n",
    "import terawatt_model\n",
    "\n",
    "from plotly.offline import download_plotlyjs, init_notebook_mode, plot, iplot\n",
    "import plotly.graph_objs as go\n",
    "# run at the start of every ipython notebook to use plotly.offline\n",
    "# this injects the plotly.js source files into the notebook\n",
    "init_notebook_mode(connected=True)\n",
    "\n",
    "from IPython.display import IFrame"
   ]
  },
  {
   "cell_type": "code",
   "execution_count": 2,
   "metadata": {
    "collapsed": false,
    "slideshow": {
     "slide_type": "skip"
    }
   },
   "outputs": [
    {
     "data": {
      "image/svg+xml": [
       "<svg contentScriptType=\"application/ecmascript\" contentStyleType=\"text/css\" height=\"283.3333px\" preserveAspectRatio=\"none\" style=\"width:461px;height:283px;\" version=\"1.1\" viewBox=\"0 0 461 283\" width=\"461.4583px\" xmlns=\"http://www.w3.org/2000/svg\" xmlns:xlink=\"http://www.w3.org/1999/xlink\" zoomAndPan=\"magnify\"><defs><filter height=\"300%\" id=\"fwpikk8\" width=\"300%\" x=\"-1\" y=\"-1\"><feGaussianBlur result=\"blurOut\" stdDeviation=\"2.0833333333333335\"/><feColorMatrix in=\"blurOut\" result=\"blurOut2\" type=\"matrix\" values=\"0 0 0 0 0 0 0 0 0 0 0 0 0 0 0 0 0 0 .4 0\"/><feOffset dx=\"4.166666666666667\" dy=\"4.166666666666667\" in=\"blurOut2\" result=\"blurOut3\"/><feBlend in=\"SourceGraphic\" in2=\"blurOut3\" mode=\"normal\"/></filter></defs><g><rect fill=\"#FEFECE\" filter=\"url(#fwpikk8)\" height=\"268.0541\" rx=\"13.0208\" ry=\"13.0208\" style=\"stroke: #A80036; stroke-width: 1.5625;\" width=\"447.9167\" x=\"6.25\" y=\"8.8542\"/><rect fill=\"#FFFFFF\" height=\"233.3333\" rx=\"13.0208\" ry=\"13.0208\" style=\"stroke: #FFFFFF; stroke-width: 1.0416666666666667;\" width=\"441.6667\" x=\"9.375\" y=\"40.4499\"/><line style=\"stroke: #A80036; stroke-width: 1.5625;\" x1=\"6.25\" x2=\"454.1667\" y1=\"37.3249\" y2=\"37.3249\"/><text fill=\"#000000\" font-family=\"sans-serif\" font-size=\"14.5833\" lengthAdjust=\"spacingAndGlyphs\" textLength=\"146.875\" x=\"156.7708\" y=\"27.9604\">SoftwareInfrastructure</text><rect fill=\"#FEFECE\" filter=\"url(#fwpikk8)\" height=\"69.8376\" rx=\"13.0208\" ry=\"13.0208\" style=\"stroke: #A80036; stroke-width: 1.5625;\" width=\"206.25\" x=\"90.625\" y=\"51.3874\"/><line style=\"stroke: #A80036; stroke-width: 1.5625;\" x1=\"90.625\" x2=\"296.875\" y1=\"79.8582\" y2=\"79.8582\"/><text fill=\"#000000\" font-family=\"sans-serif\" font-size=\"14.5833\" lengthAdjust=\"spacingAndGlyphs\" textLength=\"50\" x=\"168.75\" y=\"70.4936\">vagrant</text><text fill=\"#000000\" font-family=\"sans-serif\" font-size=\"12.5\" lengthAdjust=\"spacingAndGlyphs\" textLength=\"141.6667\" x=\"95.8333\" y=\"96.9791\">provision virtual machine</text><text fill=\"#000000\" font-family=\"sans-serif\" font-size=\"12.5\" lengthAdjust=\"spacingAndGlyphs\" textLength=\"185.4167\" x=\"95.8333\" y=\"112.4542\">everyone has same environment</text><rect fill=\"#FEFECE\" filter=\"url(#fwpikk8)\" height=\"54.3625\" rx=\"13.0208\" ry=\"13.0208\" style=\"stroke: #A80036; stroke-width: 1.5625;\" width=\"104.1667\" x=\"17.7083\" y=\"183.1583\"/><line style=\"stroke: #A80036; stroke-width: 1.5625;\" x1=\"17.7083\" x2=\"121.875\" y1=\"211.629\" y2=\"211.629\"/><text fill=\"#000000\" font-family=\"sans-serif\" font-size=\"14.5833\" lengthAdjust=\"spacingAndGlyphs\" textLength=\"40.625\" x=\"49.4792\" y=\"202.2644\">github</text><text fill=\"#000000\" font-family=\"sans-serif\" font-size=\"12.5\" lengthAdjust=\"spacingAndGlyphs\" textLength=\"83.3333\" x=\"22.9167\" y=\"228.7499\">version control</text><rect fill=\"#FEFECE\" filter=\"url(#fwpikk8)\" height=\"100.7879\" rx=\"13.0208\" ry=\"13.0208\" style=\"stroke: #A80036; stroke-width: 1.5625;\" width=\"105.2083\" x=\"141.4063\" y=\"159.7208\"/><line style=\"stroke: #A80036; stroke-width: 1.5625;\" x1=\"141.4063\" x2=\"246.6146\" y1=\"188.1915\" y2=\"188.1915\"/><text fill=\"#000000\" font-family=\"sans-serif\" font-size=\"14.5833\" lengthAdjust=\"spacingAndGlyphs\" textLength=\"44.7917\" x=\"171.6146\" y=\"178.8269\">jupyter</text><text fill=\"#000000\" font-family=\"sans-serif\" font-size=\"12.5\" lengthAdjust=\"spacingAndGlyphs\" textLength=\"70.8333\" x=\"146.6146\" y=\"205.3124\">visualization</text><text fill=\"#000000\" font-family=\"sans-serif\" font-size=\"12.5\" lengthAdjust=\"spacingAndGlyphs\" textLength=\"63.5417\" x=\"146.6146\" y=\"220.7875\">prototyping</text><text fill=\"#000000\" font-family=\"sans-serif\" font-size=\"12.5\" lengthAdjust=\"spacingAndGlyphs\" textLength=\"84.375\" x=\"146.6146\" y=\"236.2626\">documentation</text><text fill=\"#000000\" font-family=\"sans-serif\" font-size=\"12.5\" lengthAdjust=\"spacingAndGlyphs\" textLength=\"70.8333\" x=\"146.6146\" y=\"251.7378\">presentation</text><rect fill=\"#FEFECE\" filter=\"url(#fwpikk8)\" height=\"54.3625\" rx=\"13.0208\" ry=\"13.0208\" style=\"stroke: #A80036; stroke-width: 1.5625;\" width=\"154.1667\" x=\"265.625\" y=\"183.1583\"/><line style=\"stroke: #A80036; stroke-width: 1.5625;\" x1=\"265.625\" x2=\"419.7917\" y1=\"211.629\" y2=\"211.629\"/><text fill=\"#000000\" font-family=\"sans-serif\" font-size=\"14.5833\" lengthAdjust=\"spacingAndGlyphs\" textLength=\"44.7917\" x=\"320.3125\" y=\"202.2644\">python</text><text fill=\"#000000\" font-family=\"sans-serif\" font-size=\"12.5\" lengthAdjust=\"spacingAndGlyphs\" textLength=\"133.3333\" x=\"270.8333\" y=\"228.7499\">programming language</text><path d=\"M159.2208,121.2739 C140.8385,139.3468 118.4206,161.3883 100.6282,178.8816 \" fill=\"none\" style=\"stroke: #A80036; stroke-width: 1.0416666666666667;\"/><polygon fill=\"#A80036\" points=\"96.6745,182.769,106.2808,179.1675,100.3884,179.1175,100.4384,173.2252,96.6745,182.769\" style=\"stroke: #A80036; stroke-width: 1.0416666666666667;\"/><path d=\"M193.75,121.2739 C193.75,131.4426 193.75,142.8676 193.75,154.0322 \" fill=\"none\" style=\"stroke: #A80036; stroke-width: 1.0416666666666667;\"/><polygon fill=\"#A80036\" points=\"193.75,159.4859,197.9167,150.1109,193.75,154.2775,189.5833,150.1109,193.75,159.4859\" style=\"stroke: #A80036; stroke-width: 1.0416666666666667;\"/><path d=\"M235.2427,121.2739 C257.5177,139.4989 284.725,161.759 306.1906,179.3217 \" fill=\"none\" style=\"stroke: #A80036; stroke-width: 1.0416666666666667;\"/><polygon fill=\"#A80036\" points=\"310.4042,182.769,305.7861,173.6079,306.3729,179.4712,300.5096,180.058,310.4042,182.769\" style=\"stroke: #A80036; stroke-width: 1.0416666666666667;\"/></g></svg>"
      ],
      "text/plain": [
       "<IPython.core.display.SVG object>"
      ]
     },
     "execution_count": 2,
     "metadata": {},
     "output_type": "execute_result"
    }
   ],
   "source": [
    "%%plantuml infrastructure\n",
    "\n",
    "@startuml\n",
    "skinparam dpi 100\n",
    "\n",
    "state SoftwareInfrastructure {\n",
    "    vagrant --> github\n",
    "    vagrant : provision virtual machine\n",
    "    vagrant : everyone has same environment\n",
    "    github : version control\n",
    "    vagrant --> jupyter\n",
    "    jupyter : visualization\n",
    "    jupyter : prototyping\n",
    "    jupyter : documentation\n",
    "    jupyter : presentation\n",
    "    vagrant --> python\n",
    "    python : programming language\n",
    "    \n",
    "}\n",
    "@enduml"
   ]
  },
  {
   "cell_type": "markdown",
   "metadata": {
    "slideshow": {
     "slide_type": "slide"
    }
   },
   "source": [
    "<img src=\"infrastructure.svg\" alt=\"infrastructure\" height=\"600\">"
   ]
  },
  {
   "cell_type": "code",
   "execution_count": 3,
   "metadata": {
    "collapsed": false,
    "scrolled": false,
    "slideshow": {
     "slide_type": "skip"
    }
   },
   "outputs": [
    {
     "data": {
      "image/svg+xml": [
       "<svg contentScriptType=\"application/ecmascript\" contentStyleType=\"text/css\" height=\"1341.6667px\" preserveAspectRatio=\"none\" style=\"width:1345px;height:1341px;\" version=\"1.1\" viewBox=\"0 0 1345 1341\" width=\"1345.8333px\" xmlns=\"http://www.w3.org/2000/svg\" xmlns:xlink=\"http://www.w3.org/1999/xlink\" zoomAndPan=\"magnify\"><defs><filter height=\"300%\" id=\"fc7h3ui\" width=\"300%\" x=\"-1\" y=\"-1\"><feGaussianBlur result=\"blurOut\" stdDeviation=\"2.0833333333333335\"/><feColorMatrix in=\"blurOut\" result=\"blurOut2\" type=\"matrix\" values=\"0 0 0 0 0 0 0 0 0 0 0 0 0 0 0 0 0 0 .4 0\"/><feOffset dx=\"4.166666666666667\" dy=\"4.166666666666667\" in=\"blurOut2\" result=\"blurOut3\"/><feBlend in=\"SourceGraphic\" in2=\"blurOut3\" mode=\"normal\"/></filter></defs><g><!--cluster Energiecampus--><rect fill=\"#FEFECE\" filter=\"url(#fc7h3ui)\" height=\"1175\" rx=\"13.0208\" ry=\"13.0208\" style=\"stroke: #A80036; stroke-width: 1.5625;\" width=\"778.125\" x=\"22.9167\" y=\"159.375\"/><rect fill=\"#FFFFFF\" height=\"1140.2792\" rx=\"13.0208\" ry=\"13.0208\" style=\"stroke: #FFFFFF; stroke-width: 1.0416666666666667;\" width=\"771.875\" x=\"26.0417\" y=\"190.9708\"/><line style=\"stroke: #A80036; stroke-width: 1.5625;\" x1=\"22.9167\" x2=\"801.0417\" y1=\"187.8458\" y2=\"187.8458\"/><text fill=\"#000000\" font-family=\"sans-serif\" font-size=\"14.5833\" lengthAdjust=\"spacingAndGlyphs\" textLength=\"103.125\" x=\"359.8958\" y=\"177.4395\">Energiecampus</text><!--cluster Wärmeübergabestation--><rect fill=\"#FEFECE\" filter=\"url(#fc7h3ui)\" height=\"309.375\" rx=\"13.0208\" ry=\"13.0208\" style=\"stroke: #A80036; stroke-width: 1.5625;\" width=\"301.0417\" x=\"475\" y=\"848.9583\"/><rect fill=\"#FFFFFF\" height=\"207.5455\" rx=\"13.0208\" ry=\"13.0208\" style=\"stroke: #FFFFFF; stroke-width: 1.0416666666666667;\" width=\"294.7917\" x=\"478.125\" y=\"947.6629\"/><line style=\"stroke: #A80036; stroke-width: 1.5625;\" x1=\"475\" x2=\"776.0417\" y1=\"944.5379\" y2=\"944.5379\"/><line style=\"stroke: #A80036; stroke-width: 1.5625;\" x1=\"475\" x2=\"776.0417\" y1=\"877.4291\" y2=\"877.4291\"/><text fill=\"#000000\" font-family=\"sans-serif\" font-size=\"14.5833\" lengthAdjust=\"spacingAndGlyphs\" textLength=\"155.2083\" x=\"483.3333\" y=\"867.0229\">Wärmeübergabestation</text><text fill=\"#000000\" font-family=\"sans-serif\" font-size=\"12.5\" lengthAdjust=\"spacingAndGlyphs\" textLength=\"283.3333\" x=\"480.2083\" y=\"891.9458\">Fernwärmenetz zu Zentralheizung des Gebäudes.</text><text fill=\"#000000\" font-family=\"sans-serif\" font-size=\"12.5\" lengthAdjust=\"spacingAndGlyphs\" textLength=\"160.4167\" x=\"480.2083\" y=\"907.4209\">Leistung (thermisch) : 15 kW</text><text fill=\"#000000\" font-family=\"sans-serif\" font-size=\"12.5\" lengthAdjust=\"spacingAndGlyphs\" textLength=\"269.7917\" x=\"480.2083\" y=\"922.8961\">Leistung (elektrisch) (power to heat) : 1.2-18 kW</text><text fill=\"#000000\" font-family=\"sans-serif\" font-size=\"12.5\" lengthAdjust=\"spacingAndGlyphs\" textLength=\"225\" x=\"480.2083\" y=\"938.3712\">Rückkühler Leistung (thermisch): 45 kW</text><!--cluster Verbraucher--><rect fill=\"#FEFECE\" filter=\"url(#fc7h3ui)\" height=\"126.0417\" rx=\"13.0208\" ry=\"13.0208\" style=\"stroke: #A80036; stroke-width: 1.5625;\" width=\"589.5833\" x=\"171.875\" y=\"1183.3333\"/><rect fill=\"#FFFFFF\" height=\"91.3209\" rx=\"13.0208\" ry=\"13.0208\" style=\"stroke: #FFFFFF; stroke-width: 1.0416666666666667;\" width=\"583.3333\" x=\"175\" y=\"1214.9291\"/><line style=\"stroke: #A80036; stroke-width: 1.5625;\" x1=\"171.875\" x2=\"761.4583\" y1=\"1211.8041\" y2=\"1211.8041\"/><text fill=\"#000000\" font-family=\"sans-serif\" font-size=\"14.5833\" lengthAdjust=\"spacingAndGlyphs\" textLength=\"82.2917\" x=\"425\" y=\"1201.3979\">Verbraucher</text><!--cluster BlockheizkraftwerkGesamt--><rect fill=\"#FEFECE\" filter=\"url(#fc7h3ui)\" height=\"333.3333\" rx=\"13.0208\" ry=\"13.0208\" style=\"stroke: #A80036; stroke-width: 1.5625;\" width=\"375\" x=\"61.4583\" y=\"708.3333\"/><rect fill=\"#FFFFFF\" height=\"298.6126\" rx=\"13.0208\" ry=\"13.0208\" style=\"stroke: #FFFFFF; stroke-width: 1.0416666666666667;\" width=\"368.75\" x=\"64.5833\" y=\"739.9291\"/><line style=\"stroke: #A80036; stroke-width: 1.5625;\" x1=\"61.4583\" x2=\"436.4583\" y1=\"736.8041\" y2=\"736.8041\"/><text fill=\"#000000\" font-family=\"sans-serif\" font-size=\"14.5833\" lengthAdjust=\"spacingAndGlyphs\" textLength=\"175\" x=\"160.9375\" y=\"726.3979\">BlockheizkraftwerkGesamt</text><!--cluster Natur--><rect fill=\"#FEFECE\" filter=\"url(#fc7h3ui)\" height=\"109.375\" rx=\"13.0208\" ry=\"13.0208\" style=\"stroke: #A80036; stroke-width: 1.5625;\" width=\"245.8333\" x=\"334.375\" y=\"25\"/><rect fill=\"#FFFFFF\" height=\"74.6542\" rx=\"13.0208\" ry=\"13.0208\" style=\"stroke: #FFFFFF; stroke-width: 1.0416666666666667;\" width=\"239.5833\" x=\"337.5\" y=\"56.5958\"/><line style=\"stroke: #A80036; stroke-width: 1.5625;\" x1=\"334.375\" x2=\"580.2083\" y1=\"53.4708\" y2=\"53.4708\"/><text fill=\"#000000\" font-family=\"sans-serif\" font-size=\"14.5833\" lengthAdjust=\"spacingAndGlyphs\" textLength=\"36.4583\" x=\"438.5417\" y=\"43.0645\">Natur</text><!--cluster Versorger--><rect fill=\"#FEFECE\" filter=\"url(#fc7h3ui)\" height=\"109.375\" rx=\"13.0208\" ry=\"13.0208\" style=\"stroke: #A80036; stroke-width: 1.5625;\" width=\"512.5\" x=\"826.0417\" y=\"573.9583\"/><rect fill=\"#FFFFFF\" height=\"74.6542\" rx=\"13.0208\" ry=\"13.0208\" style=\"stroke: #FFFFFF; stroke-width: 1.0416666666666667;\" width=\"506.25\" x=\"829.1667\" y=\"605.5541\"/><line style=\"stroke: #A80036; stroke-width: 1.5625;\" x1=\"826.0417\" x2=\"1338.5417\" y1=\"602.4291\" y2=\"602.4291\"/><text fill=\"#000000\" font-family=\"sans-serif\" font-size=\"14.5833\" lengthAdjust=\"spacingAndGlyphs\" textLength=\"65.625\" x=\"1048.9583\" y=\"592.0229\">Versorger</text><rect fill=\"#FEFECE\" filter=\"url(#fc7h3ui)\" height=\"54.3625\" rx=\"13.0208\" ry=\"13.0208\" style=\"stroke: #A80036; stroke-width: 1.5625;\" width=\"231.25\" x=\"341.6667\" y=\"197.9167\"/><line style=\"stroke: #A80036; stroke-width: 1.5625;\" x1=\"341.6667\" x2=\"572.9167\" y1=\"226.3874\" y2=\"226.3874\"/><text fill=\"#000000\" font-family=\"sans-serif\" font-size=\"14.5833\" lengthAdjust=\"spacingAndGlyphs\" textLength=\"80.2083\" x=\"417.1875\" y=\"217.0229\">Photovoltaik</text><text fill=\"#000000\" font-family=\"sans-serif\" font-size=\"12.5\" lengthAdjust=\"spacingAndGlyphs\" textLength=\"210.4167\" x=\"346.875\" y=\"243.5083\">Leistung (elektrisch) : ca. 10 kW peak</text><rect fill=\"#FEFECE\" filter=\"url(#fc7h3ui)\" height=\"100.7879\" rx=\"13.0208\" ry=\"13.0208\" style=\"stroke: #A80036; stroke-width: 1.5625;\" width=\"338.5417\" x=\"288.2813\" y=\"315.1042\"/><line style=\"stroke: #A80036; stroke-width: 1.5625;\" x1=\"288.2813\" x2=\"626.8229\" y1=\"343.5749\" y2=\"343.5749\"/><text fill=\"#000000\" font-family=\"sans-serif\" font-size=\"14.5833\" lengthAdjust=\"spacingAndGlyphs\" textLength=\"107.2917\" x=\"403.9063\" y=\"334.2104\">Batteriespeicher</text><text fill=\"#000000\" font-family=\"sans-serif\" font-size=\"12.5\" lengthAdjust=\"spacingAndGlyphs\" textLength=\"317.7083\" x=\"293.4896\" y=\"360.6958\">Lithium-Ionen Akkumulatoren und Superkondensatoren.</text><text fill=\"#000000\" font-family=\"sans-serif\" font-size=\"12.5\" lengthAdjust=\"spacingAndGlyphs\" textLength=\"156.25\" x=\"293.4896\" y=\"376.1709\">Leistung (elektrisch): 50 kW</text><text fill=\"#000000\" font-family=\"sans-serif\" font-size=\"12.5\" lengthAdjust=\"spacingAndGlyphs\" textLength=\"225\" x=\"293.4896\" y=\"391.6461\">Kapazität (elektrisch): 30 kWh + 300 Wh</text><text fill=\"#000000\" font-family=\"sans-serif\" font-size=\"12.5\" lengthAdjust=\"spacingAndGlyphs\" textLength=\"109.375\" x=\"293.4896\" y=\"407.1212\">Latenzzeit: &lt; 10 ms</text><rect fill=\"#FEFECE\" filter=\"url(#fc7h3ui)\" height=\"69.8376\" rx=\"13.0208\" ry=\"13.0208\" style=\"stroke: #A80036; stroke-width: 1.5625;\" width=\"209.375\" x=\"177.8646\" y=\"479.6875\"/><line style=\"stroke: #A80036; stroke-width: 1.5625;\" x1=\"177.8646\" x2=\"387.2396\" y1=\"508.1583\" y2=\"508.1583\"/><text fill=\"#000000\" font-family=\"sans-serif\" font-size=\"14.5833\" lengthAdjust=\"spacingAndGlyphs\" textLength=\"71.875\" x=\"246.6146\" y=\"498.7937\">Elektrolyse</text><text fill=\"#000000\" font-family=\"sans-serif\" font-size=\"12.5\" lengthAdjust=\"spacingAndGlyphs\" textLength=\"159.375\" x=\"183.0729\" y=\"525.2792\">Leistung (elektrisch) : 10 kW</text><text fill=\"#000000\" font-family=\"sans-serif\" font-size=\"12.5\" lengthAdjust=\"spacingAndGlyphs\" textLength=\"188.5417\" x=\"183.0729\" y=\"540.7543\">Wasserstoffproduktion : 2.92 m³/h</text><rect fill=\"#FEFECE\" filter=\"url(#fc7h3ui)\" height=\"54.3625\" rx=\"13.0208\" ry=\"13.0208\" style=\"stroke: #A80036; stroke-width: 1.5625;\" width=\"176.0417\" x=\"235.1563\" y=\"612.5\"/><line style=\"stroke: #A80036; stroke-width: 1.5625;\" x1=\"235.1563\" x2=\"411.1979\" y1=\"640.9708\" y2=\"640.9708\"/><text fill=\"#000000\" font-family=\"sans-serif\" font-size=\"14.5833\" lengthAdjust=\"spacingAndGlyphs\" textLength=\"102.0833\" x=\"272.1354\" y=\"631.6062\">Methanisierung</text><text fill=\"#000000\" font-family=\"sans-serif\" font-size=\"12.5\" lengthAdjust=\"spacingAndGlyphs\" textLength=\"155.2083\" x=\"240.3646\" y=\"658.0917\">Methanproduktion: 0.2 m³/h</text><rect fill=\"#FEFECE\" filter=\"url(#fc7h3ui)\" height=\"69.8376\" rx=\"13.0208\" ry=\"13.0208\" style=\"stroke: #A80036; stroke-width: 1.5625;\" width=\"181.25\" x=\"555.2083\" y=\"954.6875\"/><line style=\"stroke: #A80036; stroke-width: 1.5625;\" x1=\"555.2083\" x2=\"736.4583\" y1=\"983.1583\" y2=\"983.1583\"/><text fill=\"#000000\" font-family=\"sans-serif\" font-size=\"14.5833\" lengthAdjust=\"spacingAndGlyphs\" textLength=\"109.375\" x=\"591.1458\" y=\"973.7937\">Elektroheizstäbe</text><text fill=\"#000000\" font-family=\"sans-serif\" font-size=\"12.5\" lengthAdjust=\"spacingAndGlyphs\" textLength=\"159.375\" x=\"560.4167\" y=\"1000.2792\">Leistung (elektrisch) : 24 kW</text><text fill=\"#000000\" font-family=\"sans-serif\" font-size=\"12.5\" lengthAdjust=\"spacingAndGlyphs\" textLength=\"160.4167\" x=\"560.4167\" y=\"1015.7543\">Leistung (thermisch) : 11 kW</text><rect fill=\"#FEFECE\" filter=\"url(#fc7h3ui)\" height=\"54.3625\" rx=\"13.0208\" ry=\"13.0208\" style=\"stroke: #A80036; stroke-width: 1.5625;\" width=\"157.2917\" x=\"567.4479\" y=\"1087.5\"/><line style=\"stroke: #A80036; stroke-width: 1.5625;\" x1=\"567.4479\" x2=\"724.7396\" y1=\"1115.9708\" y2=\"1115.9708\"/><text fill=\"#000000\" font-family=\"sans-serif\" font-size=\"14.5833\" lengthAdjust=\"spacingAndGlyphs\" textLength=\"136.4583\" x=\"577.8646\" y=\"1106.6062\">thermischerSpeicher</text><text fill=\"#000000\" font-family=\"sans-serif\" font-size=\"12.5\" lengthAdjust=\"spacingAndGlyphs\" textLength=\"81.25\" x=\"572.6563\" y=\"1133.0917\">1000 l Wasser</text><rect fill=\"#FEFECE\" filter=\"url(#fc7h3ui)\" height=\"69.8376\" rx=\"13.0208\" ry=\"13.0208\" style=\"stroke: #A80036; stroke-width: 1.5625;\" width=\"198.9583\" x=\"189.3229\" y=\"1222.3958\"/><line style=\"stroke: #A80036; stroke-width: 1.5625;\" x1=\"189.3229\" x2=\"388.2813\" y1=\"1250.8666\" y2=\"1250.8666\"/><text fill=\"#000000\" font-family=\"sans-serif\" font-size=\"14.5833\" lengthAdjust=\"spacingAndGlyphs\" textLength=\"75\" x=\"251.3021\" y=\"1241.502\">Elektroauto</text><text fill=\"#000000\" font-family=\"sans-serif\" font-size=\"12.5\" lengthAdjust=\"spacingAndGlyphs\" textLength=\"178.125\" x=\"194.5313\" y=\"1267.9875\">Lade- Entlade-Leistung : ?? kW</text><text fill=\"#000000\" font-family=\"sans-serif\" font-size=\"12.5\" lengthAdjust=\"spacingAndGlyphs\" textLength=\"105.2083\" x=\"194.5313\" y=\"1283.4626\">Kapazität : 22 kWh</text><rect fill=\"#FEFECE\" filter=\"url(#fc7h3ui)\" height=\"54.3625\" rx=\"13.0208\" ry=\"13.0208\" style=\"stroke: #A80036; stroke-width: 1.5625;\" width=\"112.5\" x=\"425\" y=\"1230.2083\"/><line style=\"stroke: #A80036; stroke-width: 1.5625;\" x1=\"425\" x2=\"537.5\" y1=\"1258.6791\" y2=\"1258.6791\"/><text fill=\"#000000\" font-family=\"sans-serif\" font-size=\"14.5833\" lengthAdjust=\"spacingAndGlyphs\" textLength=\"91.6667\" x=\"435.4167\" y=\"1249.3145\">Raumheizung</text><text fill=\"#000000\" font-family=\"sans-serif\" font-size=\"12.5\" lengthAdjust=\"spacingAndGlyphs\" textLength=\"35.4167\" x=\"430.2083\" y=\"1275.8\">?? kW</text><rect fill=\"#FEFECE\" filter=\"url(#fc7h3ui)\" height=\"54.3625\" rx=\"13.0208\" ry=\"13.0208\" style=\"stroke: #A80036; stroke-width: 1.5625;\" width=\"169.7917\" x=\"574.7396\" y=\"1230.2083\"/><line style=\"stroke: #A80036; stroke-width: 1.5625;\" x1=\"574.7396\" x2=\"744.5313\" y1=\"1258.6791\" y2=\"1258.6791\"/><text fill=\"#000000\" font-family=\"sans-serif\" font-size=\"14.5833\" lengthAdjust=\"spacingAndGlyphs\" textLength=\"148.9583\" x=\"585.1563\" y=\"1249.3145\">Warmwasserbereitung</text><text fill=\"#000000\" font-family=\"sans-serif\" font-size=\"12.5\" lengthAdjust=\"spacingAndGlyphs\" textLength=\"35.4167\" x=\"579.9479\" y=\"1275.8\">?? kW</text><rect fill=\"#FEFECE\" filter=\"url(#fc7h3ui)\" height=\"85.3127\" rx=\"13.0208\" ry=\"13.0208\" style=\"stroke: #A80036; stroke-width: 1.5625;\" width=\"250\" x=\"146.875\" y=\"746.875\"/><line style=\"stroke: #A80036; stroke-width: 1.5625;\" x1=\"146.875\" x2=\"396.875\" y1=\"775.3458\" y2=\"775.3458\"/><text fill=\"#000000\" font-family=\"sans-serif\" font-size=\"14.5833\" lengthAdjust=\"spacingAndGlyphs\" textLength=\"79.1667\" x=\"232.2917\" y=\"765.9812\">Gasmischer</text><text fill=\"#000000\" font-family=\"sans-serif\" font-size=\"12.5\" lengthAdjust=\"spacingAndGlyphs\" textLength=\"155.2083\" x=\"152.0833\" y=\"792.4667\">Wasserstoff aus Elektrolyse</text><text fill=\"#000000\" font-family=\"sans-serif\" font-size=\"12.5\" lengthAdjust=\"spacingAndGlyphs\" textLength=\"229.1667\" x=\"152.0833\" y=\"807.9418\">Methanhaltiges Gas aus Methanisierung</text><text fill=\"#000000\" font-family=\"sans-serif\" font-size=\"12.5\" lengthAdjust=\"spacingAndGlyphs\" textLength=\"166.6667\" x=\"152.0833\" y=\"823.4169\">Erdgas dem öffentlichen Netz</text><rect fill=\"#FEFECE\" filter=\"url(#fc7h3ui)\" height=\"69.8376\" rx=\"13.0208\" ry=\"13.0208\" style=\"stroke: #A80036; stroke-width: 1.5625;\" width=\"341.6667\" x=\"78.125\" y=\"954.6875\"/><line style=\"stroke: #A80036; stroke-width: 1.5625;\" x1=\"78.125\" x2=\"419.7917\" y1=\"983.1583\" y2=\"983.1583\"/><text fill=\"#000000\" font-family=\"sans-serif\" font-size=\"14.5833\" lengthAdjust=\"spacingAndGlyphs\" textLength=\"122.9167\" x=\"187.5\" y=\"973.7937\">Blockheizkraftwerk</text><text fill=\"#000000\" font-family=\"sans-serif\" font-size=\"12.5\" lengthAdjust=\"spacingAndGlyphs\" textLength=\"320.8333\" x=\"83.3333\" y=\"1000.2792\">Erdgas, Methanhaltiges Gas, Wasserstoff (maximal 20%)</text><text fill=\"#000000\" font-family=\"sans-serif\" font-size=\"12.5\" lengthAdjust=\"spacingAndGlyphs\" textLength=\"170.8333\" x=\"83.3333\" y=\"1015.7543\">Leistung (elektrisch) : 5-16 kW</text><rect fill=\"#FEFECE\" filter=\"url(#fc7h3ui)\" height=\"54.3625\" rx=\"13.0208\" ry=\"13.0208\" style=\"stroke: #A80036; stroke-width: 1.5625;\" width=\"212.5\" x=\"351.0417\" y=\"63.5417\"/><line style=\"stroke: #A80036; stroke-width: 1.5625;\" x1=\"351.0417\" x2=\"563.5417\" y1=\"92.0124\" y2=\"92.0124\"/><text fill=\"#000000\" font-family=\"sans-serif\" font-size=\"14.5833\" lengthAdjust=\"spacingAndGlyphs\" textLength=\"42.7083\" x=\"435.9375\" y=\"82.6479\">Sonne</text><text fill=\"#000000\" font-family=\"sans-serif\" font-size=\"12.5\" lengthAdjust=\"spacingAndGlyphs\" textLength=\"191.6667\" x=\"356.25\" y=\"109.1333\">Leistung (solar) : ca. 1kW/m² peak</text><rect fill=\"#FEFECE\" filter=\"url(#fc7h3ui)\" height=\"54.3625\" rx=\"13.0208\" ry=\"13.0208\" style=\"stroke: #A80036; stroke-width: 1.5625;\" width=\"134.375\" x=\"1187.2396\" y=\"612.5\"/><line style=\"stroke: #A80036; stroke-width: 1.5625;\" x1=\"1187.2396\" x2=\"1321.6146\" y1=\"640.9708\" y2=\"640.9708\"/><text fill=\"#000000\" font-family=\"sans-serif\" font-size=\"14.5833\" lengthAdjust=\"spacingAndGlyphs\" textLength=\"39.5833\" x=\"1234.6354\" y=\"631.6062\">Strom</text><text fill=\"#000000\" font-family=\"sans-serif\" font-size=\"12.5\" lengthAdjust=\"spacingAndGlyphs\" textLength=\"113.5417\" x=\"1192.4479\" y=\"658.0917\">elektrische Leistung</text><rect fill=\"#FEFECE\" filter=\"url(#fc7h3ui)\" height=\"54.3625\" rx=\"13.0208\" ry=\"13.0208\" style=\"stroke: #A80036; stroke-width: 1.5625;\" width=\"134.375\" x=\"843.4896\" y=\"612.5\"/><line style=\"stroke: #A80036; stroke-width: 1.5625;\" x1=\"843.4896\" x2=\"977.8646\" y1=\"640.9708\" y2=\"640.9708\"/><text fill=\"#000000\" font-family=\"sans-serif\" font-size=\"14.5833\" lengthAdjust=\"spacingAndGlyphs\" textLength=\"46.875\" x=\"887.2396\" y=\"631.6062\">Erdgas</text><text fill=\"#000000\" font-family=\"sans-serif\" font-size=\"12.5\" lengthAdjust=\"spacingAndGlyphs\" textLength=\"113.5417\" x=\"848.6979\" y=\"658.0917\">chemische Leistung</text><rect fill=\"#FEFECE\" filter=\"url(#fc7h3ui)\" height=\"54.3625\" rx=\"13.0208\" ry=\"13.0208\" style=\"stroke: #A80036; stroke-width: 1.5625;\" width=\"135.4167\" x=\"1014.5833\" y=\"612.5\"/><line style=\"stroke: #A80036; stroke-width: 1.5625;\" x1=\"1014.5833\" x2=\"1150\" y1=\"640.9708\" y2=\"640.9708\"/><text fill=\"#000000\" font-family=\"sans-serif\" font-size=\"14.5833\" lengthAdjust=\"spacingAndGlyphs\" textLength=\"76.0417\" x=\"1044.2708\" y=\"631.6062\">Fernwärme</text><text fill=\"#000000\" font-family=\"sans-serif\" font-size=\"12.5\" lengthAdjust=\"spacingAndGlyphs\" textLength=\"114.5833\" x=\"1019.7917\" y=\"658.0917\">thermische Leistung</text><path d=\"M457.2917,117.8021 C457.2917,139.2708 457.2917,169.75 457.2917,192.5521 \" fill=\"none\" style=\"stroke: #FFFF00; stroke-width: 1.0416666666666667;\"/><polygon fill=\"#FFFF00\" points=\"457.2917,197.875,461.4583,188.5,457.2917,192.6667,453.125,188.5,457.2917,197.875\" style=\"stroke: #FFFF00; stroke-width: 1.0416666666666667;\"/><path d=\"M1240.0521,666.8104 C1189.2188,757.9365 1005.0583,1061.3552 753.125,1166.6667 C717.5552,1181.5354 442.9167,1163.0885 406.25,1175 C378.3531,1184.0625 351.1396,1202.0604 329.9177,1218.8188 \" fill=\"none\" style=\"stroke: #0000FF; stroke-width: 1.0416666666666667;\"/><polygon fill=\"#0000FF\" points=\"325.7552,1222.151,335.6784,1219.5468,329.8218,1218.8969,330.4717,1213.0403,325.7552,1222.151\" style=\"stroke: #0000FF; stroke-width: 1.0416666666666667;\"/><path d=\"M861.4021,666.7615 C842.9042,675.7469 821.4042,685.1698 801.0417,691.6667 C668.4792,733.9615 510.9875,759.8385 402.4813,774.0813 \" fill=\"none\" style=\"stroke: #FF0000; stroke-width: 1.0416666666666667;\"/><polygon fill=\"#FF0000\" points=\"397.0281,774.7927,406.8627,777.7139,402.1929,774.1201,405.7866,769.4503,397.0281,774.7927\" style=\"stroke: #FF0000; stroke-width: 1.0416666666666667;\"/><path d=\"M1066.1979,666.8271 C1022.6958,736.0656 896.4635,926.999 754.1667,1050 C739.0885,1063.0333 720.9667,1074.8604 703.8969,1084.6813 \" fill=\"none\" style=\"stroke: #008000; stroke-width: 1.0416666666666667;\"/><polygon fill=\"#008000\" points=\"699.1135,1087.3969,709.3235,1086.3922,703.6429,1084.8256,705.2095,1079.1451,699.1135,1087.3969\" style=\"stroke: #008000; stroke-width: 1.0416666666666667;\"/><path d=\"M358.4563,1024.5375 C422.7104,1044.4385 502.651,1069.1958 561.8938,1087.5448 \" fill=\"none\" style=\"stroke: #008000; stroke-width: 1.0416666666666667;\"/><polygon fill=\"#008000\" points=\"567.2,1089.1885,559.4785,1082.4335,562.2251,1087.6468,557.0118,1090.3934,567.2,1089.1885\" style=\"stroke: #008000; stroke-width: 1.0416666666666667;\"/><path d=\"M250.9646,1024.5625 C253.3969,1060.1531 258.2542,1117.6219 266.6667,1166.6667 C269.5115,1183.2531 273.7083,1201.3229 277.6677,1216.8604 \" fill=\"none\" style=\"stroke: #0000FF; stroke-width: 1.0416666666666667;\"/><polygon fill=\"#0000FF\" points=\"278.999,1222.0271,280.6932,1211.9087,277.6987,1216.9837,272.6237,1213.9892,278.999,1222.0271\" style=\"stroke: #0000FF; stroke-width: 1.0416666666666667;\"/><path d=\"M267.0146,832.5979 C263.024,867.0646 257.4135,915.5219 253.5094,949.2385 \" fill=\"none\" style=\"stroke: #FF0000; stroke-width: 1.0416666666666667;\"/><polygon fill=\"#FF0000\" points=\"252.8979,954.5188,258.1137,945.6843,253.4961,949.3449,249.8356,944.7272,252.8979,954.5188\" style=\"stroke: #FF0000; stroke-width: 1.0416666666666667;\"/><path d=\"M457.2917,416.2771 C457.2917,470.7792 457.2917,560.8969 457.2917,638.5417 C457.2917,638.5417 457.2917,638.5417 457.2917,990.625 C457.2917,1083.8083 382.3885,1170.7302 332.3885,1218.3729 \" fill=\"none\" style=\"stroke: #0000FF; stroke-width: 1.0416666666666667;\"/><polygon fill=\"#0000FF\" points=\"328.5333,1222.0167,338.2091,1218.6061,332.3189,1218.4395,332.4855,1212.5493,328.5333,1222.0167\" style=\"stroke: #0000FF; stroke-width: 1.0416666666666667;\"/><path d=\"M525.2396,252.1562 C568.2438,269.0937 624.8052,292.1146 673.9583,314.5833 C898.2323,417.0969 963.5813,428.826 1168.75,565.625 C1187.8958,578.3885 1207.5313,594.8781 1223.1563,608.9458 \" fill=\"none\" style=\"stroke: #0000FF; stroke-width: 1.0416666666666667;\"/><polygon fill=\"#0000FF\" points=\"1227.0313,612.4667,1222.8845,603.0828,1223.1727,608.9684,1217.2872,609.2566,1227.0313,612.4667\" style=\"stroke: #0000FF; stroke-width: 1.0416666666666667;\"/><path d=\"M343.9865,252.1042 C220.6031,287.9896 40.625,365.6719 40.625,513.5417 C40.625,513.5417 40.625,513.5417 40.625,990.625 C40.625,1095.25 144.6885,1175.8021 217.974,1219.5573 \" fill=\"none\" style=\"stroke: #0000FF; stroke-width: 1.0416666666666667;\"/><polygon fill=\"#0000FF\" points=\"222.7552,1222.3865,216.8082,1214.0267,218.2726,1219.7344,212.565,1221.1988,222.7552,1222.3865\" style=\"stroke: #0000FF; stroke-width: 1.0416666666666667;\"/><path d=\"M457.2917,252.1042 C457.2917,268.2917 457.2917,289.7292 457.2917,309.5438 \" fill=\"none\" style=\"stroke: #0000FF; stroke-width: 1.0416666666666667;\"/><polygon fill=\"#0000FF\" points=\"457.2917,315.0833,461.4583,305.7083,457.2917,309.875,453.125,305.7083,457.2917,315.0833\" style=\"stroke: #0000FF; stroke-width: 1.0416666666666667;\"/><path d=\"M351.2875,252.1562 C319.6042,265.4375 288.3854,285.2396 269.7917,314.5833 C239.174,362.9021 253.3021,431.7625 267.1604,474.4979 \" fill=\"none\" style=\"stroke: #0000FF; stroke-width: 1.0416666666666667;\"/><polygon fill=\"#0000FF\" points=\"268.8458,479.5771,269.8488,469.367,267.206,474.6336,261.9393,471.9908,268.8458,479.5771\" style=\"stroke: #0000FF; stroke-width: 1.0416666666666667;\"/><path d=\"M558.049,252.2188 C590.3979,265.625 623.1521,285.4792 643.75,314.5833 C669.4313,350.8698 664.5833,469.0865 664.5833,513.5417 C664.5833,513.5417 664.5833,513.5417 664.5833,640.625 C664.5833,752.7073 654.7604,884.8063 649.3344,949.2281 \" fill=\"none\" style=\"stroke: #0000FF; stroke-width: 1.0416666666666667;\"/><polygon fill=\"#0000FF\" points=\"648.8875,954.499,653.8322,945.51,649.328,949.3093,645.5287,944.8051,648.8875,954.499\" style=\"stroke: #0000FF; stroke-width: 1.0416666666666667;\"/><path d=\"M398.0448,416.3917 C374.8042,435.8969 348.5854,457.9021 326.9854,476.0313 \" fill=\"none\" style=\"stroke: #0000FF; stroke-width: 1.0416666666666667;\"/><polygon fill=\"#0000FF\" points=\"322.7292,479.6031,332.5889,476.768,326.7187,476.2549,327.2318,470.3848,322.7292,479.6031\" style=\"stroke: #0000FF; stroke-width: 1.0416666666666667;\"/><path d=\"M227.8667,549.7615 C223.4104,554.5583 219.5271,559.849 216.6667,565.625 C191.8042,615.824 202.3198,637.5167 216.6667,691.6667 C221.2948,709.1333 229.8875,726.7427 238.9385,742.0677 \" fill=\"none\" style=\"stroke: #FF0000; stroke-width: 1.0416666666666667;\"/><polygon fill=\"#FF0000\" points=\"241.7583,746.7469,240.4899,736.5664,239.0708,742.2855,233.3517,740.8664,241.7583,746.7469\" style=\"stroke: #FF0000; stroke-width: 1.0416666666666667;\"/><path d=\"M293.5,549.5375 C299.4167,567.4406 306.6333,589.275 312.4385,606.8375 \" fill=\"none\" style=\"stroke: #FF0000; stroke-width: 1.0416666666666667;\"/><polygon fill=\"#FF0000\" points=\"314.1906,612.1406,315.2056,601.9317,312.5566,607.1953,307.293,604.5462,314.1906,612.1406\" style=\"stroke: #FF0000; stroke-width: 1.0416666666666667;\"/><path d=\"M313.9094,666.7292 C306.775,687.4031 296.624,716.8188 288.0854,741.5656 \" fill=\"none\" style=\"stroke: #FF0000; stroke-width: 1.0416666666666667;\"/><polygon fill=\"#FF0000\" points=\"286.2896,746.7698,293.2868,739.267,287.9887,741.8464,285.4094,736.5484,286.2896,746.7698\" style=\"stroke: #FF0000; stroke-width: 1.0416666666666667;\"/><path d=\"M648.349,1141.7458 C650.5958,1165.0802 653.8948,1199.3354 656.2979,1224.2969 \" fill=\"none\" style=\"stroke: #008000; stroke-width: 1.0416666666666667;\"/><polygon fill=\"#008000\" points=\"656.8271,1229.7917,660.0745,1220.06,656.3271,1224.6074,651.7797,1220.8599,656.8271,1229.7917\" style=\"stroke: #008000; stroke-width: 1.0416666666666667;\"/><path d=\"M601.949,1141.7167 C586.8979,1151.4323 570.3146,1163.025 556.25,1175 C538.1948,1190.374 520.1,1209.8292 506.2094,1225.8479 \" fill=\"none\" style=\"stroke: #008000; stroke-width: 1.0416666666666667;\"/><polygon fill=\"#008000\" points=\"502.7708,1229.8417,512.0459,1225.4571,506.1697,1225.8952,505.7316,1220.019,502.7708,1229.8417\" style=\"stroke: #008000; stroke-width: 1.0416666666666667;\"/><path d=\"M645.8333,1024.5375 C645.8333,1042.4406 645.8333,1064.275 645.8333,1081.8375 \" fill=\"none\" style=\"stroke: #008000; stroke-width: 1.0416666666666667;\"/><polygon fill=\"#008000\" points=\"645.8333,1087.1406,650,1077.7656,645.8333,1081.9323,641.6667,1077.7656,645.8333,1087.1406\" style=\"stroke: #008000; stroke-width: 1.0416666666666667;\"/><path d=\"M472.3229,416.2448 C508.7354,536.3448 601.0844,840.9438 633.976,949.4313 \" fill=\"none\" style=\"stroke: #0000FF; stroke-width: 1.0416666666666667;\"/><polygon fill=\"#0000FF\" points=\"635.4969,954.4469,636.7633,944.2661,633.9853,949.4627,628.7887,946.6847,635.4969,954.4469\" style=\"stroke: #0000FF; stroke-width: 1.0416666666666667;\"/></g></svg>"
      ],
      "text/plain": [
       "<IPython.core.display.SVG object>"
      ]
     },
     "execution_count": 3,
     "metadata": {},
     "output_type": "execute_result"
    }
   ],
   "source": [
    "%%plantuml overview\n",
    "\n",
    "@startuml\n",
    "skinparam dpi 100\n",
    "\n",
    "\n",
    "state Energiecampus {\n",
    "\n",
    "    state Wärmeübergabestation {\n",
    "        Wärmeübergabestation : Fernwärmenetz zu Zentralheizung des Gebäudes. \n",
    "        Elektroheizstäbe : Leistung (elektrisch) : 24 kW\n",
    "        Elektroheizstäbe : Leistung (thermisch) : 11 kW\n",
    "        thermischerSpeicher : 1000 l Wasser\n",
    "    }\n",
    "    \n",
    "    state Verbraucher {\n",
    "        Elektroauto : Lade- Entlade-Leistung : ?? kW\n",
    "        Elektroauto : Kapazität : 22 kWh\n",
    "        Raumheizung : ?? kW\n",
    "        Warmwasserbereitung : ?? kW\n",
    "    }                  \n",
    "    \n",
    "    state BlockheizkraftwerkGesamt {\n",
    "        Gasmischer : Wasserstoff aus Elektrolyse\n",
    "        Gasmischer : Methanhaltiges Gas aus Methanisierung\n",
    "        Gasmischer : Erdgas dem öffentlichen Netz\n",
    "        Blockheizkraftwerk : Erdgas, Methanhaltiges Gas, Wasserstoff (maximal 20%)        \n",
    "    }\n",
    "    \n",
    "\n",
    "    \n",
    "    Photovoltaik : Leistung (elektrisch) : ca. 10 kW peak\n",
    "}\n",
    "\n",
    "state Natur {\n",
    "    Sonne -[#yellow]-> Photovoltaik\n",
    "    Sonne : Leistung (solar) : ca. 1kW/m² peak\n",
    "}\n",
    "\n",
    "state Versorger {\n",
    "    Strom -[#blue]-> Elektroauto \n",
    "    Strom : elektrische Leistung\n",
    "    Erdgas -[#red]-> Gasmischer\n",
    "    Erdgas : chemische Leistung\n",
    "    Fernwärme -[#green]-> thermischerSpeicher\n",
    "    Fernwärme : thermische Leistung\n",
    "}\n",
    "\n",
    "state Energiecampus{\n",
    "    \n",
    "    Blockheizkraftwerk -[#green]-> thermischerSpeicher\n",
    "    Blockheizkraftwerk -[#blue]-> Elektroauto\n",
    "    Blockheizkraftwerk : Leistung (elektrisch) : 5-16 kW\n",
    "\n",
    "    Gasmischer -[#red]-> Blockheizkraftwerk\n",
    "\n",
    "    Wärmeübergabestation : Leistung (thermisch) : 15 kW\n",
    "    Wärmeübergabestation : Leistung (elektrisch) (power to heat) : 1.2-18 kW\n",
    "    Wärmeübergabestation : Rückkühler Leistung (thermisch): 45 kW\n",
    "\n",
    "    Batteriespeicher : Lithium-Ionen Akkumulatoren und Superkondensatoren. \n",
    "    Batteriespeicher : Leistung (elektrisch): 50 kW\n",
    "    Batteriespeicher : Kapazität (elektrisch): 30 kWh + 300 Wh\n",
    "    Batteriespeicher : Latenzzeit: < 10 ms\n",
    "    Batteriespeicher -[#blue]-> Elektroauto\n",
    "\n",
    "    Photovoltaik -[#blue]-> Strom\n",
    "    Photovoltaik -[#blue]-> Elektroauto\n",
    "    Photovoltaik -[#blue]-> Batteriespeicher\n",
    "    Photovoltaik -[#blue]-> Elektrolyse\n",
    "    Photovoltaik -[#blue]-> Elektroheizstäbe\n",
    "                                                            \n",
    "    Elektrolyse : Leistung (elektrisch) : 10 kW\n",
    "    Elektrolyse : Wasserstoffproduktion : 2.92 m³/h\n",
    "    Batteriespeicher -[#blue]-> Elektrolyse\n",
    "    Elektrolyse -[#red]-> Gasmischer\n",
    "    Elektrolyse -[#red]-> Methanisierung\n",
    "\n",
    "    Methanisierung : Methanproduktion: 0.2 m³/h\n",
    "    Methanisierung -[#red]-> Gasmischer\n",
    "\n",
    "    thermischerSpeicher -[#green]-> Warmwasserbereitung\n",
    "    thermischerSpeicher -[#green]-> Raumheizung\n",
    "\n",
    "    Elektroheizstäbe -[#green]-> thermischerSpeicher\n",
    "                                                                                \n",
    "    Batteriespeicher -[#blue]-> Elektroheizstäbe\n",
    "}\n",
    "\n",
    "@enduml "
   ]
  },
  {
   "cell_type": "markdown",
   "metadata": {
    "slideshow": {
     "slide_type": "slide"
    }
   },
   "source": [
    "<img src=\"overview.svg\" alt=\"Overview\" width=\"700\">"
   ]
  },
  {
   "cell_type": "markdown",
   "metadata": {
    "slideshow": {
     "slide_type": "slide"
    }
   },
   "source": [
    "### Underlying physical model for each device in the network\n",
    "\n",
    "- Power is the quantity that is passed around.\n",
    "\n",
    "In particular:\n",
    "*power.electrical* , *power.chemical* , *power.thermal* , *power.solar*\n",
    "\n",
    "- Energy is stored on the devices.\n",
    "\n",
    "In particular:\n",
    "*energy.electrical* , *energy.chemical* , *energy.thermal* , *energy.solar*"
   ]
  },
  {
   "cell_type": "markdown",
   "metadata": {
    "slideshow": {
     "slide_type": "slide"
    }
   },
   "source": [
    "### Solar irradition"
   ]
  },
  {
   "cell_type": "code",
   "execution_count": 4,
   "metadata": {
    "collapsed": false,
    "slideshow": {
     "slide_type": "skip"
    }
   },
   "outputs": [
    {
     "data": {
      "text/plain": [
       "'file:///home/vagrant/what-the-data/pictures/solar_irradiation.html'"
      ]
     },
     "execution_count": 4,
     "metadata": {},
     "output_type": "execute_result"
    }
   ],
   "source": [
    "sun_irr = terawatt_model.Sun()\n",
    "\n",
    "time_start = datetime.datetime(2016, 9, 24, 0, 0, 0, 0)\n",
    "\n",
    "t = []\n",
    "r = []\n",
    "for dt in range(0, 3600*24-1, 60):\n",
    "    time = time_start + datetime.timedelta(0,dt) # days, seconds\n",
    "    power = sun_irr.update(time=time)\n",
    "    t.append(time)\n",
    "    r.append(power.solar)\n",
    "\n",
    "# Create a trace\n",
    "trace = go.Scatter(\n",
    "    x = t,\n",
    "    y = r,\n",
    "    name = 'Solar irradiation',\n",
    ")\n",
    "data = [trace]\n",
    "\n",
    "layout = go.Layout(#title='Solar irradiation', \n",
    "                   xaxis=go.XAxis(title='Time of day'),\n",
    "                   yaxis=go.YAxis(title='Watts per square meter'),\n",
    "                   showlegend=True,\n",
    "                  )\n",
    "fig = go.Figure(data=data, layout=layout)\n",
    "plot(fig, filename='pictures/solar_irradiation.html', include_plotlyjs=True, show_link=False)"
   ]
  },
  {
   "cell_type": "code",
   "execution_count": 5,
   "metadata": {
    "collapsed": false,
    "slideshow": {
     "slide_type": "fragment"
    }
   },
   "outputs": [
    {
     "data": {
      "text/html": [
       "\n",
       "        <iframe\n",
       "            width=\"900\"\n",
       "            height=\"500\"\n",
       "            src=\"pictures/solar_irradiation.html\"\n",
       "            frameborder=\"0\"\n",
       "            allowfullscreen\n",
       "        ></iframe>\n",
       "        "
      ],
      "text/plain": [
       "<IPython.lib.display.IFrame at 0x7fa681808d30>"
      ]
     },
     "execution_count": 5,
     "metadata": {},
     "output_type": "execute_result"
    }
   ],
   "source": [
    "IFrame('pictures/solar_irradiation.html', width=900, height=500)"
   ]
  },
  {
   "cell_type": "markdown",
   "metadata": {
    "slideshow": {
     "slide_type": "slide"
    }
   },
   "source": [
    "### Charging car directly via photovoltaic array"
   ]
  },
  {
   "cell_type": "code",
   "execution_count": 6,
   "metadata": {
    "collapsed": false,
    "slideshow": {
     "slide_type": "skip"
    }
   },
   "outputs": [],
   "source": [
    "# Timeconsuming calculation\n",
    "\n",
    "sun = terawatt_model.Sun()\n",
    "photovoltaic = terawatt_model.Photovoltaic()\n",
    "car = terawatt_model.Car()\n",
    "provider = terawatt_model.Provider()\n",
    "\n",
    "time_start = datetime.datetime(2016, 9, 24, 0, 0, 0, 0)\n",
    "\n",
    "t = []\n",
    "r1 = []\n",
    "r2 = []\n",
    "# Run for timestep\n",
    "for dt in range(0, 3600*24-1, terawatt_model.timestep):\n",
    "    time = time_start + datetime.timedelta(0,dt) # days, seconds\n",
    "    \n",
    "    power = sun.update(time=time)\n",
    "    power = photovoltaic.update(power)\n",
    "    power = car.update(power)\n",
    "    power = provider.update(power)\n",
    "    \n",
    "    # Store only each minute\n",
    "    if dt%60:\n",
    "        t.append(time)\n",
    "        r1.append(photovoltaic.power.electrical)\n",
    "        r2.append(car.energy_now.electrical)"
   ]
  },
  {
   "cell_type": "code",
   "execution_count": 7,
   "metadata": {
    "collapsed": false,
    "slideshow": {
     "slide_type": "skip"
    }
   },
   "outputs": [
    {
     "data": {
      "text/plain": [
       "'file:///home/vagrant/what-the-data/pictures/car_direct_charging.html'"
      ]
     },
     "execution_count": 7,
     "metadata": {},
     "output_type": "execute_result"
    }
   ],
   "source": [
    "# Create a trace\n",
    "trace1 = go.Scatter(\n",
    "    x = t,\n",
    "    y = r1,\n",
    "    name = 'Photovoltaic charging power',\n",
    ")\n",
    "trace2 = go.Scatter(\n",
    "    x = t,\n",
    "    y = r2,\n",
    "    name = 'Car battery energy',\n",
    "    line = dict( color = 'green'),\n",
    "    yaxis='y2',\n",
    ")\n",
    "data = [trace1, trace2]\n",
    "\n",
    "layout = go.Layout(\n",
    "                xaxis=go.XAxis(title='Time of day'),\n",
    "                yaxis=go.YAxis(title='W'),\n",
    "                yaxis2=go.YAxis(\n",
    "                            title='Wh',\n",
    "                            #titlefont={color:'rgb(148, 103, 189)'},\n",
    "                            #tickfont={color:'rgb(148, 103, 189)'},\n",
    "                            overlaying='y',\n",
    "                            side='right'\n",
    "                )\n",
    ")\n",
    "fig = go.Figure(data=data, layout=layout)\n",
    "plot(fig, filename='pictures/car_direct_charging.html', include_plotlyjs=True, show_link=False)"
   ]
  },
  {
   "cell_type": "code",
   "execution_count": 30,
   "metadata": {
    "collapsed": false,
    "slideshow": {
     "slide_type": "fragment"
    }
   },
   "outputs": [
    {
     "name": "stdout",
     "output_type": "stream",
     "text": [
      "Excess Energy :  33396.34264762053 Wh\n"
     ]
    },
    {
     "data": {
      "text/html": [
       "\n",
       "        <iframe\n",
       "            width=\"900\"\n",
       "            height=\"500\"\n",
       "            src=\"pictures/car_direct_charging.html\"\n",
       "            frameborder=\"0\"\n",
       "            allowfullscreen\n",
       "        ></iframe>\n",
       "        "
      ],
      "text/plain": [
       "<IPython.lib.display.IFrame at 0x7fa67f97f518>"
      ]
     },
     "execution_count": 30,
     "metadata": {},
     "output_type": "execute_result"
    }
   ],
   "source": [
    "print('Excess Energy : ', provider.energy_consumed.electrical, 'Wh')\n",
    "IFrame('pictures/car_direct_charging.html', width=900, height=500)"
   ]
  },
  {
   "cell_type": "markdown",
   "metadata": {
    "slideshow": {
     "slide_type": "slide"
    }
   },
   "source": [
    "### Delayed charging of car via battery cluster"
   ]
  },
  {
   "cell_type": "code",
   "execution_count": 24,
   "metadata": {
    "collapsed": false,
    "slideshow": {
     "slide_type": "skip"
    }
   },
   "outputs": [],
   "source": [
    "# Timeconsuming calculation\n",
    "\n",
    "sun = terawatt_model.Sun()\n",
    "photovoltaic = terawatt_model.Photovoltaic()\n",
    "car = terawatt_model.Car()\n",
    "provider = terawatt_model.Provider()\n",
    "battery = terawatt_model.Battery()\n",
    "time_start = datetime.datetime(2016, 9, 24, 0, 0, 0, 0)\n",
    "\n",
    "t = []\n",
    "r1 = []\n",
    "r2 = []\n",
    "r3 = []\n",
    "# Run for timestep\n",
    "for dt in range(0, 3600*24-1, terawatt_model.timestep):\n",
    "    time = time_start + datetime.timedelta(0,dt) # days, seconds\n",
    "    \n",
    "    power = sun.update(time=time)\n",
    "    power = photovoltaic.update(power)\n",
    "    \n",
    "    # cannot compare against full charge. Due to incremental energies we never reach full charge exactly.\n",
    "    if time.hour >= 18 and car.energy_now.electrical < 0.99*car.energy_max.electrical:\n",
    "        power_requested = car.get_power_in_max()\n",
    "        power = battery.update(power, state='provide', power_requested=power_requested)\n",
    "        power = car.update(power)\n",
    "        power = provider.update(power)\n",
    "    else:\n",
    "        power = battery.update(power, state='consume')\n",
    "        power = provider.update(power)\n",
    "    \n",
    "    # Store only each minute\n",
    "    if dt%60:\n",
    "        t.append(time)\n",
    "        r1.append(photovoltaic.power.electrical)\n",
    "        r2.append(battery.energy_now.electrical)\n",
    "        r3.append(car.energy_now.electrical)"
   ]
  },
  {
   "cell_type": "code",
   "execution_count": 25,
   "metadata": {
    "collapsed": false,
    "slideshow": {
     "slide_type": "skip"
    }
   },
   "outputs": [
    {
     "data": {
      "text/plain": [
       "'file:///home/vagrant/what-the-data/pictures/car_delayed_charging.html'"
      ]
     },
     "execution_count": 25,
     "metadata": {},
     "output_type": "execute_result"
    }
   ],
   "source": [
    "# Create a trace\n",
    "trace1 = go.Scatter(\n",
    "    x = t,\n",
    "    y = r1,\n",
    "    name = 'Photovoltaic charging power',\n",
    ")\n",
    "trace2 = go.Scatter(\n",
    "    x = t,\n",
    "    y = r2,\n",
    "    name = 'Buffer battery energy',\n",
    "    yaxis='y2',\n",
    ")\n",
    "trace3 = go.Scatter(\n",
    "    x = t,\n",
    "    y = r3,\n",
    "    name = 'Car battery energy',\n",
    "    yaxis='y2',\n",
    ")\n",
    "data = [trace1, trace2, trace3]\n",
    "\n",
    "layout = go.Layout(\n",
    "                xaxis=go.XAxis(title='Time of day'),\n",
    "                yaxis=go.YAxis(title='W'),\n",
    "                yaxis2=go.YAxis(\n",
    "                            title='Wh',\n",
    "                            #titlefont={color:'rgb(148, 103, 189)'},\n",
    "                            #tickfont={color:'rgb(148, 103, 189)'},\n",
    "                            overlaying='y',\n",
    "                            side='right'\n",
    "                )\n",
    ")\n",
    "fig = go.Figure(data=data, layout=layout)\n",
    "plot(fig, filename='pictures/car_delayed_charging.html', include_plotlyjs=True, show_link=False)"
   ]
  },
  {
   "cell_type": "code",
   "execution_count": 29,
   "metadata": {
    "collapsed": false,
    "slideshow": {
     "slide_type": "fragment"
    }
   },
   "outputs": [
    {
     "name": "stdout",
     "output_type": "stream",
     "text": [
      "Excess Energy :  33396.34264762053 Wh\n"
     ]
    },
    {
     "data": {
      "text/html": [
       "\n",
       "        <iframe\n",
       "            width=\"900\"\n",
       "            height=\"500\"\n",
       "            src=\"pictures/car_delayed_charging.html\"\n",
       "            frameborder=\"0\"\n",
       "            allowfullscreen\n",
       "        ></iframe>\n",
       "        "
      ],
      "text/plain": [
       "<IPython.lib.display.IFrame at 0x7fa67f97f4a8>"
      ]
     },
     "execution_count": 29,
     "metadata": {},
     "output_type": "execute_result"
    }
   ],
   "source": [
    "print('Excess Energy : ', provider.energy_consumed.electrical, 'Wh')\n",
    "IFrame('pictures/car_delayed_charging.html', width=900, height=500)"
   ]
  },
  {
   "cell_type": "markdown",
   "metadata": {
    "slideshow": {
     "slide_type": "slide"
    }
   },
   "source": [
    "### Storing excess energy via electrolysis"
   ]
  },
  {
   "cell_type": "code",
   "execution_count": 12,
   "metadata": {
    "collapsed": false,
    "slideshow": {
     "slide_type": "skip"
    }
   },
   "outputs": [],
   "source": [
    "# Timeconsuming calculation\n",
    "\n",
    "sun = terawatt_model.Sun()\n",
    "photovoltaic = terawatt_model.Photovoltaic()\n",
    "car = terawatt_model.Car()\n",
    "provider = terawatt_model.Provider()\n",
    "battery = terawatt_model.Battery()\n",
    "electrolysis = terawatt_model.Electrolysis()\n",
    "time_start = datetime.datetime(2016, 9, 24, 0, 0, 0, 0)\n",
    "\n",
    "t = []\n",
    "r1 = []\n",
    "r2 = []\n",
    "r3 = []\n",
    "r4 = []\n",
    "# Run for timestep\n",
    "for dt in range(0, 3600*24-1, terawatt_model.timestep):\n",
    "    time = time_start + datetime.timedelta(0,dt) # days, seconds\n",
    "    \n",
    "    power = sun.update(time=time)\n",
    "    power = photovoltaic.update(power)\n",
    "    \n",
    "    # cannot compare against full charge. Due to incremental energies we never reach full charge exactly.\n",
    "    if time.hour >= 18 and car.energy_now.electrical < 0.99*car.energy_max.electrical:\n",
    "        power_requested = car.get_power_in_max()\n",
    "        power = battery.update(power, state='provide', power_requested=power_requested)\n",
    "        power = car.update(power)\n",
    "    else:\n",
    "        power = battery.update(power, state='consume')\n",
    "    \n",
    "    power = electrolysis.update(power, state='consume')\n",
    "    power = provider.update(power)\n",
    "    \n",
    "    # Store only each minute\n",
    "    if dt%60:\n",
    "        t.append(time)\n",
    "        r1.append(photovoltaic.power.electrical)\n",
    "        r2.append(battery.energy_now.electrical)\n",
    "        r3.append(car.energy_now.electrical)\n",
    "        r4.append(electrolysis.energy_now.chemical)"
   ]
  },
  {
   "cell_type": "code",
   "execution_count": 13,
   "metadata": {
    "collapsed": false,
    "slideshow": {
     "slide_type": "skip"
    }
   },
   "outputs": [
    {
     "data": {
      "text/plain": [
       "'file:///home/vagrant/what-the-data/pictures/car_delayed_charging_electrolysis.html'"
      ]
     },
     "execution_count": 13,
     "metadata": {},
     "output_type": "execute_result"
    }
   ],
   "source": [
    "# Create a trace\n",
    "trace1 = go.Scatter(\n",
    "    x = t,\n",
    "    y = r1,\n",
    "    name = 'Photovoltaic charging power',\n",
    ")\n",
    "trace2 = go.Scatter(\n",
    "    x = t,\n",
    "    y = r2,\n",
    "    name = 'Buffer battery energy',\n",
    "    yaxis='y2',\n",
    ")\n",
    "trace3 = go.Scatter(\n",
    "    x = t,\n",
    "    y = r3,\n",
    "    name = 'Car battery energy',\n",
    "    yaxis='y2',\n",
    ")\n",
    "trace4 = go.Scatter(\n",
    "    x = t,\n",
    "    y = r4,\n",
    "    name = 'Electrolysis chemical energy',\n",
    "    yaxis='y2',\n",
    ")\n",
    "data = [trace1, trace2, trace3, trace4]\n",
    "\n",
    "layout = go.Layout(\n",
    "                xaxis=go.XAxis(title='Time of day'),\n",
    "                yaxis=go.YAxis(title='W'),\n",
    "                yaxis2=go.YAxis(\n",
    "                            title='Wh',\n",
    "                            #titlefont={color:'rgb(148, 103, 189)'},\n",
    "                            #tickfont={color:'rgb(148, 103, 189)'},\n",
    "                            overlaying='y',\n",
    "                            side='right'\n",
    "                )\n",
    ")\n",
    "fig = go.Figure(data=data, layout=layout)\n",
    "plot(fig, filename='pictures/car_delayed_charging_electrolysis.html', include_plotlyjs=True, show_link=False)"
   ]
  },
  {
   "cell_type": "code",
   "execution_count": 32,
   "metadata": {
    "collapsed": false,
    "slideshow": {
     "slide_type": "fragment"
    }
   },
   "outputs": [
    {
     "name": "stdout",
     "output_type": "stream",
     "text": [
      "Excess Energy :  33396.34264762053 Wh\n"
     ]
    },
    {
     "data": {
      "text/html": [
       "\n",
       "        <iframe\n",
       "            width=\"900\"\n",
       "            height=\"500\"\n",
       "            src=\"pictures/car_delayed_charging_electrolysis.html\"\n",
       "            frameborder=\"0\"\n",
       "            allowfullscreen\n",
       "        ></iframe>\n",
       "        "
      ],
      "text/plain": [
       "<IPython.lib.display.IFrame at 0x7fa67f97f978>"
      ]
     },
     "execution_count": 32,
     "metadata": {},
     "output_type": "execute_result"
    }
   ],
   "source": [
    "print('Excess Energy : ', provider.energy_consumed.electrical, 'Wh')\n",
    "IFrame('pictures/car_delayed_charging_electrolysis.html', width=900, height=500)"
   ]
  },
  {
   "cell_type": "markdown",
   "metadata": {
    "slideshow": {
     "slide_type": "slide"
    }
   },
   "source": [
    "### Methanization of excess energy"
   ]
  },
  {
   "cell_type": "code",
   "execution_count": 15,
   "metadata": {
    "collapsed": false,
    "slideshow": {
     "slide_type": "skip"
    }
   },
   "outputs": [],
   "source": [
    "# Timeconsuming calculation\n",
    "\n",
    "sun = terawatt_model.Sun()\n",
    "photovoltaic = terawatt_model.Photovoltaic()\n",
    "car = terawatt_model.Car()\n",
    "provider = terawatt_model.Provider()\n",
    "battery = terawatt_model.Battery()\n",
    "electrolysis = terawatt_model.Electrolysis()\n",
    "methanization = terawatt_model.Methanization()\n",
    "time_start = datetime.datetime(2016, 9, 24, 0, 0, 0, 0)\n",
    "\n",
    "t = []\n",
    "r1 = []\n",
    "r2 = []\n",
    "r3 = []\n",
    "r4 = []\n",
    "r5 = []\n",
    "# Run for timestep\n",
    "for dt in range(0, 3600*24-1, terawatt_model.timestep):\n",
    "    time = time_start + datetime.timedelta(0,dt) # days, seconds\n",
    "    \n",
    "    power = sun.update(time=time)\n",
    "    power = photovoltaic.update(power)\n",
    "    \n",
    "    # cannot compare against full charge. Due to incremental energies we never reach full charge exactly.\n",
    "    if time.hour >= 18 and car.energy_now.electrical < 0.99*car.energy_max.electrical:\n",
    "        power = battery.update(power, state='provide', power_requested=car.get_power_in_max())\n",
    "        power = car.update(power)\n",
    "    else:\n",
    "        power = battery.update(power, state='consume')\n",
    "\n",
    "    power = electrolysis.update(power, state='both', power_requested=methanization.get_power_in_max())\n",
    "    power = methanization.update(power, state='consume')\n",
    "    power = provider.update(power)\n",
    "    \n",
    "    # Store only each minute\n",
    "    if dt%60:\n",
    "        t.append(time)\n",
    "        r1.append(photovoltaic.power.electrical)\n",
    "        r2.append(battery.energy_now.electrical)\n",
    "        r3.append(car.energy_now.electrical)\n",
    "        r4.append(electrolysis.energy_now.chemical)\n",
    "        r5.append(methanization.energy_now.chemical)"
   ]
  },
  {
   "cell_type": "code",
   "execution_count": 16,
   "metadata": {
    "collapsed": false,
    "slideshow": {
     "slide_type": "skip"
    }
   },
   "outputs": [
    {
     "data": {
      "text/plain": [
       "'file:///home/vagrant/what-the-data/pictures/car_delayed_charging_methanization.html'"
      ]
     },
     "execution_count": 16,
     "metadata": {},
     "output_type": "execute_result"
    }
   ],
   "source": [
    "# Create a trace\n",
    "trace1 = go.Scatter(\n",
    "    x = t,\n",
    "    y = r1,\n",
    "    name = 'Photovoltaic charging power',\n",
    ")\n",
    "trace2 = go.Scatter(\n",
    "    x = t,\n",
    "    y = r2,\n",
    "    name = 'Buffer battery energy',\n",
    "    yaxis='y2',\n",
    ")\n",
    "trace3 = go.Scatter(\n",
    "    x = t,\n",
    "    y = r3,\n",
    "    name = 'Car battery energy',\n",
    "    yaxis='y2',\n",
    ")\n",
    "trace4 = go.Scatter(\n",
    "    x = t,\n",
    "    y = r4,\n",
    "    name = 'Electrolysis chemical energy',\n",
    "    line = dict( color = 'red' ),\n",
    "    yaxis='y2',\n",
    ")\n",
    "trace5 = go.Scatter(\n",
    "    x = t,\n",
    "    y = r5,\n",
    "    name = 'Methanization chemical energy',\n",
    "    line = dict( color = 'violett' ),\n",
    "    yaxis='y2',\n",
    ")\n",
    "data = [trace1, trace2, trace3, trace4, trace5]\n",
    "\n",
    "layout = go.Layout(\n",
    "                xaxis=go.XAxis(title='Time of day'),\n",
    "                yaxis=go.YAxis(title='W'),\n",
    "                yaxis2=go.YAxis(\n",
    "                            title='Wh',\n",
    "                            #titlefont={color:'rgb(148, 103, 189)'},\n",
    "                            #tickfont={color:'rgb(148, 103, 189)'},\n",
    "                            overlaying='y',\n",
    "                            side='right'\n",
    "                )\n",
    ")\n",
    "fig = go.Figure(data=data, layout=layout)\n",
    "plot(fig, filename='pictures/car_delayed_charging_methanization.html', include_plotlyjs=True, show_link=False)"
   ]
  },
  {
   "cell_type": "code",
   "execution_count": 34,
   "metadata": {
    "collapsed": false,
    "slideshow": {
     "slide_type": "fragment"
    }
   },
   "outputs": [
    {
     "name": "stdout",
     "output_type": "stream",
     "text": [
      "Excess Energy :  33396.34264762053 Wh\n"
     ]
    },
    {
     "data": {
      "text/html": [
       "\n",
       "        <iframe\n",
       "            width=\"900\"\n",
       "            height=\"500\"\n",
       "            src=\"pictures/car_delayed_charging_methanization.html\"\n",
       "            frameborder=\"0\"\n",
       "            allowfullscreen\n",
       "        ></iframe>\n",
       "        "
      ],
      "text/plain": [
       "<IPython.lib.display.IFrame at 0x7fa67f97f668>"
      ]
     },
     "execution_count": 34,
     "metadata": {},
     "output_type": "execute_result"
    }
   ],
   "source": [
    "print('Excess Energy : ', provider.energy_consumed.electrical, 'Wh')\n",
    "IFrame('pictures/car_delayed_charging_methanization.html', width=900, height=500)"
   ]
  },
  {
   "cell_type": "markdown",
   "metadata": {
    "slideshow": {
     "slide_type": "slide"
    }
   },
   "source": [
    "### Two Cars - Cogeneration required"
   ]
  },
  {
   "cell_type": "code",
   "execution_count": 18,
   "metadata": {
    "collapsed": false,
    "slideshow": {
     "slide_type": "skip"
    }
   },
   "outputs": [
    {
     "data": {
      "text/html": [
       "<script>requirejs.config({paths: { 'plotly': ['https://cdn.plot.ly/plotly-latest.min']},});if(!window.Plotly) {{require(['plotly'],function(plotly) {window.Plotly=plotly;});}}</script>"
      ],
      "text/plain": [
       "<IPython.core.display.HTML object>"
      ]
     },
     "metadata": {},
     "output_type": "display_data"
    }
   ],
   "source": [
    "import iplantuml\n",
    "import datetime\n",
    "import terawatt_model\n",
    "\n",
    "from plotly.offline import download_plotlyjs, init_notebook_mode, plot, iplot\n",
    "import plotly.graph_objs as go\n",
    "# run at the start of every ipython notebook to use plotly.offline\n",
    "# this injects the plotly.js source files into the notebook\n",
    "init_notebook_mode(connected=True)\n",
    "\n",
    "\n",
    "# Timeconsuming calculation\n",
    "\n",
    "sun = terawatt_model.Sun()\n",
    "photovoltaic = terawatt_model.Photovoltaic()\n",
    "car1 = terawatt_model.Car()\n",
    "car2 = terawatt_model.Car()\n",
    "provider = terawatt_model.Provider()\n",
    "battery = terawatt_model.Battery()\n",
    "electrolysis = terawatt_model.Electrolysis()\n",
    "methanization = terawatt_model.Methanization()\n",
    "cogeneration = terawatt_model.Cogeneration()\n",
    "time_start = datetime.datetime(2016, 9, 24, 0, 0, 0, 0)\n",
    "\n",
    "t = []\n",
    "r1 = []\n",
    "r2 = []\n",
    "r3 = []\n",
    "r4 = []\n",
    "r5 = []\n",
    "r6 = []\n",
    "r7 = []\n",
    "# Run for timestep\n",
    "for dt in range(0, 3600*24-1, terawatt_model.timestep):\n",
    "    time = time_start + datetime.timedelta(0,dt) # days, seconds\n",
    "    \n",
    "    power = sun.update(time=time)\n",
    "    power = photovoltaic.update(power)\n",
    "    \n",
    "    power = battery.update(power, state='consume')\n",
    "    power = electrolysis.update(power, state='both', power_requested=methanization.get_power_in_max())\n",
    "    power = methanization.update(power, state='consume')\n",
    "    \n",
    "    if time.hour >= 18:\n",
    "        # cannot compare against full charge. Due to incremental energies we never reach full charge exactly.\n",
    "        if car1.energy_now.electrical < 0.99*car1.energy_max.electrical:\n",
    "            power_requested = car1.get_power_in_max()\n",
    "        if car2.energy_now.electrical < 0.99*car2.energy_max.electrical:\n",
    "            power_requested.electrical += car2.get_power_in_max().electrical\n",
    "        \n",
    "        power_requested.chemical += cogeneration.power_conversion_electrical_to_chemical(power_requested.electrical).chemical\n",
    "        power = methanization.update(power, state='provide', power_requested=power_requested)\n",
    "        power = cogeneration.update(power, state='both', power_requested=power_requested)\n",
    "        power_requested.electrical -= power.electrical\n",
    "        power = battery.update(power, state='provide', power_requested=power_requested)\n",
    "        \n",
    "        power = car1.update(power)\n",
    "        power = car2.update(power)\n",
    "    else:\n",
    "        power = methanization.update(power, state='provide', power_requested=methanization.get_power_out_max())\n",
    "        power = cogeneration.update(power, state='consume')\n",
    "    \n",
    "    power = provider.update(power)\n",
    "    \n",
    "    # Store only each minute\n",
    "    if dt%60:\n",
    "        t.append(time)\n",
    "        r1.append(photovoltaic.power.electrical)\n",
    "        r2.append(battery.energy_now.electrical)\n",
    "        r3.append(car1.energy_now.electrical)\n",
    "        r4.append(car2.energy_now.electrical)\n",
    "        r5.append(electrolysis.energy_now.chemical)\n",
    "        r6.append(cogeneration.energy_now.chemical)\n",
    "        r7.append(cogeneration.power.electrical)"
   ]
  },
  {
   "cell_type": "code",
   "execution_count": 19,
   "metadata": {
    "collapsed": false,
    "slideshow": {
     "slide_type": "skip"
    }
   },
   "outputs": [
    {
     "data": {
      "text/plain": [
       "'file:///home/vagrant/what-the-data/pictures/cars_delayed_charging_cogeneration.html'"
      ]
     },
     "execution_count": 19,
     "metadata": {},
     "output_type": "execute_result"
    }
   ],
   "source": [
    "# Create a trace\n",
    "trace1 = go.Scatter(\n",
    "    x = t,\n",
    "    y = r1,\n",
    "    name = 'Photovoltaic charging power',\n",
    ")\n",
    "trace2 = go.Scatter(\n",
    "    x = t,\n",
    "    y = r2,\n",
    "    name = 'Buffer battery energy',\n",
    "    yaxis='y2',\n",
    ")\n",
    "trace3 = go.Scatter(\n",
    "    x = t,\n",
    "    y = r3,\n",
    "    name = 'Car 1 battery energy',\n",
    "    yaxis='y2',\n",
    ")\n",
    "trace4 = go.Scatter(\n",
    "    x = t,\n",
    "    y = r4,\n",
    "    name = 'Car 2 battery energy',\n",
    "    line = dict( color = 'black', dash = 4 ),\n",
    "    yaxis='y2',\n",
    ")\n",
    "trace5 = go.Scatter(\n",
    "    x = t,\n",
    "    y = r5,\n",
    "    name = 'Electrolysis chemical energy',\n",
    "    line = dict( color = 'red' ),\n",
    "    yaxis='y2',\n",
    ")\n",
    "trace6 = go.Scatter(\n",
    "    x = t,\n",
    "    y = r6,\n",
    "    name = 'Cogeneration chemical energy',\n",
    "    line = dict( color = 'violett'),\n",
    "    yaxis='y2',\n",
    ")\n",
    "trace7 = go.Scatter(\n",
    "    x = t,\n",
    "    y = r7,\n",
    "    name = 'Cogeneration power',\n",
    ")\n",
    "data = [trace1, trace2, trace3, trace4, trace5, trace6, trace7]\n",
    "\n",
    "layout = go.Layout(\n",
    "                xaxis=go.XAxis(title='Time of day'),\n",
    "                yaxis=go.YAxis(title='W'),\n",
    "                yaxis2=go.YAxis(\n",
    "                            title='Wh',\n",
    "                            #titlefont={color:'rgb(148, 103, 189)'},\n",
    "                            #tickfont={color:'rgb(148, 103, 189)'},\n",
    "                            overlaying='y',\n",
    "                            side='right'\n",
    "                )\n",
    ")\n",
    "fig = go.Figure(data=data, layout=layout)\n",
    "plot(fig, filename='pictures/cars_delayed_charging_cogeneration.html', include_plotlyjs=True, show_link=False)"
   ]
  },
  {
   "cell_type": "code",
   "execution_count": 36,
   "metadata": {
    "collapsed": false,
    "slideshow": {
     "slide_type": "fragment"
    }
   },
   "outputs": [
    {
     "name": "stdout",
     "output_type": "stream",
     "text": [
      "Excess Energy :  33396.34264762053 Wh\n"
     ]
    },
    {
     "data": {
      "text/html": [
       "\n",
       "        <iframe\n",
       "            width=\"900\"\n",
       "            height=\"500\"\n",
       "            src=\"pictures/cars_delayed_charging_cogeneration.html\"\n",
       "            frameborder=\"0\"\n",
       "            allowfullscreen\n",
       "        ></iframe>\n",
       "        "
      ],
      "text/plain": [
       "<IPython.lib.display.IFrame at 0x7fa67f97fb70>"
      ]
     },
     "execution_count": 36,
     "metadata": {},
     "output_type": "execute_result"
    }
   ],
   "source": [
    "print('Excess Energy : ', provider.energy_consumed.electrical, 'Wh')\n",
    "IFrame('pictures/cars_delayed_charging_cogeneration.html', width=900, height=500)"
   ]
  },
  {
   "cell_type": "code",
   "execution_count": 21,
   "metadata": {
    "collapsed": false,
    "slideshow": {
     "slide_type": "skip"
    }
   },
   "outputs": [],
   "source": [
    "#class Main:\n",
    "#    # List of devices\n",
    "#    # Sun is a device\n",
    "#    devices_usedBy={}\n",
    "#    devices_usedBy[block1]=bmw1\n",
    "#    # List of externals\n",
    "#    # List of output for next step\n",
    "#    # List of state of current step\n",
    "#    # List of input current step\n",
    "#    \n",
    "#    # Magic knowledge about connecting devices\n",
    "#    # foreach d in devices:\n",
    "#    #     foreach dev in devices_usedBy[d]:\n",
    "#    #         dev.conversion(d.power_out)\n",
    "#    \n",
    "#    # Update externals"
   ]
  },
  {
   "cell_type": "code",
   "execution_count": 22,
   "metadata": {
    "collapsed": false,
    "slideshow": {
     "slide_type": "skip"
    }
   },
   "outputs": [],
   "source": [
    "from terawatt_model.basics import Consumer, Producer, Broker\n",
    "\n",
    "class BMW(Consumer):\n",
    "    def __init(self, broker):\n",
    "        super()\n",
    "        self.broker=broker\n",
    "\n",
    "class Battery(Consumer, Producer):\n",
    "    pass\n",
    "\n",
    "class Main():\n",
    "    def __init__(self):\n",
    "        broker=Broker()\n",
    "        bmw=BMW(broker)\n",
    "        battery=Battery()\n",
    "        self.consumer=[bmw, battery]\n",
    "        self.producer=battery\n",
    "        \n",
    "    def run(self):\n",
    "        time=0\n",
    "        while(true):\n",
    "            time=time+1\n",
    "            for c in self.consumer:\n",
    "                c.update()\n",
    "            broker.broadcast()\n",
    "            for p in self.producer:\n",
    "                p.update()"
   ]
  },
  {
   "cell_type": "code",
   "execution_count": null,
   "metadata": {
    "collapsed": true,
    "slideshow": {
     "slide_type": "-"
    }
   },
   "outputs": [],
   "source": []
  }
 ],
 "metadata": {
  "celltoolbar": "Slideshow",
  "kernelspec": {
   "display_name": "Python 3",
   "language": "python",
   "name": "python3"
  },
  "language_info": {
   "codemirror_mode": {
    "name": "ipython",
    "version": 3
   },
   "file_extension": ".py",
   "mimetype": "text/x-python",
   "name": "python",
   "nbconvert_exporter": "python",
   "pygments_lexer": "ipython3",
   "version": "3.5.2"
  }
 },
 "nbformat": 4,
 "nbformat_minor": 1
}
