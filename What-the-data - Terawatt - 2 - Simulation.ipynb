{
 "cells": [
  {
   "cell_type": "markdown",
   "metadata": {
    "slideshow": {
     "slide_type": "slide"
    }
   },
   "source": [
    "# Projekt Terawatt\n",
    "\n",
    "*von Team Coding Agents*\n",
    "\n",
    "\n",
    "----\n",
    "\n",
    "\n",
    "## Simulation"
   ]
  },
  {
   "cell_type": "code",
   "execution_count": 1,
   "metadata": {
    "collapsed": false,
    "slideshow": {
     "slide_type": "skip"
    }
   },
   "outputs": [
    {
     "data": {
      "text/html": [
       "<script>requirejs.config({paths: { 'plotly': ['https://cdn.plot.ly/plotly-latest.min']},});if(!window.Plotly) {{require(['plotly'],function(plotly) {window.Plotly=plotly;});}}</script>"
      ],
      "text/plain": [
       "<IPython.core.display.HTML object>"
      ]
     },
     "metadata": {},
     "output_type": "display_data"
    }
   ],
   "source": [
    "import iplantuml\n",
    "import datetime\n",
    "import terawatt_model\n",
    "\n",
    "from plotly.offline import download_plotlyjs, init_notebook_mode, plot, iplot\n",
    "import plotly.graph_objs as go\n",
    "# run at the start of every ipython notebook to use plotly.offline\n",
    "# this injects the plotly.js source files into the notebook\n",
    "init_notebook_mode(connected=True)\n",
    "\n",
    "from IPython.display import IFrame\n",
    "import numpy"
   ]
  },
  {
   "cell_type": "markdown",
   "metadata": {
    "slideshow": {
     "slide_type": "slide"
    }
   },
   "source": [
    "### System with set of input and outputs"
   ]
  },
  {
   "cell_type": "code",
   "execution_count": 26,
   "metadata": {
    "collapsed": false,
    "slideshow": {
     "slide_type": "skip"
    }
   },
   "outputs": [],
   "source": [
    "import random\n",
    "\n",
    "# Timeconsuming calculation\n",
    "\n",
    "sun = terawatt_model.Sun()\n",
    "photovoltaic = terawatt_model.Photovoltaic()\n",
    "car1 = terawatt_model.Car()\n",
    "car2 = terawatt_model.Car()\n",
    "provider = terawatt_model.Provider()\n",
    "battery = terawatt_model.Battery()\n",
    "electrolysis = terawatt_model.Electrolysis()\n",
    "methanization = terawatt_model.Methanization()\n",
    "cogeneration = terawatt_model.Cogeneration()\n",
    "time_start = datetime.datetime(2016, 9, 24, 0, 0, 0, 0)\n",
    "\n",
    "start = dict(\n",
    "    car1_energy = random.randint(0, car1.energy_max.electrical),\n",
    "    charge_car1 = random.randint(0, 19),\n",
    "    car2_energy = random.randint(0, car2.energy_max.electrical),\n",
    "    charge_car2 = random.randint(0, 20),\n",
    "    battery_energy = random.randint(0, battery.energy_max.electrical),\n",
    ")\n",
    "\n",
    "# Unrandomize\n",
    "start['car1_energy'] = 7000\n",
    "start['charge_car1'] = 8\n",
    "start['car2_energy'] = 12000\n",
    "start['charge_car2'] = 18\n",
    "start['battery_energy'] = 22000\n",
    "\n",
    "\n",
    "car1.energy_now.electrical = start['car1_energy']\n",
    "car2.energy_now.electrical = start['car2_energy']\n",
    "battery.battery_current_energy = start['battery_energy']"
   ]
  },
  {
   "cell_type": "code",
   "execution_count": 27,
   "metadata": {
    "collapsed": false,
    "slideshow": {
     "slide_type": "fragment"
    }
   },
   "outputs": [
    {
     "name": "stdout",
     "output_type": "stream",
     "text": [
      "Energy - Start of day\n",
      "Car 1 - electrical energy 7000 Wh\n",
      "Car 1 - start of charge 8\n",
      "Car 2 - electrical energy 12000 Wh\n",
      "Car 2 - start of charge 18\n",
      "Battery - electrical energy 22000 Wh\n",
      "Cogeneration - Methane 0 Wh\n",
      "Provider - electrical energy 0 Wh\n"
     ]
    }
   ],
   "source": [
    "print('Energy - Start of day')\n",
    "print('Car 1 - electrical energy', round(car1.energy_now.electrical), 'Wh')\n",
    "print('Car 1 - start of charge', start['charge_car1'])\n",
    "print('Car 2 - electrical energy', round(car2.energy_now.electrical), 'Wh')\n",
    "print('Car 2 - start of charge', start['charge_car2'])\n",
    "print('Battery - electrical energy', round(battery.battery_current_energy), 'Wh')\n",
    "print('Cogeneration - Methane', round(cogeneration.energy_now.chemical), 'Wh')\n",
    "print('Provider - electrical energy', round(provider.energy_consumed.electrical), 'Wh')"
   ]
  },
  {
   "cell_type": "code",
   "execution_count": 28,
   "metadata": {
    "collapsed": false,
    "slideshow": {
     "slide_type": "skip"
    }
   },
   "outputs": [],
   "source": [
    "t = []\n",
    "r1 = []\n",
    "r2 = []\n",
    "r3 = []\n",
    "r4 = []\n",
    "r5 = []\n",
    "r6 = []\n",
    "r7 = []\n",
    "# Run for timestep\n",
    "for dt in range(0, 3600*24-1, terawatt_model.timestep):\n",
    "    time = time_start + datetime.timedelta(0,dt) # days, seconds\n",
    "    \n",
    "    power = sun.update(time=time)\n",
    "    power = photovoltaic.update(power, time=time)\n",
    "    \n",
    "    power = battery.update(power, state='consume')\n",
    "    power = electrolysis.update(power, state='both', power_requested=methanization.get_power_in_max())\n",
    "    power = methanization.update(power, state='both', power_requested=methanization.get_power_out_max())\n",
    "    power = cogeneration.update(power, state='consume')\n",
    "    \n",
    "    # Consumers\n",
    "    power_requested = terawatt_model.Power()\n",
    "    if start['charge_car1'] <= time.hour <= start['charge_car1'] + 4:\n",
    "        # cannot compare against full charge. Due to incremental energies we never reach full charge exactly.\n",
    "        if car1.energy_now.electrical < 0.99*car1.energy_max.electrical:\n",
    "            power_requested.electrical += car1.get_power_in_max().electrical\n",
    "    \n",
    "    if start['charge_car2'] <= time.hour <= start['charge_car2'] + 4:\n",
    "        if car2.energy_now.electrical < 0.99*car2.energy_max.electrical:\n",
    "            power_requested.electrical += car2.get_power_in_max().electrical\n",
    "        \n",
    "    power_requested.chemical += cogeneration.power_conversion_electrical_to_chemical(power_requested.electrical).chemical\n",
    "    power = cogeneration.update(power, state='provide', power_requested=power_requested)\n",
    "    power_requested.electrical -= power.electrical\n",
    "    power = battery.update(power, state='provide', power_requested=power_requested)\n",
    "\n",
    "    if start['charge_car1'] <= time.hour <= start['charge_car1'] + 4:\n",
    "        power = car1.update(power)\n",
    "    if start['charge_car2'] <= time.hour <= start['charge_car2'] + 4:\n",
    "        power = car2.update(power)\n",
    "\n",
    "    power = provider.update(power)\n",
    "    \n",
    "    # Store only each minute\n",
    "    if dt%60:\n",
    "        t.append(time)\n",
    "        r1.append(photovoltaic.power.electrical)\n",
    "        r2.append(battery.energy_now.electrical)\n",
    "        r3.append(car1.energy_now.electrical)\n",
    "        r4.append(car2.energy_now.electrical)\n",
    "        r5.append(electrolysis.energy_now.chemical)\n",
    "        r6.append(cogeneration.energy_now.chemical)\n",
    "        r7.append(cogeneration.power.electrical)"
   ]
  },
  {
   "cell_type": "markdown",
   "metadata": {
    "slideshow": {
     "slide_type": "slide"
    }
   },
   "source": [
    "### System with set of input and outputs"
   ]
  },
  {
   "cell_type": "code",
   "execution_count": 29,
   "metadata": {
    "collapsed": false,
    "slideshow": {
     "slide_type": "fragment"
    }
   },
   "outputs": [
    {
     "name": "stdout",
     "output_type": "stream",
     "text": [
      "Energy - End of day\n",
      "Car 1 - electrical energy 21780 Wh\n",
      "Car 1 - start of charge 8\n",
      "Car 2 - electrical energy 21781 Wh\n",
      "Car 2 - start of charge 18\n",
      "Battery - electrical energy 17102 Wh\n",
      "Cogeneration - Methane 2177 Wh\n",
      "Provider - electrical energy 0 Wh\n"
     ]
    }
   ],
   "source": [
    "print('Energy - End of day')\n",
    "print('Car 1 - electrical energy', round(car1.energy_now.electrical), 'Wh')\n",
    "print('Car 1 - start of charge', start['charge_car1'])\n",
    "print('Car 2 - electrical energy', round(car2.energy_now.electrical), 'Wh')\n",
    "print('Car 2 - start of charge', start['charge_car2'])\n",
    "print('Battery - electrical energy', round(battery.energy_now.electrical), 'Wh')\n",
    "print('Cogeneration - Methane', round(cogeneration.energy_now.chemical), 'Wh')\n",
    "print('Provider - electrical energy', round(provider.energy_consumed.electrical), 'Wh')"
   ]
  },
  {
   "cell_type": "code",
   "execution_count": 30,
   "metadata": {
    "collapsed": false,
    "slideshow": {
     "slide_type": "skip"
    }
   },
   "outputs": [
    {
     "data": {
      "text/plain": [
       "'file:///home/vagrant/what-the-data/pictures/cars_delayed_charging_random_load_3.html'"
      ]
     },
     "execution_count": 30,
     "metadata": {},
     "output_type": "execute_result"
    }
   ],
   "source": [
    "# Create a trace\n",
    "trace1 = go.Scatter(\n",
    "    x = t,\n",
    "    y = r1,\n",
    "    name = 'Photovoltaic charging power',\n",
    ")\n",
    "trace2 = go.Scatter(\n",
    "    x = t,\n",
    "    y = r2,\n",
    "    name = 'Buffer battery energy',\n",
    "    yaxis='y2',\n",
    ")\n",
    "trace3 = go.Scatter(\n",
    "    x = t,\n",
    "    y = r3,\n",
    "    name = 'Car 1 battery energy',\n",
    "    yaxis='y2',\n",
    ")\n",
    "trace4 = go.Scatter(\n",
    "    x = t,\n",
    "    y = r4,\n",
    "    name = 'Car 2 battery energy',\n",
    "    line = dict( color = 'black', dash = 4 ),\n",
    "    yaxis='y2',\n",
    ")\n",
    "trace5 = go.Scatter(\n",
    "    x = t,\n",
    "    y = r5,\n",
    "    name = 'Electrolysis chemical energy',\n",
    "    line = dict( color = 'red' ),\n",
    "    yaxis='y2',\n",
    ")\n",
    "trace6 = go.Scatter(\n",
    "    x = t,\n",
    "    y = r6,\n",
    "    name = 'Cogeneration chemical energy',\n",
    "    line = dict( color = 'violett'),\n",
    "    yaxis='y2',\n",
    ")\n",
    "trace7 = go.Scatter(\n",
    "    x = t,\n",
    "    y = r7,\n",
    "    name = 'Cogeneration power',\n",
    ")\n",
    "data = [trace1, trace2, trace3, trace4, trace5, trace6, trace7]\n",
    "\n",
    "layout = go.Layout(\n",
    "                xaxis=go.XAxis(title='Time of day'),\n",
    "                yaxis=go.YAxis(title='W'),\n",
    "                yaxis2=go.YAxis(\n",
    "                            title='Wh',\n",
    "                            #titlefont={color:'rgb(148, 103, 189)'},\n",
    "                            #tickfont={color:'rgb(148, 103, 189)'},\n",
    "                            overlaying='y',\n",
    "                            side='right'\n",
    "                )\n",
    ")\n",
    "fig = go.Figure(data=data, layout=layout)\n",
    "plot(fig, filename='pictures/cars_delayed_charging_random_load_3.html', include_plotlyjs=True, show_link=False)"
   ]
  },
  {
   "cell_type": "code",
   "execution_count": 31,
   "metadata": {
    "collapsed": false,
    "slideshow": {
     "slide_type": "slide"
    }
   },
   "outputs": [
    {
     "data": {
      "text/html": [
       "\n",
       "        <iframe\n",
       "            width=\"900\"\n",
       "            height=\"500\"\n",
       "            src=\"pictures/cars_delayed_charging_random_load_3.html\"\n",
       "            frameborder=\"0\"\n",
       "            allowfullscreen\n",
       "        ></iframe>\n",
       "        "
      ],
      "text/plain": [
       "<IPython.lib.display.IFrame at 0x7fc42909fe10>"
      ]
     },
     "execution_count": 31,
     "metadata": {},
     "output_type": "execute_result"
    }
   ],
   "source": [
    "IFrame('pictures/cars_delayed_charging_random_load_3.html', width=900, height=500)"
   ]
  },
  {
   "cell_type": "markdown",
   "metadata": {
    "slideshow": {
     "slide_type": "slide"
    }
   },
   "source": [
    "### Undisciplined agents    (red : not enough fuel)"
   ]
  },
  {
   "cell_type": "code",
   "execution_count": 3,
   "metadata": {
    "collapsed": false,
    "slideshow": {
     "slide_type": "skip"
    }
   },
   "outputs": [
    {
     "data": {
      "text/plain": [
       "'file:///home/vagrant/what-the-data/pictures/agents_undisciplined.html'"
      ]
     },
     "execution_count": 3,
     "metadata": {},
     "output_type": "execute_result"
    }
   ],
   "source": [
    "import json\n",
    "import os\n",
    "\n",
    "with open(os.path.join('terawatt_simulation', 'agents_undisciplined.dat')) as json_data:\n",
    "    data = json.load(json_data)\n",
    "\n",
    "\n",
    "z = []\n",
    "x = []\n",
    "for i,data_agent in enumerate(data):\n",
    "    c1 = []\n",
    "    c2 = []\n",
    "    x.append(str(data_agent[1]['car1_distance_work'])+' km '+str(data_agent[1]['charge_car1_start'])+' h') #+str(i*2))\n",
    "    x.append(str(data_agent[1]['car2_distance_work'])+' km '+str(data_agent[1]['charge_car2_start'])+' h') #+str(i*2+1)) \n",
    "    for d in data_agent:\n",
    "        c1.append(int(d['car1_drive_success']))\n",
    "        c2.append(int(d['car2_drive_success']))\n",
    "    z.append(c1)\n",
    "    z.append(c2)\n",
    "\n",
    "colorscale = [[0, 'red'], [1, '#001f3f']]\n",
    "hm = [\n",
    "    go.Heatmap(\n",
    "        z=numpy.transpose(z),\n",
    "        x=numpy.transpose(x),\n",
    "        colorscale=colorscale,\n",
    "        showscale=False,\n",
    "    ),\n",
    "#    go.Scatter(\n",
    "#        x = ['91 km 19 h','91 km 19 h'],\n",
    "#        y = [0, len(z[1])],\n",
    "#    )\n",
    "]\n",
    "\n",
    "layout = go.Layout(\n",
    "    xaxis = dict( tickangle=90),\n",
    ")\n",
    "\n",
    "figure = dict(data=hm, layout=layout)\n",
    "\n",
    "plot(figure, filename='pictures/agents_undisciplined.html', include_plotlyjs=True, show_link=False)"
   ]
  },
  {
   "cell_type": "code",
   "execution_count": 4,
   "metadata": {
    "collapsed": false,
    "slideshow": {
     "slide_type": "fragment"
    }
   },
   "outputs": [
    {
     "data": {
      "text/html": [
       "\n",
       "        <iframe\n",
       "            width=\"700\"\n",
       "            height=\"400\"\n",
       "            src=\"pictures/agents_undisciplined.html\"\n",
       "            frameborder=\"0\"\n",
       "            allowfullscreen\n",
       "        ></iframe>\n",
       "        "
      ],
      "text/plain": [
       "<IPython.lib.display.IFrame at 0x7f5bcf563c88>"
      ]
     },
     "execution_count": 4,
     "metadata": {},
     "output_type": "execute_result"
    }
   ],
   "source": [
    "IFrame('pictures/agents_undisciplined.html', width=700, height=400)"
   ]
  },
  {
   "cell_type": "markdown",
   "metadata": {
    "slideshow": {
     "slide_type": "slide"
    }
   },
   "source": [
    "### Cooperating agents  (red : not enough fuel)"
   ]
  },
  {
   "cell_type": "code",
   "execution_count": 45,
   "metadata": {
    "collapsed": false,
    "slideshow": {
     "slide_type": "skip"
    }
   },
   "outputs": [
    {
     "data": {
      "text/plain": [
       "'file:///home/vagrant/what-the-data/pictures/agents_cooperation.html'"
      ]
     },
     "execution_count": 45,
     "metadata": {},
     "output_type": "execute_result"
    }
   ],
   "source": [
    "import json\n",
    "import os\n",
    "\n",
    "with open(os.path.join('terawatt_simulation', 'agents_cooperation.dat')) as json_data:\n",
    "    data = json.load(json_data)\n",
    "\n",
    "\n",
    "z = []\n",
    "x = []\n",
    "for i,data_agent in enumerate(data):\n",
    "    c1 = []\n",
    "    c2 = []\n",
    "    x.append(str(data_agent[1]['car1_distance_work'])+' km '+str(data_agent[1]['charge_car1_start'])+' h') #+str(i*2))\n",
    "    x.append(str(data_agent[1]['car2_distance_work'])+' km '+str(data_agent[1]['max_energy_timestamp']/3600)+' h') #+str(i*2+1)) \n",
    "    for d in data_agent:\n",
    "        c1.append(int(d['car1_drive_success']))\n",
    "        c2.append(int(d['car2_drive_success']))\n",
    "    z.append(c1)\n",
    "    z.append(c2)\n",
    "\n",
    "colorscale = [[0, 'red'], [1, '#001f3f']]\n",
    "hm = [\n",
    "    go.Heatmap(\n",
    "        z=numpy.transpose(z),\n",
    "        x=numpy.transpose(x),\n",
    "        colorscale=colorscale,\n",
    "        showscale=False,\n",
    "    )\n",
    "]\n",
    "\n",
    "layout = go.Layout(\n",
    "    xaxis = dict( tickangle=90),\n",
    ")\n",
    "\n",
    "figure = dict(data=hm, layout=layout)\n",
    "\n",
    "plot(figure, filename='pictures/agents_cooperation.html', include_plotlyjs=True, show_link=False)"
   ]
  },
  {
   "cell_type": "code",
   "execution_count": 46,
   "metadata": {
    "collapsed": false,
    "slideshow": {
     "slide_type": "fragment"
    }
   },
   "outputs": [
    {
     "data": {
      "text/html": [
       "\n",
       "        <iframe\n",
       "            width=\"700\"\n",
       "            height=\"400\"\n",
       "            src=\"pictures/agents_cooperation.html\"\n",
       "            frameborder=\"0\"\n",
       "            allowfullscreen\n",
       "        ></iframe>\n",
       "        "
      ],
      "text/plain": [
       "<IPython.lib.display.IFrame at 0x7fece5ea5cc0>"
      ]
     },
     "execution_count": 46,
     "metadata": {},
     "output_type": "execute_result"
    }
   ],
   "source": [
    "IFrame('pictures/agents_cooperation.html', width=700, height=400)"
   ]
  },
  {
   "cell_type": "markdown",
   "metadata": {
    "collapsed": true,
    "slideshow": {
     "slide_type": "slide"
    }
   },
   "source": [
    "### Undisciplined agents - Deficit by provider"
   ]
  },
  {
   "cell_type": "code",
   "execution_count": 5,
   "metadata": {
    "collapsed": false,
    "slideshow": {
     "slide_type": "skip"
    }
   },
   "outputs": [
    {
     "data": {
      "text/plain": [
       "'file:///home/vagrant/what-the-data/pictures/agents_undisciplined_provider.html'"
      ]
     },
     "execution_count": 5,
     "metadata": {},
     "output_type": "execute_result"
    }
   ],
   "source": [
    "import json\n",
    "import os\n",
    "\n",
    "with open(os.path.join('terawatt_simulation_real_data', 'agents_undisciplined_provider.dat')) as json_data:\n",
    "    data = json.load(json_data)\n",
    "\n",
    "\n",
    "z = []\n",
    "x = []\n",
    "for i,data_agent in enumerate(data):\n",
    "    c1 = []\n",
    "    c2 = []\n",
    "    x.append(str(data_agent[1]['car1_distance_work'])+' km '+str(data_agent[1]['charge_car1_start'])+' h') #+str(i*2))\n",
    "    x.append(str(data_agent[1]['car2_distance_work'])+' km '+str(data_agent[1]['charge_car2_start'])+' h') #+str(i*2+1)) \n",
    "    for d in data_agent:\n",
    "        c1.append(float(d['car1_energy']))\n",
    "        c2.append(float(d['car2_energy']))\n",
    "    z.append(c1)\n",
    "    z.append(c2)\n",
    "\n",
    "colorscale = [[1, '#001f3f'], [0, 'red']]\n",
    "hm = [\n",
    "    go.Heatmap(\n",
    "        z=numpy.transpose(z),\n",
    "        x=numpy.transpose(x),\n",
    "        #colorscale=colorscale,\n",
    "        #showscale=False,\n",
    "    )\n",
    "]\n",
    "\n",
    "layout = go.Layout(\n",
    "    xaxis = dict( tickangle=90),\n",
    ")\n",
    "\n",
    "figure = dict(data=hm, layout=layout)\n",
    "\n",
    "plot(figure, filename='pictures/agents_undisciplined_provider.html', include_plotlyjs=True, show_link=False)"
   ]
  },
  {
   "cell_type": "code",
   "execution_count": 6,
   "metadata": {
    "collapsed": false,
    "slideshow": {
     "slide_type": "fragment"
    }
   },
   "outputs": [
    {
     "data": {
      "text/html": [
       "\n",
       "        <iframe\n",
       "            width=\"700\"\n",
       "            height=\"400\"\n",
       "            src=\"pictures/agents_undisciplined_provider.html\"\n",
       "            frameborder=\"0\"\n",
       "            allowfullscreen\n",
       "        ></iframe>\n",
       "        "
      ],
      "text/plain": [
       "<IPython.lib.display.IFrame at 0x7f5bf8362160>"
      ]
     },
     "execution_count": 6,
     "metadata": {},
     "output_type": "execute_result"
    }
   ],
   "source": [
    "IFrame('pictures/agents_undisciplined_provider.html', width=700, height=400)"
   ]
  },
  {
   "cell_type": "markdown",
   "metadata": {
    "slideshow": {
     "slide_type": "slide"
    }
   },
   "source": [
    "### Cooperating agents - Deficit by provider"
   ]
  },
  {
   "cell_type": "code",
   "execution_count": 11,
   "metadata": {
    "collapsed": false,
    "slideshow": {
     "slide_type": "skip"
    }
   },
   "outputs": [
    {
     "data": {
      "text/plain": [
       "'file:///home/vagrant/what-the-data/pictures/agents_cooperation_provider.html'"
      ]
     },
     "execution_count": 11,
     "metadata": {},
     "output_type": "execute_result"
    }
   ],
   "source": [
    "import json\n",
    "import os\n",
    "\n",
    "with open(os.path.join('terawatt_simulation', 'agents_cooperation_provider.dat')) as json_data:\n",
    "    data = json.load(json_data)\n",
    "\n",
    "\n",
    "z = []\n",
    "x = []\n",
    "for i,data_agent in enumerate(data):\n",
    "    c1 = []\n",
    "    c2 = []\n",
    "    x.append(str(data_agent[1]['car1_distance_work'])+' km '+str(data_agent[1]['charge_car1_start'])+' h') #+str(i*2))\n",
    "    x.append(str(data_agent[1]['car2_distance_work'])+' km '+str(data_agent[1]['max_energy_timestamp']/3600)+' h') #+str(i*2+1))\n",
    "    for d in data_agent:\n",
    "        c1.append(float(d['car1_energy']))\n",
    "        c2.append(float(d['car2_energy']))\n",
    "    z.append(c1)\n",
    "    z.append(c2)\n",
    "\n",
    "colorscale = [[1, '#001f3f'], [0, 'red']]\n",
    "hm = [\n",
    "    go.Heatmap(\n",
    "        z=numpy.transpose(z),\n",
    "        x=numpy.transpose(x),\n",
    "        #colorscale=colorscale,\n",
    "        #showscale=False,\n",
    "    )\n",
    "]\n",
    "\n",
    "layout = go.Layout(\n",
    "    xaxis = dict( tickangle=90),\n",
    ")\n",
    "\n",
    "figure = dict(data=hm, layout=layout)\n",
    "\n",
    "plot(figure, filename='pictures/agents_cooperation_provider.html', include_plotlyjs=True, show_link=False)"
   ]
  },
  {
   "cell_type": "code",
   "execution_count": 12,
   "metadata": {
    "collapsed": false,
    "slideshow": {
     "slide_type": "fragment"
    }
   },
   "outputs": [
    {
     "data": {
      "text/html": [
       "\n",
       "        <iframe\n",
       "            width=\"700\"\n",
       "            height=\"400\"\n",
       "            src=\"pictures/agents_cooperation_provider.html\"\n",
       "            frameborder=\"0\"\n",
       "            allowfullscreen\n",
       "        ></iframe>\n",
       "        "
      ],
      "text/plain": [
       "<IPython.lib.display.IFrame at 0x7f5bcf0552b0>"
      ]
     },
     "execution_count": 12,
     "metadata": {},
     "output_type": "execute_result"
    }
   ],
   "source": [
    "IFrame('pictures/agents_cooperation_provider.html', width=700, height=400)"
   ]
  },
  {
   "cell_type": "markdown",
   "metadata": {
    "collapsed": true
   },
   "source": []
  }
 ],
 "metadata": {
  "celltoolbar": "Slideshow",
  "kernelspec": {
   "display_name": "Python 3",
   "language": "python",
   "name": "python3"
  },
  "language_info": {
   "codemirror_mode": {
    "name": "ipython",
    "version": 3
   },
   "file_extension": ".py",
   "mimetype": "text/x-python",
   "name": "python",
   "nbconvert_exporter": "python",
   "pygments_lexer": "ipython3",
   "version": "3.5.2"
  }
 },
 "nbformat": 4,
 "nbformat_minor": 1
}
